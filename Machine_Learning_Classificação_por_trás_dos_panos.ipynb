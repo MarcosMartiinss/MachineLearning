{
  "nbformat": 4,
  "nbformat_minor": 0,
  "metadata": {
    "colab": {
      "provenance": []
    },
    "kernelspec": {
      "name": "python3",
      "display_name": "Python 3"
    },
    "language_info": {
      "name": "python"
    }
  },
  "cells": [
    {
      "cell_type": "markdown",
      "source": [
        "problemas de classificação é basicamente sim ou não, será que ele vai comrpar? será que o aluno vai reprovar? será que o meu funcionario vai pedir as contas?"
      ],
      "metadata": {
        "id": "aAEHu1m-U05x"
      }
    },
    {
      "cell_type": "code",
      "source": [],
      "metadata": {
        "id": "XdbNPS23U0gB"
      },
      "execution_count": null,
      "outputs": []
    },
    {
      "cell_type": "code",
      "execution_count": null,
      "metadata": {
        "id": "Wv0MZeFruxyI"
      },
      "outputs": [],
      "source": [
        "# gordinho?\n",
        "# perna curta?\n",
        "# faz au au?\n",
        "porco1 = [1, 1, 0]\n",
        "porco2 = [1, 1, 0]\n",
        "porco3 = [1, 1, 0]\n",
        "\n",
        "cachorro1 = [1, 1, 1]\n",
        "cachorro2 = [0, 1, 1]\n",
        "cachorro3 = [0, 1, 1]"
      ]
    },
    {
      "cell_type": "code",
      "source": [
        "# porco = 1\n",
        "# cachorro = -1\n",
        "dados = [porco1, porco2, porco3, cachorro1, cachorro2, cachorro3]\n",
        "labels = [1, 1, 1, -1, -1, -1]\n",
        "misterioso1 = [1, 1, 1]\n",
        "misterioso2 = [1, 0, 0]\n",
        "misterioso3 = [0, 0, 1]\n",
        "teste = [misterioso1, misterioso2, misterioso3]"
      ],
      "metadata": {
        "id": "tYh-_cxY1BS9"
      },
      "execution_count": null,
      "outputs": []
    },
    {
      "cell_type": "code",
      "source": [
        "from sklearn.naive_bayes import MultinomialNB\n",
        "\n",
        "# criando o modelo\n",
        "modelo = MultinomialNB()\n",
        "# vc passa a base de dados e as marcacoes \n",
        "# 1 e porco e 0 é cachorro\n",
        "# então está treinado com fit\n",
        "modelo.fit(dados, labels)\n",
        "\n",
        "# agr estou pedindo pro modelo me dizer qual dos dois animal é esse\n",
        "# misterioso, porco ou cachorro?\n",
        "resultado = modelo.predict(teste)\n",
        "# o modelo falou que os dois são cachorros, pois a base de dados\n",
        "# só os cachorros fazem au au"
      ],
      "metadata": {
        "id": "y1IVFO971Unt"
      },
      "execution_count": null,
      "outputs": []
    },
    {
      "cell_type": "markdown",
      "source": [
        "Todo algortimo de machine learning tem uma taxa de erro e precisamos saber qual a porcentagem de erro devemos aceitar.\n",
        "No mundo real os testes tem milhares de elementos, então precisamos de um número para mostrar o quanto acertamos ou não e pra isso pegamos os valores reais e comparamos com os valores testados"
      ],
      "metadata": {
        "id": "AGC8HhMqRoFp"
      }
    },
    {
      "cell_type": "code",
      "source": [
        "# valores reais \n",
        "marcacoes_teste = [-1, 1, -1]\n",
        "# diferença entre resultado do algoritmo e os dados reais\n",
        "diferencas = resultado - marcacoes_teste\n",
        "acertos = [d for d in diferencas if d == 0]\n",
        "total_de_acertos = len(acertos)\n",
        "total_de_elementos = len(teste)\n",
        "\n",
        "taxa_e_acerto = total_de_acertos / total_de_elementos * 100\n",
        "print(taxa_e_acerto)\n",
        "\n",
        "# então para calcular a taxa de acertos é saber o quantos porcentos da base de usar \n",
        "# para treino e quantos porcentos usar para teste"
      ],
      "metadata": {
        "colab": {
          "base_uri": "https://localhost:8080/"
        },
        "id": "lflCA8JY1cMI",
        "outputId": "a366076a-e787-48f9-a000-3bdf8bec9b15"
      },
      "execution_count": null,
      "outputs": [
        {
          "output_type": "stream",
          "name": "stdout",
          "text": [
            "100.0\n"
          ]
        }
      ]
    },
    {
      "cell_type": "code",
      "source": [
        "# agr é um problema se o cliente vai ou não comprar um curso online utilizando 3 páginas\n",
        "# acessou a página home?\n",
        "# acessou a página de como funciona?\n",
        "# acessou a página de contato\n",
        "# comprou?\n",
        "\n",
        "# básicamente em quase todas as tabela, a última coluna é a marcação, a variável resposta\n",
        "# as demais colunas é as caracteristicas, as variáveis explicativas para termos uma base\n",
        "# se o cliente vai comprar ou não\n",
        "# então \"x\" é os dados de explicação e \"y\" é os dados de resposta os dados que queremos prever\n",
        "\n",
        "1,0,1,1\n",
        "0,1,0,0\n",
        "1,1,0,1\n",
        "0,1,0,1"
      ],
      "metadata": {
        "colab": {
          "base_uri": "https://localhost:8080/"
        },
        "id": "-bSISW20TDkj",
        "outputId": "1be76f9c-9ec3-4e3e-cf9e-be9d4ba2f967"
      },
      "execution_count": null,
      "outputs": [
        {
          "output_type": "execute_result",
          "data": {
            "text/plain": [
              "(0, 1, 0, 1)"
            ]
          },
          "metadata": {},
          "execution_count": 5
        }
      ]
    },
    {
      "cell_type": "code",
      "source": [
        "import pandas as pd\n",
        "\n",
        "df = pd.read_csv(\"acesso.csv\")\n",
        "df.head()"
      ],
      "metadata": {
        "colab": {
          "base_uri": "https://localhost:8080/",
          "height": 206
        },
        "id": "HvIesKzpXw0E",
        "outputId": "5fef0322-1ed8-4de3-a9de-b1a1972db579"
      },
      "execution_count": null,
      "outputs": [
        {
          "output_type": "execute_result",
          "data": {
            "text/plain": [
              "   acessou_home  acessou_como_funciona  acessou_contato  comprou\n",
              "0             1                      1                0        0\n",
              "1             1                      1                0        0\n",
              "2             1                      1                0        0\n",
              "3             1                      1                0        0\n",
              "4             1                      1                0        0"
            ],
            "text/html": [
              "\n",
              "  <div id=\"df-38581449-d75a-4cb8-8a78-90b85a4ae40f\">\n",
              "    <div class=\"colab-df-container\">\n",
              "      <div>\n",
              "<style scoped>\n",
              "    .dataframe tbody tr th:only-of-type {\n",
              "        vertical-align: middle;\n",
              "    }\n",
              "\n",
              "    .dataframe tbody tr th {\n",
              "        vertical-align: top;\n",
              "    }\n",
              "\n",
              "    .dataframe thead th {\n",
              "        text-align: right;\n",
              "    }\n",
              "</style>\n",
              "<table border=\"1\" class=\"dataframe\">\n",
              "  <thead>\n",
              "    <tr style=\"text-align: right;\">\n",
              "      <th></th>\n",
              "      <th>acessou_home</th>\n",
              "      <th>acessou_como_funciona</th>\n",
              "      <th>acessou_contato</th>\n",
              "      <th>comprou</th>\n",
              "    </tr>\n",
              "  </thead>\n",
              "  <tbody>\n",
              "    <tr>\n",
              "      <th>0</th>\n",
              "      <td>1</td>\n",
              "      <td>1</td>\n",
              "      <td>0</td>\n",
              "      <td>0</td>\n",
              "    </tr>\n",
              "    <tr>\n",
              "      <th>1</th>\n",
              "      <td>1</td>\n",
              "      <td>1</td>\n",
              "      <td>0</td>\n",
              "      <td>0</td>\n",
              "    </tr>\n",
              "    <tr>\n",
              "      <th>2</th>\n",
              "      <td>1</td>\n",
              "      <td>1</td>\n",
              "      <td>0</td>\n",
              "      <td>0</td>\n",
              "    </tr>\n",
              "    <tr>\n",
              "      <th>3</th>\n",
              "      <td>1</td>\n",
              "      <td>1</td>\n",
              "      <td>0</td>\n",
              "      <td>0</td>\n",
              "    </tr>\n",
              "    <tr>\n",
              "      <th>4</th>\n",
              "      <td>1</td>\n",
              "      <td>1</td>\n",
              "      <td>0</td>\n",
              "      <td>0</td>\n",
              "    </tr>\n",
              "  </tbody>\n",
              "</table>\n",
              "</div>\n",
              "      <button class=\"colab-df-convert\" onclick=\"convertToInteractive('df-38581449-d75a-4cb8-8a78-90b85a4ae40f')\"\n",
              "              title=\"Convert this dataframe to an interactive table.\"\n",
              "              style=\"display:none;\">\n",
              "        \n",
              "  <svg xmlns=\"http://www.w3.org/2000/svg\" height=\"24px\"viewBox=\"0 0 24 24\"\n",
              "       width=\"24px\">\n",
              "    <path d=\"M0 0h24v24H0V0z\" fill=\"none\"/>\n",
              "    <path d=\"M18.56 5.44l.94 2.06.94-2.06 2.06-.94-2.06-.94-.94-2.06-.94 2.06-2.06.94zm-11 1L8.5 8.5l.94-2.06 2.06-.94-2.06-.94L8.5 2.5l-.94 2.06-2.06.94zm10 10l.94 2.06.94-2.06 2.06-.94-2.06-.94-.94-2.06-.94 2.06-2.06.94z\"/><path d=\"M17.41 7.96l-1.37-1.37c-.4-.4-.92-.59-1.43-.59-.52 0-1.04.2-1.43.59L10.3 9.45l-7.72 7.72c-.78.78-.78 2.05 0 2.83L4 21.41c.39.39.9.59 1.41.59.51 0 1.02-.2 1.41-.59l7.78-7.78 2.81-2.81c.8-.78.8-2.07 0-2.86zM5.41 20L4 18.59l7.72-7.72 1.47 1.35L5.41 20z\"/>\n",
              "  </svg>\n",
              "      </button>\n",
              "      \n",
              "  <style>\n",
              "    .colab-df-container {\n",
              "      display:flex;\n",
              "      flex-wrap:wrap;\n",
              "      gap: 12px;\n",
              "    }\n",
              "\n",
              "    .colab-df-convert {\n",
              "      background-color: #E8F0FE;\n",
              "      border: none;\n",
              "      border-radius: 50%;\n",
              "      cursor: pointer;\n",
              "      display: none;\n",
              "      fill: #1967D2;\n",
              "      height: 32px;\n",
              "      padding: 0 0 0 0;\n",
              "      width: 32px;\n",
              "    }\n",
              "\n",
              "    .colab-df-convert:hover {\n",
              "      background-color: #E2EBFA;\n",
              "      box-shadow: 0px 1px 2px rgba(60, 64, 67, 0.3), 0px 1px 3px 1px rgba(60, 64, 67, 0.15);\n",
              "      fill: #174EA6;\n",
              "    }\n",
              "\n",
              "    [theme=dark] .colab-df-convert {\n",
              "      background-color: #3B4455;\n",
              "      fill: #D2E3FC;\n",
              "    }\n",
              "\n",
              "    [theme=dark] .colab-df-convert:hover {\n",
              "      background-color: #434B5C;\n",
              "      box-shadow: 0px 1px 3px 1px rgba(0, 0, 0, 0.15);\n",
              "      filter: drop-shadow(0px 1px 2px rgba(0, 0, 0, 0.3));\n",
              "      fill: #FFFFFF;\n",
              "    }\n",
              "  </style>\n",
              "\n",
              "      <script>\n",
              "        const buttonEl =\n",
              "          document.querySelector('#df-38581449-d75a-4cb8-8a78-90b85a4ae40f button.colab-df-convert');\n",
              "        buttonEl.style.display =\n",
              "          google.colab.kernel.accessAllowed ? 'block' : 'none';\n",
              "\n",
              "        async function convertToInteractive(key) {\n",
              "          const element = document.querySelector('#df-38581449-d75a-4cb8-8a78-90b85a4ae40f');\n",
              "          const dataTable =\n",
              "            await google.colab.kernel.invokeFunction('convertToInteractive',\n",
              "                                                     [key], {});\n",
              "          if (!dataTable) return;\n",
              "\n",
              "          const docLinkHtml = 'Like what you see? Visit the ' +\n",
              "            '<a target=\"_blank\" href=https://colab.research.google.com/notebooks/data_table.ipynb>data table notebook</a>'\n",
              "            + ' to learn more about interactive tables.';\n",
              "          element.innerHTML = '';\n",
              "          dataTable['output_type'] = 'display_data';\n",
              "          await google.colab.output.renderOutput(dataTable, element);\n",
              "          const docLink = document.createElement('div');\n",
              "          docLink.innerHTML = docLinkHtml;\n",
              "          element.appendChild(docLink);\n",
              "        }\n",
              "      </script>\n",
              "    </div>\n",
              "  </div>\n",
              "  "
            ]
          },
          "metadata": {},
          "execution_count": 6
        }
      ]
    },
    {
      "cell_type": "code",
      "source": [
        "X = df[[\"acessou_home\", \"acessou_como_funciona\", \"acessou_contato\"]]\n",
        "Y = df[[\"comprou\"]]"
      ],
      "metadata": {
        "id": "3vl0M-nXYj-n"
      },
      "execution_count": null,
      "outputs": []
    },
    {
      "cell_type": "code",
      "source": [
        "# agora vamos treinar o modelo\n",
        "\n",
        "# o algoritmo multinomialNB ele pega os valores de treino, transforma em probabilidade\n",
        "# e fala a chance de ser verdadeiro ou falso\n",
        "# ex: se vc tem 100 pessoas 70 comprou e 30 nao, então 70& comprou e 30% nao\n",
        "# então o algoritmo ele praticamente cria uma sequencia de numero de 1 até 70 e de \n",
        "# 71 até 100, de 1 até 70 é a probabilidade de compra e de 71 até 100 a probabilidade \n",
        "# de não compra, então se entra um cliente novo que o algoritmo não conhece\n",
        "# o algoritmo lança um numero de 1 a 100 e se sair por exemplo 65, esse número caiu\n",
        "# dentro do espaço de compra, que é de 1 até 70, então é assim que funciona esse \n",
        "# algoritmo\n",
        "from sklearn.naive_bayes import MultinomialNB\n",
        "from sklearn.metrics import accuracy_score \n",
        "\n",
        "modelo = MultinomialNB()\n",
        "modelo.fit(X, Y)\n",
        "\n",
        "# o modelo esta falando oque ele acredita com base nos dados que ele treinou\n",
        "# mas ta bom isso? o nivel de acerto está bom? Ta chutando bem ou ta chutando mal?\n",
        "# print(modelo.predict([[1,0,1], [0,1,0], [1,0,0]]))\n",
        "\n",
        "# aqui o modelo vai prever se cada cliente vai comprar ou não com base no mesmo dados passado para teste no metodo fit\n",
        "resultado = modelo.predict(X)\n",
        "# print(resultado)\n",
        "\n",
        "# o \"Y\" é os valores exatos de compraram ou não compraram, então o nosso modelo ele tem que prever os resultado\n",
        "# igual que está no Y ou pelo menos bem próximo do Y\n",
        "# print(Y)\n",
        "\n",
        "taxa_de_acerto = accuracy_score(Y, resultado)\n",
        "print(\"Ele acertou %.2f%% de %d elementos\" % (len(resultado), len(X)))\n",
        "\n",
        "# então quase foi 100% de acerto, mas tem um problema, usamos todos os dados para treinar e tester o algoritmo\n",
        "# e isso é um erro, temos que separar a base de dados em uma parte para treinar e uma outra parte para testar o algoritmo\n",
        "# e isso é feito para o algoritmo testar com base nos dados de treino prediser os dados que ele n viu"
      ],
      "metadata": {
        "colab": {
          "base_uri": "https://localhost:8080/"
        },
        "id": "gUaXCidmYtsQ",
        "outputId": "5f7f8cd2-dce9-4701-b302-a861c31f29d4"
      },
      "execution_count": null,
      "outputs": [
        {
          "output_type": "stream",
          "name": "stdout",
          "text": [
            "Ele acertou 99.00% de 99 elementos\n"
          ]
        },
        {
          "output_type": "stream",
          "name": "stderr",
          "text": [
            "/usr/local/lib/python3.7/dist-packages/sklearn/utils/validation.py:993: DataConversionWarning: A column-vector y was passed when a 1d array was expected. Please change the shape of y to (n_samples, ), for example using ravel().\n",
            "  y = column_or_1d(y, warn=True)\n"
          ]
        }
      ]
    },
    {
      "cell_type": "code",
      "source": [
        "# importe\n",
        "from sklearn.model_selection import train_test_split\n",
        "import numpy as np\n",
        "\n",
        "# tirando o fator aleatoriedade\n",
        "\n",
        "# separando os dados para treino e teste\n",
        "treino_x, teste_x, treino_y, teste_y = train_test_split(X, Y, test_size = 0.25, stratify= Y)\n",
        "\n",
        "print(\"Treinaremos com %d elementos e testaremos com %d elementos\" % (len(treino_x), len(teste_x)))\n",
        "\n",
        "# treinando o modelo \n",
        "modelo = MultinomialNB()\n",
        "# treinando com 75% das variáveis explicativas e variáveis resposta\n",
        "modelo.fit(treino_x, treino_y)\n",
        "# fazendo previsão se o cliente comprou ou não com 25% das variáveis explicativas\n",
        "# esses 25% dos dados não foi treinando pelo modelo, então ele nunca viu esses dados\n",
        "# com isso ele vai retornar em cada registros testado, se o cliente comprou ou não\n",
        "resultado = modelo.predict(teste_x)\n",
        "\n",
        "# então temos a taxa de acerto, com a previsão do teste_x e os valores reais do \n",
        "# teste_y e a diferença entre essas duas variáveis é a nossa taxa de acerto\n",
        "taxa_de_acerto = accuracy_score(teste_y, resultado) * 100\n",
        "print(\"A acurácia foi %.2f%%\" % taxa_de_acerto)"
      ],
      "metadata": {
        "colab": {
          "base_uri": "https://localhost:8080/"
        },
        "id": "3P__IvqgcH_m",
        "outputId": "88f8af00-74c3-47fb-ebef-ce1c099e5100"
      },
      "execution_count": null,
      "outputs": [
        {
          "output_type": "stream",
          "name": "stdout",
          "text": [
            "Treinaremos com 74 elementos e testaremos com 25 elementos\n",
            "A acurácia foi 96.00%\n"
          ]
        },
        {
          "output_type": "stream",
          "name": "stderr",
          "text": [
            "/usr/local/lib/python3.7/dist-packages/sklearn/utils/validation.py:993: DataConversionWarning: A column-vector y was passed when a 1d array was expected. Please change the shape of y to (n_samples, ), for example using ravel().\n",
            "  y = column_or_1d(y, warn=True)\n"
          ]
        }
      ]
    },
    {
      "cell_type": "markdown",
      "source": [
        "Transformando variáveis categóricas em binárias"
      ],
      "metadata": {
        "id": "ZiFsarL2-XKb"
      }
    },
    {
      "cell_type": "code",
      "source": [
        "# a coluna busca tem valores categóricos, precisamos transformar em binários \n",
        "# como só temos 3 cursos da pra montar valores binários para cada acesso de curso\n",
        "\n",
        "# algoritmo = 1, 0, 0\n",
        "# java = 0, 1, 0\n",
        "# ruby = 0, 0, 1\n",
        "\n",
        "# então cada numero binário é uma coluna e cada coluna receberá um nome de categoria1, 2 e 3\n",
        "# esse tipo de transformação é chamado de dummies\n",
        "df = pd.read_csv(\"cursos.csv\", sep=';')\n",
        "df.head()"
      ],
      "metadata": {
        "colab": {
          "base_uri": "https://localhost:8080/",
          "height": 206
        },
        "id": "X61qjAgwlbF2",
        "outputId": "35046b1c-0ad5-4d89-f74b-2c1571d860a2"
      },
      "execution_count": null,
      "outputs": [
        {
          "output_type": "execute_result",
          "data": {
            "text/plain": [
              "   home       busca  logado  comprou\n",
              "0     0  algoritmos       1        1\n",
              "1     0        java       0        1\n",
              "2     1  algoritmos       0        1\n",
              "3     1        ruby       1        0\n",
              "4     1        ruby       0        1"
            ],
            "text/html": [
              "\n",
              "  <div id=\"df-bfebc4df-8753-408a-ad4d-ef367513ecba\">\n",
              "    <div class=\"colab-df-container\">\n",
              "      <div>\n",
              "<style scoped>\n",
              "    .dataframe tbody tr th:only-of-type {\n",
              "        vertical-align: middle;\n",
              "    }\n",
              "\n",
              "    .dataframe tbody tr th {\n",
              "        vertical-align: top;\n",
              "    }\n",
              "\n",
              "    .dataframe thead th {\n",
              "        text-align: right;\n",
              "    }\n",
              "</style>\n",
              "<table border=\"1\" class=\"dataframe\">\n",
              "  <thead>\n",
              "    <tr style=\"text-align: right;\">\n",
              "      <th></th>\n",
              "      <th>home</th>\n",
              "      <th>busca</th>\n",
              "      <th>logado</th>\n",
              "      <th>comprou</th>\n",
              "    </tr>\n",
              "  </thead>\n",
              "  <tbody>\n",
              "    <tr>\n",
              "      <th>0</th>\n",
              "      <td>0</td>\n",
              "      <td>algoritmos</td>\n",
              "      <td>1</td>\n",
              "      <td>1</td>\n",
              "    </tr>\n",
              "    <tr>\n",
              "      <th>1</th>\n",
              "      <td>0</td>\n",
              "      <td>java</td>\n",
              "      <td>0</td>\n",
              "      <td>1</td>\n",
              "    </tr>\n",
              "    <tr>\n",
              "      <th>2</th>\n",
              "      <td>1</td>\n",
              "      <td>algoritmos</td>\n",
              "      <td>0</td>\n",
              "      <td>1</td>\n",
              "    </tr>\n",
              "    <tr>\n",
              "      <th>3</th>\n",
              "      <td>1</td>\n",
              "      <td>ruby</td>\n",
              "      <td>1</td>\n",
              "      <td>0</td>\n",
              "    </tr>\n",
              "    <tr>\n",
              "      <th>4</th>\n",
              "      <td>1</td>\n",
              "      <td>ruby</td>\n",
              "      <td>0</td>\n",
              "      <td>1</td>\n",
              "    </tr>\n",
              "  </tbody>\n",
              "</table>\n",
              "</div>\n",
              "      <button class=\"colab-df-convert\" onclick=\"convertToInteractive('df-bfebc4df-8753-408a-ad4d-ef367513ecba')\"\n",
              "              title=\"Convert this dataframe to an interactive table.\"\n",
              "              style=\"display:none;\">\n",
              "        \n",
              "  <svg xmlns=\"http://www.w3.org/2000/svg\" height=\"24px\"viewBox=\"0 0 24 24\"\n",
              "       width=\"24px\">\n",
              "    <path d=\"M0 0h24v24H0V0z\" fill=\"none\"/>\n",
              "    <path d=\"M18.56 5.44l.94 2.06.94-2.06 2.06-.94-2.06-.94-.94-2.06-.94 2.06-2.06.94zm-11 1L8.5 8.5l.94-2.06 2.06-.94-2.06-.94L8.5 2.5l-.94 2.06-2.06.94zm10 10l.94 2.06.94-2.06 2.06-.94-2.06-.94-.94-2.06-.94 2.06-2.06.94z\"/><path d=\"M17.41 7.96l-1.37-1.37c-.4-.4-.92-.59-1.43-.59-.52 0-1.04.2-1.43.59L10.3 9.45l-7.72 7.72c-.78.78-.78 2.05 0 2.83L4 21.41c.39.39.9.59 1.41.59.51 0 1.02-.2 1.41-.59l7.78-7.78 2.81-2.81c.8-.78.8-2.07 0-2.86zM5.41 20L4 18.59l7.72-7.72 1.47 1.35L5.41 20z\"/>\n",
              "  </svg>\n",
              "      </button>\n",
              "      \n",
              "  <style>\n",
              "    .colab-df-container {\n",
              "      display:flex;\n",
              "      flex-wrap:wrap;\n",
              "      gap: 12px;\n",
              "    }\n",
              "\n",
              "    .colab-df-convert {\n",
              "      background-color: #E8F0FE;\n",
              "      border: none;\n",
              "      border-radius: 50%;\n",
              "      cursor: pointer;\n",
              "      display: none;\n",
              "      fill: #1967D2;\n",
              "      height: 32px;\n",
              "      padding: 0 0 0 0;\n",
              "      width: 32px;\n",
              "    }\n",
              "\n",
              "    .colab-df-convert:hover {\n",
              "      background-color: #E2EBFA;\n",
              "      box-shadow: 0px 1px 2px rgba(60, 64, 67, 0.3), 0px 1px 3px 1px rgba(60, 64, 67, 0.15);\n",
              "      fill: #174EA6;\n",
              "    }\n",
              "\n",
              "    [theme=dark] .colab-df-convert {\n",
              "      background-color: #3B4455;\n",
              "      fill: #D2E3FC;\n",
              "    }\n",
              "\n",
              "    [theme=dark] .colab-df-convert:hover {\n",
              "      background-color: #434B5C;\n",
              "      box-shadow: 0px 1px 3px 1px rgba(0, 0, 0, 0.15);\n",
              "      filter: drop-shadow(0px 1px 2px rgba(0, 0, 0, 0.3));\n",
              "      fill: #FFFFFF;\n",
              "    }\n",
              "  </style>\n",
              "\n",
              "      <script>\n",
              "        const buttonEl =\n",
              "          document.querySelector('#df-bfebc4df-8753-408a-ad4d-ef367513ecba button.colab-df-convert');\n",
              "        buttonEl.style.display =\n",
              "          google.colab.kernel.accessAllowed ? 'block' : 'none';\n",
              "\n",
              "        async function convertToInteractive(key) {\n",
              "          const element = document.querySelector('#df-bfebc4df-8753-408a-ad4d-ef367513ecba');\n",
              "          const dataTable =\n",
              "            await google.colab.kernel.invokeFunction('convertToInteractive',\n",
              "                                                     [key], {});\n",
              "          if (!dataTable) return;\n",
              "\n",
              "          const docLinkHtml = 'Like what you see? Visit the ' +\n",
              "            '<a target=\"_blank\" href=https://colab.research.google.com/notebooks/data_table.ipynb>data table notebook</a>'\n",
              "            + ' to learn more about interactive tables.';\n",
              "          element.innerHTML = '';\n",
              "          dataTable['output_type'] = 'display_data';\n",
              "          await google.colab.output.renderOutput(dataTable, element);\n",
              "          const docLink = document.createElement('div');\n",
              "          docLink.innerHTML = docLinkHtml;\n",
              "          element.appendChild(docLink);\n",
              "        }\n",
              "      </script>\n",
              "    </div>\n",
              "  </div>\n",
              "  "
            ]
          },
          "metadata": {},
          "execution_count": 10
        }
      ]
    },
    {
      "cell_type": "code",
      "source": [
        "df.shape"
      ],
      "metadata": {
        "colab": {
          "base_uri": "https://localhost:8080/"
        },
        "id": "rYcV-tT7-jgZ",
        "outputId": "e2e04af3-9493-4c43-d712-6ec2f7c036bc"
      },
      "execution_count": null,
      "outputs": [
        {
          "output_type": "execute_result",
          "data": {
            "text/plain": [
              "(1000, 4)"
            ]
          },
          "metadata": {},
          "execution_count": 11
        }
      ]
    },
    {
      "cell_type": "code",
      "source": [
        "# quando vc declara as variáveis explicativas, você pode ir testando as variáveis\n",
        "# para saber qual delas n tem significancia no algoritimo, ex: se o algoritmo\n",
        "# fala que tem uma taxa de acerto de 85% com as 3 variáveis a baixo e eu tiro\n",
        "# a variável \"busca\" e testo o algoritmo, será que a taxa muda? maior ou menor?\n",
        "# então testar as variáveis, para saber qual tem menos significancia é interessante\n",
        "# para talvez excluir e economizar no processamento.\n",
        "\n",
        "# mas quando você tem muitas variáveis e fica testando, uma hora ou outra \n",
        "# vai surgir um padrão, não pelo motivo de simplismente existir, mas pelo fato da sorte\n",
        "# pois é tantas variáveis que na sorte, surge alguma coisa entre elas\n",
        "X = df[[\"home\", \"busca\", \"logado\"]]\n",
        "Y = df[[\"comprou\"]]"
      ],
      "metadata": {
        "id": "nVxkedqR_X1j"
      },
      "execution_count": null,
      "outputs": []
    },
    {
      "cell_type": "code",
      "source": [
        "# transformando a coluna categorica \"busca\" para binária\n",
        "# com o dummies\n",
        "Xdummies = pd.get_dummies(X)\n",
        "# como o Y ja é binário, então não precisa fazer o dummies, só declarando variável\n",
        "ydummies = Y"
      ],
      "metadata": {
        "id": "V1j4AA8aACdJ"
      },
      "execution_count": null,
      "outputs": []
    },
    {
      "cell_type": "code",
      "source": [
        "treino_x, teste_x, treino_y, teste_y = train_test_split(Xdummies, ydummies, test_size = 0.05, stratify= ydummies)\n",
        "print(\"Treinaremos com %d elementos e testaremos com %d elementos\" % (len(treino_x), len(teste_x)))\n",
        "modelo = MultinomialNB()\n",
        "modelo.fit(treino_x, treino_y)\n",
        "resultado = modelo.predict(teste_x)\n",
        "taxa_de_acerto = accuracy_score(teste_y, resultado) * 100\n",
        "print(\"A acurácia foi %.2f%%\" % taxa_de_acerto)\n",
        "\n",
        "# o algoritmo conseguiu acerta 83%, mas esse número é bom ou é ruim?"
      ],
      "metadata": {
        "colab": {
          "base_uri": "https://localhost:8080/"
        },
        "id": "SOgkxtRAAolR",
        "outputId": "eb34e89f-39c2-4a16-cbbe-8205f71997df"
      },
      "execution_count": null,
      "outputs": [
        {
          "output_type": "stream",
          "name": "stdout",
          "text": [
            "Treinaremos com 950 elementos e testaremos com 50 elementos\n",
            "A acurácia foi 84.00%\n"
          ]
        },
        {
          "output_type": "stream",
          "name": "stderr",
          "text": [
            "/usr/local/lib/python3.7/dist-packages/sklearn/utils/validation.py:993: DataConversionWarning: A column-vector y was passed when a 1d array was expected. Please change the shape of y to (n_samples, ), for example using ravel().\n",
            "  y = column_or_1d(y, warn=True)\n"
          ]
        }
      ]
    },
    {
      "cell_type": "code",
      "source": [
        "# usando um algoritmo base para comparar se o nosso algoritmo está bom\n",
        "# o algoritmo base chuta tudo um valor só, como é binário, a gente pode escolher\n",
        "# 1 ou 0, mas devemos escolher qual elemento aparece mais, se o 1 aparecer mais\n",
        "# escolhemos o 1, caso contrário o 0, então o nosso Y aparece muito mais o 1\n",
        "# pegamos ele e falamos pro nosso algoritmo base chutar tudo 1 e comparamos\n",
        "# o resultado com o nosso algoritmo, caso o nosso algoritmo tenha uma performace \n",
        "# melhor, mas pouco significativa, provavelmente não é um bom algoritmo\n",
        "# pois se um algoritmo que só chuta 1 tem uma diferença de poucos %, isso quer dizer\n",
        "# que o nosso algoritmo principal, tem muita complexidade pra nada.\n",
        "\n",
        "from sklearn.dummy import DummyClassifier\n",
        "dummy = DummyClassifier()\n",
        "dummy.fit(treino_x, treino_y)\n",
        "previsoes = dummy.predict(teste_x)\n",
        "\n",
        "acuracia = accuracy_score(teste_y, previsoes) * 100\n",
        "print(\"A acurácia do dummy foi %.2f%%\" % acuracia)\n",
        "\n",
        "# o dummy está com a mesma taxa de acerto que o nosso algoritmo, então isso\n",
        "# é ruim para o nosso algoritmo"
      ],
      "metadata": {
        "colab": {
          "base_uri": "https://localhost:8080/"
        },
        "id": "GTgAkUJfB070",
        "outputId": "2fbd590b-093e-4d17-8d77-1cd2b0fe7ced"
      },
      "execution_count": null,
      "outputs": [
        {
          "output_type": "stream",
          "name": "stdout",
          "text": [
            "A acurácia do dummy foi 84.00%\n"
          ]
        }
      ]
    },
    {
      "cell_type": "markdown",
      "source": [
        " from collections import Counter \n",
        " ele conta os itens de uma lista"
      ],
      "metadata": {
        "id": "koYhbAL5fp7B"
      }
    },
    {
      "cell_type": "code",
      "source": [
        "from collections import Counter\n",
        "lista = [0,0,0,0,1,1,1,2,2,2,2,2,3,3,3,4,4,4,4,4,6,6,6,6,6,6,6,6,7,7,7,7,7]\n",
        "Counter(lista)"
      ],
      "metadata": {
        "colab": {
          "base_uri": "https://localhost:8080/"
        },
        "id": "pODWkuzkbfba",
        "outputId": "a0679208-5953-4979-cfac-6d8c4b00806a"
      },
      "execution_count": null,
      "outputs": [
        {
          "output_type": "execute_result",
          "data": {
            "text/plain": [
              "Counter({0: 4, 1: 3, 2: 5, 3: 3, 4: 5, 6: 8, 7: 5})"
            ]
          },
          "metadata": {},
          "execution_count": 16
        }
      ]
    },
    {
      "cell_type": "code",
      "source": [
        "# o adaboostclassifier ele vai melhorando o algoritmo e te entrega a melhor versão\n",
        "from sklearn.ensemble import AdaBoostClassifier\n",
        "modelo = AdaBoostClassifier()\n",
        "\n",
        "treino_x, teste_x, treino_y, teste_y = train_test_split(Xdummies, ydummies, test_size = 0.05, stratify= ydummies)\n",
        "print(\"Treinaremos com %d elementos e testaremos com %d elementos\" % (len(treino_x), len(teste_x)))\n",
        "modelo = AdaBoostClassifier()\n",
        "modelo.fit(treino_x, treino_y)\n",
        "resultado = modelo.predict(teste_x)\n",
        "taxa_de_acerto = accuracy_score(teste_y, resultado) * 100\n",
        "print(\"A acurácia foi %.2f%%\" % taxa_de_acerto)\n",
        "\n",
        "# multinomialNB deu 84%\n",
        "# o adaboost deu 88%\n",
        "# então podemos testar as variáveis entre elas e os tipos de algoritmos tambem"
      ],
      "metadata": {
        "id": "0vpd359GgaPj",
        "colab": {
          "base_uri": "https://localhost:8080/"
        },
        "outputId": "43b414fc-838a-42c1-d6a8-47c9a0e5a2b1"
      },
      "execution_count": null,
      "outputs": [
        {
          "output_type": "stream",
          "name": "stdout",
          "text": [
            "Treinaremos com 950 elementos e testaremos com 50 elementos\n"
          ]
        },
        {
          "output_type": "stream",
          "name": "stderr",
          "text": [
            "/usr/local/lib/python3.7/dist-packages/sklearn/utils/validation.py:993: DataConversionWarning: A column-vector y was passed when a 1d array was expected. Please change the shape of y to (n_samples, ), for example using ravel().\n",
            "  y = column_or_1d(y, warn=True)\n"
          ]
        },
        {
          "output_type": "stream",
          "name": "stdout",
          "text": [
            "A acurácia foi 88.00%\n"
          ]
        }
      ]
    },
    {
      "cell_type": "code",
      "source": [
        "# modeloadaboost > modeloMultinomialNB ?"
      ],
      "metadata": {
        "id": "U1tddKPYFG7R"
      },
      "execution_count": null,
      "outputs": []
    }
  ]
}