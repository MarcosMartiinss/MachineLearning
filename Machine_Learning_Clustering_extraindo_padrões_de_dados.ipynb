{
  "nbformat": 4,
  "nbformat_minor": 0,
  "metadata": {
    "colab": {
      "provenance": []
    },
    "kernelspec": {
      "name": "python3",
      "display_name": "Python 3"
    },
    "language_info": {
      "name": "python"
    }
  },
  "cells": [
    {
      "cell_type": "markdown",
      "source": [
        "Se um cliente faz compras frequentemente, podemos classificar ele como baixo, medio ou alto, pois a frequência do cliente de compras é fácil de categorizar, agora categorizar o perfil do cliente é mais difícil, uma vez que não temos como categorizar o perfil de um cliente, nós utilizamos clusterização para descobrir esse perfil e criar essas categorias. Então utilizar a clusterização para agrupar os clientes com base na similaridade de seus perfis."
      ],
      "metadata": {
        "id": "kTFb2S882JE_"
      }
    },
    {
      "cell_type": "code",
      "source": [
        "import pandas as pd"
      ],
      "metadata": {
        "id": "uCeo_AQH2sct"
      },
      "execution_count": null,
      "outputs": []
    },
    {
      "cell_type": "code",
      "source": [
        "# essa base de dados contém registro de 9 mil clientes e como ele usam seus cartões de créditos\n",
        "df = pd.read_csv(\"https://raw.githubusercontent.com/alura-cursos/alura-clustering-validation/base-de-dados/CC%20GENERAL.csv\")"
      ],
      "metadata": {
        "id": "eFwoLwHc2-2U"
      },
      "execution_count": null,
      "outputs": []
    },
    {
      "cell_type": "code",
      "source": [
        "df.head()"
      ],
      "metadata": {
        "colab": {
          "base_uri": "https://localhost:8080/",
          "height": 270
        },
        "id": "vtPSHYjm3INb",
        "outputId": "f80dd47e-7815-49c1-82dc-be54850119b3"
      },
      "execution_count": null,
      "outputs": [
        {
          "output_type": "execute_result",
          "data": {
            "text/plain": [
              "  CUST_ID      BALANCE  BALANCE_FREQUENCY  PURCHASES  ONEOFF_PURCHASES  \\\n",
              "0  C10001    40.900749           0.818182      95.40              0.00   \n",
              "1  C10002  3202.467416           0.909091       0.00              0.00   \n",
              "2  C10003  2495.148862           1.000000     773.17            773.17   \n",
              "3  C10004  1666.670542           0.636364    1499.00           1499.00   \n",
              "4  C10005   817.714335           1.000000      16.00             16.00   \n",
              "\n",
              "   INSTALLMENTS_PURCHASES  CASH_ADVANCE  PURCHASES_FREQUENCY  \\\n",
              "0                    95.4      0.000000             0.166667   \n",
              "1                     0.0   6442.945483             0.000000   \n",
              "2                     0.0      0.000000             1.000000   \n",
              "3                     0.0    205.788017             0.083333   \n",
              "4                     0.0      0.000000             0.083333   \n",
              "\n",
              "   ONEOFF_PURCHASES_FREQUENCY  PURCHASES_INSTALLMENTS_FREQUENCY  \\\n",
              "0                    0.000000                          0.083333   \n",
              "1                    0.000000                          0.000000   \n",
              "2                    1.000000                          0.000000   \n",
              "3                    0.083333                          0.000000   \n",
              "4                    0.083333                          0.000000   \n",
              "\n",
              "   CASH_ADVANCE_FREQUENCY  CASH_ADVANCE_TRX  PURCHASES_TRX  CREDIT_LIMIT  \\\n",
              "0                0.000000                 0              2        1000.0   \n",
              "1                0.250000                 4              0        7000.0   \n",
              "2                0.000000                 0             12        7500.0   \n",
              "3                0.083333                 1              1        7500.0   \n",
              "4                0.000000                 0              1        1200.0   \n",
              "\n",
              "      PAYMENTS  MINIMUM_PAYMENTS  PRC_FULL_PAYMENT  TENURE  \n",
              "0   201.802084        139.509787          0.000000      12  \n",
              "1  4103.032597       1072.340217          0.222222      12  \n",
              "2   622.066742        627.284787          0.000000      12  \n",
              "3     0.000000               NaN          0.000000      12  \n",
              "4   678.334763        244.791237          0.000000      12  "
            ],
            "text/html": [
              "\n",
              "  <div id=\"df-689f3b27-8092-4f2e-81cc-bbba493b1cf7\">\n",
              "    <div class=\"colab-df-container\">\n",
              "      <div>\n",
              "<style scoped>\n",
              "    .dataframe tbody tr th:only-of-type {\n",
              "        vertical-align: middle;\n",
              "    }\n",
              "\n",
              "    .dataframe tbody tr th {\n",
              "        vertical-align: top;\n",
              "    }\n",
              "\n",
              "    .dataframe thead th {\n",
              "        text-align: right;\n",
              "    }\n",
              "</style>\n",
              "<table border=\"1\" class=\"dataframe\">\n",
              "  <thead>\n",
              "    <tr style=\"text-align: right;\">\n",
              "      <th></th>\n",
              "      <th>CUST_ID</th>\n",
              "      <th>BALANCE</th>\n",
              "      <th>BALANCE_FREQUENCY</th>\n",
              "      <th>PURCHASES</th>\n",
              "      <th>ONEOFF_PURCHASES</th>\n",
              "      <th>INSTALLMENTS_PURCHASES</th>\n",
              "      <th>CASH_ADVANCE</th>\n",
              "      <th>PURCHASES_FREQUENCY</th>\n",
              "      <th>ONEOFF_PURCHASES_FREQUENCY</th>\n",
              "      <th>PURCHASES_INSTALLMENTS_FREQUENCY</th>\n",
              "      <th>CASH_ADVANCE_FREQUENCY</th>\n",
              "      <th>CASH_ADVANCE_TRX</th>\n",
              "      <th>PURCHASES_TRX</th>\n",
              "      <th>CREDIT_LIMIT</th>\n",
              "      <th>PAYMENTS</th>\n",
              "      <th>MINIMUM_PAYMENTS</th>\n",
              "      <th>PRC_FULL_PAYMENT</th>\n",
              "      <th>TENURE</th>\n",
              "    </tr>\n",
              "  </thead>\n",
              "  <tbody>\n",
              "    <tr>\n",
              "      <th>0</th>\n",
              "      <td>C10001</td>\n",
              "      <td>40.900749</td>\n",
              "      <td>0.818182</td>\n",
              "      <td>95.40</td>\n",
              "      <td>0.00</td>\n",
              "      <td>95.4</td>\n",
              "      <td>0.000000</td>\n",
              "      <td>0.166667</td>\n",
              "      <td>0.000000</td>\n",
              "      <td>0.083333</td>\n",
              "      <td>0.000000</td>\n",
              "      <td>0</td>\n",
              "      <td>2</td>\n",
              "      <td>1000.0</td>\n",
              "      <td>201.802084</td>\n",
              "      <td>139.509787</td>\n",
              "      <td>0.000000</td>\n",
              "      <td>12</td>\n",
              "    </tr>\n",
              "    <tr>\n",
              "      <th>1</th>\n",
              "      <td>C10002</td>\n",
              "      <td>3202.467416</td>\n",
              "      <td>0.909091</td>\n",
              "      <td>0.00</td>\n",
              "      <td>0.00</td>\n",
              "      <td>0.0</td>\n",
              "      <td>6442.945483</td>\n",
              "      <td>0.000000</td>\n",
              "      <td>0.000000</td>\n",
              "      <td>0.000000</td>\n",
              "      <td>0.250000</td>\n",
              "      <td>4</td>\n",
              "      <td>0</td>\n",
              "      <td>7000.0</td>\n",
              "      <td>4103.032597</td>\n",
              "      <td>1072.340217</td>\n",
              "      <td>0.222222</td>\n",
              "      <td>12</td>\n",
              "    </tr>\n",
              "    <tr>\n",
              "      <th>2</th>\n",
              "      <td>C10003</td>\n",
              "      <td>2495.148862</td>\n",
              "      <td>1.000000</td>\n",
              "      <td>773.17</td>\n",
              "      <td>773.17</td>\n",
              "      <td>0.0</td>\n",
              "      <td>0.000000</td>\n",
              "      <td>1.000000</td>\n",
              "      <td>1.000000</td>\n",
              "      <td>0.000000</td>\n",
              "      <td>0.000000</td>\n",
              "      <td>0</td>\n",
              "      <td>12</td>\n",
              "      <td>7500.0</td>\n",
              "      <td>622.066742</td>\n",
              "      <td>627.284787</td>\n",
              "      <td>0.000000</td>\n",
              "      <td>12</td>\n",
              "    </tr>\n",
              "    <tr>\n",
              "      <th>3</th>\n",
              "      <td>C10004</td>\n",
              "      <td>1666.670542</td>\n",
              "      <td>0.636364</td>\n",
              "      <td>1499.00</td>\n",
              "      <td>1499.00</td>\n",
              "      <td>0.0</td>\n",
              "      <td>205.788017</td>\n",
              "      <td>0.083333</td>\n",
              "      <td>0.083333</td>\n",
              "      <td>0.000000</td>\n",
              "      <td>0.083333</td>\n",
              "      <td>1</td>\n",
              "      <td>1</td>\n",
              "      <td>7500.0</td>\n",
              "      <td>0.000000</td>\n",
              "      <td>NaN</td>\n",
              "      <td>0.000000</td>\n",
              "      <td>12</td>\n",
              "    </tr>\n",
              "    <tr>\n",
              "      <th>4</th>\n",
              "      <td>C10005</td>\n",
              "      <td>817.714335</td>\n",
              "      <td>1.000000</td>\n",
              "      <td>16.00</td>\n",
              "      <td>16.00</td>\n",
              "      <td>0.0</td>\n",
              "      <td>0.000000</td>\n",
              "      <td>0.083333</td>\n",
              "      <td>0.083333</td>\n",
              "      <td>0.000000</td>\n",
              "      <td>0.000000</td>\n",
              "      <td>0</td>\n",
              "      <td>1</td>\n",
              "      <td>1200.0</td>\n",
              "      <td>678.334763</td>\n",
              "      <td>244.791237</td>\n",
              "      <td>0.000000</td>\n",
              "      <td>12</td>\n",
              "    </tr>\n",
              "  </tbody>\n",
              "</table>\n",
              "</div>\n",
              "      <button class=\"colab-df-convert\" onclick=\"convertToInteractive('df-689f3b27-8092-4f2e-81cc-bbba493b1cf7')\"\n",
              "              title=\"Convert this dataframe to an interactive table.\"\n",
              "              style=\"display:none;\">\n",
              "        \n",
              "  <svg xmlns=\"http://www.w3.org/2000/svg\" height=\"24px\"viewBox=\"0 0 24 24\"\n",
              "       width=\"24px\">\n",
              "    <path d=\"M0 0h24v24H0V0z\" fill=\"none\"/>\n",
              "    <path d=\"M18.56 5.44l.94 2.06.94-2.06 2.06-.94-2.06-.94-.94-2.06-.94 2.06-2.06.94zm-11 1L8.5 8.5l.94-2.06 2.06-.94-2.06-.94L8.5 2.5l-.94 2.06-2.06.94zm10 10l.94 2.06.94-2.06 2.06-.94-2.06-.94-.94-2.06-.94 2.06-2.06.94z\"/><path d=\"M17.41 7.96l-1.37-1.37c-.4-.4-.92-.59-1.43-.59-.52 0-1.04.2-1.43.59L10.3 9.45l-7.72 7.72c-.78.78-.78 2.05 0 2.83L4 21.41c.39.39.9.59 1.41.59.51 0 1.02-.2 1.41-.59l7.78-7.78 2.81-2.81c.8-.78.8-2.07 0-2.86zM5.41 20L4 18.59l7.72-7.72 1.47 1.35L5.41 20z\"/>\n",
              "  </svg>\n",
              "      </button>\n",
              "      \n",
              "  <style>\n",
              "    .colab-df-container {\n",
              "      display:flex;\n",
              "      flex-wrap:wrap;\n",
              "      gap: 12px;\n",
              "    }\n",
              "\n",
              "    .colab-df-convert {\n",
              "      background-color: #E8F0FE;\n",
              "      border: none;\n",
              "      border-radius: 50%;\n",
              "      cursor: pointer;\n",
              "      display: none;\n",
              "      fill: #1967D2;\n",
              "      height: 32px;\n",
              "      padding: 0 0 0 0;\n",
              "      width: 32px;\n",
              "    }\n",
              "\n",
              "    .colab-df-convert:hover {\n",
              "      background-color: #E2EBFA;\n",
              "      box-shadow: 0px 1px 2px rgba(60, 64, 67, 0.3), 0px 1px 3px 1px rgba(60, 64, 67, 0.15);\n",
              "      fill: #174EA6;\n",
              "    }\n",
              "\n",
              "    [theme=dark] .colab-df-convert {\n",
              "      background-color: #3B4455;\n",
              "      fill: #D2E3FC;\n",
              "    }\n",
              "\n",
              "    [theme=dark] .colab-df-convert:hover {\n",
              "      background-color: #434B5C;\n",
              "      box-shadow: 0px 1px 3px 1px rgba(0, 0, 0, 0.15);\n",
              "      filter: drop-shadow(0px 1px 2px rgba(0, 0, 0, 0.3));\n",
              "      fill: #FFFFFF;\n",
              "    }\n",
              "  </style>\n",
              "\n",
              "      <script>\n",
              "        const buttonEl =\n",
              "          document.querySelector('#df-689f3b27-8092-4f2e-81cc-bbba493b1cf7 button.colab-df-convert');\n",
              "        buttonEl.style.display =\n",
              "          google.colab.kernel.accessAllowed ? 'block' : 'none';\n",
              "\n",
              "        async function convertToInteractive(key) {\n",
              "          const element = document.querySelector('#df-689f3b27-8092-4f2e-81cc-bbba493b1cf7');\n",
              "          const dataTable =\n",
              "            await google.colab.kernel.invokeFunction('convertToInteractive',\n",
              "                                                     [key], {});\n",
              "          if (!dataTable) return;\n",
              "\n",
              "          const docLinkHtml = 'Like what you see? Visit the ' +\n",
              "            '<a target=\"_blank\" href=https://colab.research.google.com/notebooks/data_table.ipynb>data table notebook</a>'\n",
              "            + ' to learn more about interactive tables.';\n",
              "          element.innerHTML = '';\n",
              "          dataTable['output_type'] = 'display_data';\n",
              "          await google.colab.output.renderOutput(dataTable, element);\n",
              "          const docLink = document.createElement('div');\n",
              "          docLink.innerHTML = docLinkHtml;\n",
              "          element.appendChild(docLink);\n",
              "        }\n",
              "      </script>\n",
              "    </div>\n",
              "  </div>\n",
              "  "
            ]
          },
          "metadata": {},
          "execution_count": 3
        }
      ]
    },
    {
      "cell_type": "code",
      "source": [
        "# removendo atributos (colunas)\n",
        "df.drop(columns=[\"CUST_ID\", \"TENURE\"], inplace = True)"
      ],
      "metadata": {
        "id": "JehuDm3T3JJV"
      },
      "execution_count": null,
      "outputs": []
    },
    {
      "cell_type": "code",
      "source": [
        "df.head()"
      ],
      "metadata": {
        "colab": {
          "base_uri": "https://localhost:8080/",
          "height": 206
        },
        "id": "xR6JeaBgbkAQ",
        "outputId": "51707a78-7a23-43e4-fdfe-0a507c11c2e6"
      },
      "execution_count": null,
      "outputs": [
        {
          "output_type": "execute_result",
          "data": {
            "text/plain": [
              "       BALANCE  BALANCE_FREQUENCY  PURCHASES  ONEOFF_PURCHASES  \\\n",
              "0    40.900749           0.818182      95.40              0.00   \n",
              "1  3202.467416           0.909091       0.00              0.00   \n",
              "2  2495.148862           1.000000     773.17            773.17   \n",
              "3  1666.670542           0.636364    1499.00           1499.00   \n",
              "4   817.714335           1.000000      16.00             16.00   \n",
              "\n",
              "   INSTALLMENTS_PURCHASES  CASH_ADVANCE  PURCHASES_FREQUENCY  \\\n",
              "0                    95.4      0.000000             0.166667   \n",
              "1                     0.0   6442.945483             0.000000   \n",
              "2                     0.0      0.000000             1.000000   \n",
              "3                     0.0    205.788017             0.083333   \n",
              "4                     0.0      0.000000             0.083333   \n",
              "\n",
              "   ONEOFF_PURCHASES_FREQUENCY  PURCHASES_INSTALLMENTS_FREQUENCY  \\\n",
              "0                    0.000000                          0.083333   \n",
              "1                    0.000000                          0.000000   \n",
              "2                    1.000000                          0.000000   \n",
              "3                    0.083333                          0.000000   \n",
              "4                    0.083333                          0.000000   \n",
              "\n",
              "   CASH_ADVANCE_FREQUENCY  CASH_ADVANCE_TRX  PURCHASES_TRX  CREDIT_LIMIT  \\\n",
              "0                0.000000                 0              2        1000.0   \n",
              "1                0.250000                 4              0        7000.0   \n",
              "2                0.000000                 0             12        7500.0   \n",
              "3                0.083333                 1              1        7500.0   \n",
              "4                0.000000                 0              1        1200.0   \n",
              "\n",
              "      PAYMENTS  MINIMUM_PAYMENTS  PRC_FULL_PAYMENT  \n",
              "0   201.802084        139.509787          0.000000  \n",
              "1  4103.032597       1072.340217          0.222222  \n",
              "2   622.066742        627.284787          0.000000  \n",
              "3     0.000000               NaN          0.000000  \n",
              "4   678.334763        244.791237          0.000000  "
            ],
            "text/html": [
              "\n",
              "  <div id=\"df-80db7b25-2989-4f19-bd7b-33ca51f2f61b\">\n",
              "    <div class=\"colab-df-container\">\n",
              "      <div>\n",
              "<style scoped>\n",
              "    .dataframe tbody tr th:only-of-type {\n",
              "        vertical-align: middle;\n",
              "    }\n",
              "\n",
              "    .dataframe tbody tr th {\n",
              "        vertical-align: top;\n",
              "    }\n",
              "\n",
              "    .dataframe thead th {\n",
              "        text-align: right;\n",
              "    }\n",
              "</style>\n",
              "<table border=\"1\" class=\"dataframe\">\n",
              "  <thead>\n",
              "    <tr style=\"text-align: right;\">\n",
              "      <th></th>\n",
              "      <th>BALANCE</th>\n",
              "      <th>BALANCE_FREQUENCY</th>\n",
              "      <th>PURCHASES</th>\n",
              "      <th>ONEOFF_PURCHASES</th>\n",
              "      <th>INSTALLMENTS_PURCHASES</th>\n",
              "      <th>CASH_ADVANCE</th>\n",
              "      <th>PURCHASES_FREQUENCY</th>\n",
              "      <th>ONEOFF_PURCHASES_FREQUENCY</th>\n",
              "      <th>PURCHASES_INSTALLMENTS_FREQUENCY</th>\n",
              "      <th>CASH_ADVANCE_FREQUENCY</th>\n",
              "      <th>CASH_ADVANCE_TRX</th>\n",
              "      <th>PURCHASES_TRX</th>\n",
              "      <th>CREDIT_LIMIT</th>\n",
              "      <th>PAYMENTS</th>\n",
              "      <th>MINIMUM_PAYMENTS</th>\n",
              "      <th>PRC_FULL_PAYMENT</th>\n",
              "    </tr>\n",
              "  </thead>\n",
              "  <tbody>\n",
              "    <tr>\n",
              "      <th>0</th>\n",
              "      <td>40.900749</td>\n",
              "      <td>0.818182</td>\n",
              "      <td>95.40</td>\n",
              "      <td>0.00</td>\n",
              "      <td>95.4</td>\n",
              "      <td>0.000000</td>\n",
              "      <td>0.166667</td>\n",
              "      <td>0.000000</td>\n",
              "      <td>0.083333</td>\n",
              "      <td>0.000000</td>\n",
              "      <td>0</td>\n",
              "      <td>2</td>\n",
              "      <td>1000.0</td>\n",
              "      <td>201.802084</td>\n",
              "      <td>139.509787</td>\n",
              "      <td>0.000000</td>\n",
              "    </tr>\n",
              "    <tr>\n",
              "      <th>1</th>\n",
              "      <td>3202.467416</td>\n",
              "      <td>0.909091</td>\n",
              "      <td>0.00</td>\n",
              "      <td>0.00</td>\n",
              "      <td>0.0</td>\n",
              "      <td>6442.945483</td>\n",
              "      <td>0.000000</td>\n",
              "      <td>0.000000</td>\n",
              "      <td>0.000000</td>\n",
              "      <td>0.250000</td>\n",
              "      <td>4</td>\n",
              "      <td>0</td>\n",
              "      <td>7000.0</td>\n",
              "      <td>4103.032597</td>\n",
              "      <td>1072.340217</td>\n",
              "      <td>0.222222</td>\n",
              "    </tr>\n",
              "    <tr>\n",
              "      <th>2</th>\n",
              "      <td>2495.148862</td>\n",
              "      <td>1.000000</td>\n",
              "      <td>773.17</td>\n",
              "      <td>773.17</td>\n",
              "      <td>0.0</td>\n",
              "      <td>0.000000</td>\n",
              "      <td>1.000000</td>\n",
              "      <td>1.000000</td>\n",
              "      <td>0.000000</td>\n",
              "      <td>0.000000</td>\n",
              "      <td>0</td>\n",
              "      <td>12</td>\n",
              "      <td>7500.0</td>\n",
              "      <td>622.066742</td>\n",
              "      <td>627.284787</td>\n",
              "      <td>0.000000</td>\n",
              "    </tr>\n",
              "    <tr>\n",
              "      <th>3</th>\n",
              "      <td>1666.670542</td>\n",
              "      <td>0.636364</td>\n",
              "      <td>1499.00</td>\n",
              "      <td>1499.00</td>\n",
              "      <td>0.0</td>\n",
              "      <td>205.788017</td>\n",
              "      <td>0.083333</td>\n",
              "      <td>0.083333</td>\n",
              "      <td>0.000000</td>\n",
              "      <td>0.083333</td>\n",
              "      <td>1</td>\n",
              "      <td>1</td>\n",
              "      <td>7500.0</td>\n",
              "      <td>0.000000</td>\n",
              "      <td>NaN</td>\n",
              "      <td>0.000000</td>\n",
              "    </tr>\n",
              "    <tr>\n",
              "      <th>4</th>\n",
              "      <td>817.714335</td>\n",
              "      <td>1.000000</td>\n",
              "      <td>16.00</td>\n",
              "      <td>16.00</td>\n",
              "      <td>0.0</td>\n",
              "      <td>0.000000</td>\n",
              "      <td>0.083333</td>\n",
              "      <td>0.083333</td>\n",
              "      <td>0.000000</td>\n",
              "      <td>0.000000</td>\n",
              "      <td>0</td>\n",
              "      <td>1</td>\n",
              "      <td>1200.0</td>\n",
              "      <td>678.334763</td>\n",
              "      <td>244.791237</td>\n",
              "      <td>0.000000</td>\n",
              "    </tr>\n",
              "  </tbody>\n",
              "</table>\n",
              "</div>\n",
              "      <button class=\"colab-df-convert\" onclick=\"convertToInteractive('df-80db7b25-2989-4f19-bd7b-33ca51f2f61b')\"\n",
              "              title=\"Convert this dataframe to an interactive table.\"\n",
              "              style=\"display:none;\">\n",
              "        \n",
              "  <svg xmlns=\"http://www.w3.org/2000/svg\" height=\"24px\"viewBox=\"0 0 24 24\"\n",
              "       width=\"24px\">\n",
              "    <path d=\"M0 0h24v24H0V0z\" fill=\"none\"/>\n",
              "    <path d=\"M18.56 5.44l.94 2.06.94-2.06 2.06-.94-2.06-.94-.94-2.06-.94 2.06-2.06.94zm-11 1L8.5 8.5l.94-2.06 2.06-.94-2.06-.94L8.5 2.5l-.94 2.06-2.06.94zm10 10l.94 2.06.94-2.06 2.06-.94-2.06-.94-.94-2.06-.94 2.06-2.06.94z\"/><path d=\"M17.41 7.96l-1.37-1.37c-.4-.4-.92-.59-1.43-.59-.52 0-1.04.2-1.43.59L10.3 9.45l-7.72 7.72c-.78.78-.78 2.05 0 2.83L4 21.41c.39.39.9.59 1.41.59.51 0 1.02-.2 1.41-.59l7.78-7.78 2.81-2.81c.8-.78.8-2.07 0-2.86zM5.41 20L4 18.59l7.72-7.72 1.47 1.35L5.41 20z\"/>\n",
              "  </svg>\n",
              "      </button>\n",
              "      \n",
              "  <style>\n",
              "    .colab-df-container {\n",
              "      display:flex;\n",
              "      flex-wrap:wrap;\n",
              "      gap: 12px;\n",
              "    }\n",
              "\n",
              "    .colab-df-convert {\n",
              "      background-color: #E8F0FE;\n",
              "      border: none;\n",
              "      border-radius: 50%;\n",
              "      cursor: pointer;\n",
              "      display: none;\n",
              "      fill: #1967D2;\n",
              "      height: 32px;\n",
              "      padding: 0 0 0 0;\n",
              "      width: 32px;\n",
              "    }\n",
              "\n",
              "    .colab-df-convert:hover {\n",
              "      background-color: #E2EBFA;\n",
              "      box-shadow: 0px 1px 2px rgba(60, 64, 67, 0.3), 0px 1px 3px 1px rgba(60, 64, 67, 0.15);\n",
              "      fill: #174EA6;\n",
              "    }\n",
              "\n",
              "    [theme=dark] .colab-df-convert {\n",
              "      background-color: #3B4455;\n",
              "      fill: #D2E3FC;\n",
              "    }\n",
              "\n",
              "    [theme=dark] .colab-df-convert:hover {\n",
              "      background-color: #434B5C;\n",
              "      box-shadow: 0px 1px 3px 1px rgba(0, 0, 0, 0.15);\n",
              "      filter: drop-shadow(0px 1px 2px rgba(0, 0, 0, 0.3));\n",
              "      fill: #FFFFFF;\n",
              "    }\n",
              "  </style>\n",
              "\n",
              "      <script>\n",
              "        const buttonEl =\n",
              "          document.querySelector('#df-80db7b25-2989-4f19-bd7b-33ca51f2f61b button.colab-df-convert');\n",
              "        buttonEl.style.display =\n",
              "          google.colab.kernel.accessAllowed ? 'block' : 'none';\n",
              "\n",
              "        async function convertToInteractive(key) {\n",
              "          const element = document.querySelector('#df-80db7b25-2989-4f19-bd7b-33ca51f2f61b');\n",
              "          const dataTable =\n",
              "            await google.colab.kernel.invokeFunction('convertToInteractive',\n",
              "                                                     [key], {});\n",
              "          if (!dataTable) return;\n",
              "\n",
              "          const docLinkHtml = 'Like what you see? Visit the ' +\n",
              "            '<a target=\"_blank\" href=https://colab.research.google.com/notebooks/data_table.ipynb>data table notebook</a>'\n",
              "            + ' to learn more about interactive tables.';\n",
              "          element.innerHTML = '';\n",
              "          dataTable['output_type'] = 'display_data';\n",
              "          await google.colab.output.renderOutput(dataTable, element);\n",
              "          const docLink = document.createElement('div');\n",
              "          docLink.innerHTML = docLinkHtml;\n",
              "          element.appendChild(docLink);\n",
              "        }\n",
              "      </script>\n",
              "    </div>\n",
              "  </div>\n",
              "  "
            ]
          },
          "metadata": {},
          "execution_count": 5
        }
      ]
    },
    {
      "cell_type": "code",
      "source": [
        "# procurando dados faltantes\n",
        "missing = df.isna().sum()\n",
        "print(missing)"
      ],
      "metadata": {
        "colab": {
          "base_uri": "https://localhost:8080/"
        },
        "id": "c7xl-09Fbkqg",
        "outputId": "7ca2b5f0-b1cf-405f-8eda-7f774837853d"
      },
      "execution_count": null,
      "outputs": [
        {
          "output_type": "stream",
          "name": "stdout",
          "text": [
            "BALANCE                               0\n",
            "BALANCE_FREQUENCY                     0\n",
            "PURCHASES                             0\n",
            "ONEOFF_PURCHASES                      0\n",
            "INSTALLMENTS_PURCHASES                0\n",
            "CASH_ADVANCE                          0\n",
            "PURCHASES_FREQUENCY                   0\n",
            "ONEOFF_PURCHASES_FREQUENCY            0\n",
            "PURCHASES_INSTALLMENTS_FREQUENCY      0\n",
            "CASH_ADVANCE_FREQUENCY                0\n",
            "CASH_ADVANCE_TRX                      0\n",
            "PURCHASES_TRX                         0\n",
            "CREDIT_LIMIT                          1\n",
            "PAYMENTS                              0\n",
            "MINIMUM_PAYMENTS                    313\n",
            "PRC_FULL_PAYMENT                      0\n",
            "dtype: int64\n"
          ]
        }
      ]
    },
    {
      "cell_type": "code",
      "source": [
        "# substituindo os valores missing para o valor de mediana, não é o valor correto\n",
        "# mas é um valor próximo\n",
        "df.fillna(df.median(), inplace=True)\n",
        "missing = df.isna().sum()\n",
        "print(missing)"
      ],
      "metadata": {
        "colab": {
          "base_uri": "https://localhost:8080/"
        },
        "id": "cn4qeFwCbr75",
        "outputId": "e09302fc-de0a-4399-8d9f-a72a6b0daae0"
      },
      "execution_count": null,
      "outputs": [
        {
          "output_type": "stream",
          "name": "stdout",
          "text": [
            "BALANCE                             0\n",
            "BALANCE_FREQUENCY                   0\n",
            "PURCHASES                           0\n",
            "ONEOFF_PURCHASES                    0\n",
            "INSTALLMENTS_PURCHASES              0\n",
            "CASH_ADVANCE                        0\n",
            "PURCHASES_FREQUENCY                 0\n",
            "ONEOFF_PURCHASES_FREQUENCY          0\n",
            "PURCHASES_INSTALLMENTS_FREQUENCY    0\n",
            "CASH_ADVANCE_FREQUENCY              0\n",
            "CASH_ADVANCE_TRX                    0\n",
            "PURCHASES_TRX                       0\n",
            "CREDIT_LIMIT                        0\n",
            "PAYMENTS                            0\n",
            "MINIMUM_PAYMENTS                    0\n",
            "PRC_FULL_PAYMENT                    0\n",
            "dtype: int64\n"
          ]
        }
      ]
    },
    {
      "cell_type": "code",
      "source": [
        "# normalizando os dados para colocar os dados na mesma base de 0 e 1\n",
        "# é muito importante normalizar os dados\n",
        "from sklearn.preprocessing import Normalizer\n",
        "values = Normalizer().fit_transform(df.values)\n",
        "print(values)"
      ],
      "metadata": {
        "colab": {
          "base_uri": "https://localhost:8080/"
        },
        "id": "_11k-fAicN-L",
        "outputId": "626cf79c-9091-45c1-e356-5854ec612ea3"
      },
      "execution_count": null,
      "outputs": [
        {
          "output_type": "stream",
          "name": "stdout",
          "text": [
            "[[3.93555441e-02 7.87271593e-04 9.17958473e-02 ... 1.94178127e-01\n",
            "  1.34239194e-01 0.00000000e+00]\n",
            " [2.93875903e-01 8.34231560e-05 0.00000000e+00 ... 3.76516684e-01\n",
            "  9.84037959e-02 2.03923046e-05]\n",
            " [3.10798149e-01 1.24560965e-04 9.63068011e-02 ... 7.74852335e-02\n",
            "  7.81351982e-02 0.00000000e+00]\n",
            " ...\n",
            " [2.27733092e-02 8.11060955e-04 1.40540698e-01 ... 7.90986945e-02\n",
            "  8.02156174e-02 2.43318384e-04]\n",
            " [2.65257948e-02 1.64255731e-03 0.00000000e+00 ... 1.03579625e-01\n",
            "  1.09898221e-01 4.92767391e-04]\n",
            " [1.86406219e-01 3.33426837e-04 5.46778061e-01 ... 3.15915455e-02\n",
            "  4.41568390e-02 0.00000000e+00]]\n"
          ]
        }
      ]
    },
    {
      "cell_type": "code",
      "source": [
        "# usando o kmeans para clusterizar\n",
        "from sklearn.cluster import KMeans"
      ],
      "metadata": {
        "id": "KSI-4JDYc1Ri"
      },
      "execution_count": null,
      "outputs": []
    },
    {
      "cell_type": "code",
      "source": [
        "# primeiro passamos o número de cluster, o n_init nos retorna n vezes valores \n",
        "# para nos garantir a confiabilidade do algoritmo, então ele roda N vezes e retorna N vezes\n",
        "# max_iter é o número máximo de interações\n",
        "kmeans = KMeans(n_clusters = 5, n_init=10, max_iter = 300)\n",
        "y_pred = kmeans.fit_predict(values)"
      ],
      "metadata": {
        "id": "LEy-XZ9Ucwx2"
      },
      "execution_count": null,
      "outputs": []
    },
    {
      "cell_type": "code",
      "source": [
        "# validação do clustering com metrica de validação\n",
        "# metricas externas e metricas internas\n",
        "# a externas precisa dos labels, mas não temos\n",
        "# a internas não precisa de labels, mas é mais complexa\n",
        "# o primeiro critério da metrica internas é o COMPACTAÇÃO\n",
        "# quão próximos estão os pontos em um mesmo cluster\n",
        "# se os pontos dentro de um cluster estiverem muito junto, isso é bom\n",
        "# significa que o nosso cluster está compactado, ja se tiver muito disperso dentro\n",
        "# do cluster, significa que não está compactado, então não é bom\n",
        "# o segundo critério é SEPARAÇÃO\n",
        "# Quão bem separados estão os pontos em clusters diferentes.\n",
        "# quanto mais distantes um cluster do outro é melhor, significa que eles estão mais\n",
        "# divididos, mais classificados"
      ],
      "metadata": {
        "id": "JExDtBYAdfoz"
      },
      "execution_count": null,
      "outputs": []
    },
    {
      "cell_type": "code",
      "source": [
        "# usando o coeficiente de sillhouette\n",
        "from sklearn import metrics\n",
        "labels = kmeans.labels_\n",
        "silhouette = metrics.silhouette_score(values, labels, metric = 'euclidean')\n",
        "print(silhouette)\n",
        "# como é maior que 0 é um valor bom, pois os valores de silhouette vai de -1 a 1\n",
        "# Quanto mais próximo de 1 estiver o valor de silhouette mais separados estão os clusters."
      ],
      "metadata": {
        "colab": {
          "base_uri": "https://localhost:8080/"
        },
        "id": "BWxhEeiMhcfJ",
        "outputId": "e5d7af3b-ffd8-482a-bc7a-428caf61cca6"
      },
      "execution_count": null,
      "outputs": [
        {
          "output_type": "stream",
          "name": "stdout",
          "text": [
            "0.3645412082353538\n"
          ]
        }
      ]
    },
    {
      "cell_type": "markdown",
      "source": [
        "Link para saber mais sobre qualidade de agrupamentos:\n",
        "\n",
        "https://medium.com/@gilneyjnr/qualidade-de-agrupamentos-ci%C3%AAncia-de-dados-4b1176bef5e5"
      ],
      "metadata": {
        "id": "2xcdvJ7GAIt9"
      }
    },
    {
      "cell_type": "code",
      "source": [
        "# Davies bouldin ele mede a qualidade do cluster usando como critério o próprio\n",
        "# agrupamento do cluster e quanto mais próximo de 0 melhor\n",
        "dbs = metrics.davies_bouldin_score(values, labels)\n",
        "print(dbs)"
      ],
      "metadata": {
        "id": "yyl9e95Zho1k",
        "colab": {
          "base_uri": "https://localhost:8080/"
        },
        "outputId": "cd37ceb1-e3e9-4e1a-a843-0e228378fb50"
      },
      "execution_count": null,
      "outputs": [
        {
          "output_type": "stream",
          "name": "stdout",
          "text": [
            "1.0759109484969387\n"
          ]
        }
      ]
    },
    {
      "cell_type": "code",
      "source": [
        "# a metrica calinski - Harabasz ele faz a metrica de dispersão dos pontos\n",
        "# dentro do cluster e os pontos entre os clusters diferentes\n",
        "# A principal diferença do índice calinski harabasz em relação às outras medidas é o cálculo da variância.\n",
        "\n",
        "calinski = metrics.calinski_harabasz_score(values, labels)\n",
        "calinski"
      ],
      "metadata": {
        "id": "TcDSbexqcjHH",
        "colab": {
          "base_uri": "https://localhost:8080/"
        },
        "outputId": "7ab7c3a8-85be-4b68-be15-81c2d9d895fe"
      },
      "execution_count": null,
      "outputs": [
        {
          "output_type": "execute_result",
          "data": {
            "text/plain": [
              "3431.794135866532"
            ]
          },
          "metadata": {},
          "execution_count": 91
        }
      ]
    },
    {
      "cell_type": "code",
      "source": [
        "# temos 3 metricas até o momento, o sillhouette, davies bouldin e calinski, todas\n",
        "# elas buscan satisfazer os critérios de compactação e separação dos clusters\n",
        "# qual é a melhor metrica?\n",
        "# vamos usar a validação relativa, vamos comparar os valores das metricas\n",
        "# com configuração diferente do nosso algoritmo de cluster, exemplo: mudando o numero de clusters"
      ],
      "metadata": {
        "id": "S-pemEAGD9c1"
      },
      "execution_count": null,
      "outputs": []
    },
    {
      "cell_type": "code",
      "source": [
        "# criando uma função que calcula o numero de cluster no kmeans e ja retorna\n",
        "# as 3 métricas\n",
        "def clustering_algoritm(n_clusters, dataset):\n",
        "  kmeans = KMeans(n_clusters = n_clusters, n_init=10, max_iter = 300)\n",
        "  labels = kmeans.fit_predict(dataset)\n",
        "\n",
        "  s = metrics.silhouette_score(dataset, labels, metric = 'euclidean')\n",
        "  \n",
        "  dbs = metrics.davies_bouldin_score(dataset, labels)\n",
        "  \n",
        "  calinski = metrics.calinski_harabasz_score(dataset, labels)\n",
        "  return s, dbs, calinski"
      ],
      "metadata": {
        "id": "8nNXM31YFfaN"
      },
      "execution_count": null,
      "outputs": []
    },
    {
      "cell_type": "markdown",
      "source": [
        " usando varias configurações de numero de cluster, percebendos que mais que 10 cluster as metricas ficam horriveis, então temos 3 e 5 cluster, o de 5 cluster as metricas tiveram um melhor resultado, a metrica de silhouette é a metrica mais usada, então vamos tirar ela por base\n",
        "."
      ],
      "metadata": {
        "id": "gZQJJLI7JQOs"
      }
    },
    {
      "cell_type": "code",
      "source": [
        "s1 , dbs1, calinski1 = clustering_algoritm(3, values)\n",
        "print(s1, dbs1, calinski1)"
      ],
      "metadata": {
        "colab": {
          "base_uri": "https://localhost:8080/"
        },
        "id": "Sqz-_S9BGXkH",
        "outputId": "eb91500b-9b1b-4769-e10e-f68828109446"
      },
      "execution_count": null,
      "outputs": [
        {
          "output_type": "stream",
          "name": "stdout",
          "text": [
            "0.3272203126696238 1.3096073640088426 3526.440519908274\n"
          ]
        }
      ]
    },
    {
      "cell_type": "code",
      "source": [
        "s2 , dbs2, calinski2 = clustering_algoritm(5, values)\n",
        "print(s2, dbs2, calinski2)"
      ],
      "metadata": {
        "colab": {
          "base_uri": "https://localhost:8080/"
        },
        "id": "3BmiNi1aGp16",
        "outputId": "afb874ee-695e-4c93-e944-87f13080b8b9"
      },
      "execution_count": null,
      "outputs": [
        {
          "output_type": "stream",
          "name": "stdout",
          "text": [
            "0.3645055324417282 1.0756856623533981 3431.800717231779\n"
          ]
        }
      ]
    },
    {
      "cell_type": "code",
      "source": [
        "s3 , dbs3, calinski3 = clustering_algoritm(20, values)\n",
        "print(s3, dbs3, calinski3)"
      ],
      "metadata": {
        "colab": {
          "base_uri": "https://localhost:8080/"
        },
        "id": "7Q5IqFyrH3GU",
        "outputId": "b5b81e3b-f2e2-42b2-e128-0fb4eefe8c5d"
      },
      "execution_count": null,
      "outputs": [
        {
          "output_type": "stream",
          "name": "stdout",
          "text": [
            "0.2782365200488237 1.2035114564206846 2416.5380377354772\n"
          ]
        }
      ]
    },
    {
      "cell_type": "code",
      "source": [
        "# outra validação que podemos fazer é comparar os valores que tivemos com outros\n",
        "# valores de um conjunto de dados aleatório, assim podemos validar se os nossos\n",
        "# dados possuem uma melhor métrica e validar se os nossos dados tem uma estrutura\n",
        "# clusterizada \n",
        "# vamos construir uma df com dados aleatorios de 0 e 1 com as mesmas configurações\n",
        "# do nosso df, vamos usar a mesma quantidade de variáveis=16, mesma quantidade de \n",
        "# pontos=clientes\n",
        "df.count()"
      ],
      "metadata": {
        "colab": {
          "base_uri": "https://localhost:8080/"
        },
        "id": "Ichirt17IwPr",
        "outputId": "b2577340-64ed-42e5-93b1-67ea9401b8fd"
      },
      "execution_count": null,
      "outputs": [
        {
          "output_type": "execute_result",
          "data": {
            "text/plain": [
              "BALANCE                             8950\n",
              "BALANCE_FREQUENCY                   8950\n",
              "PURCHASES                           8950\n",
              "ONEOFF_PURCHASES                    8950\n",
              "INSTALLMENTS_PURCHASES              8950\n",
              "CASH_ADVANCE                        8950\n",
              "PURCHASES_FREQUENCY                 8950\n",
              "ONEOFF_PURCHASES_FREQUENCY          8950\n",
              "PURCHASES_INSTALLMENTS_FREQUENCY    8950\n",
              "CASH_ADVANCE_FREQUENCY              8950\n",
              "CASH_ADVANCE_TRX                    8950\n",
              "PURCHASES_TRX                       8950\n",
              "CREDIT_LIMIT                        8950\n",
              "PAYMENTS                            8950\n",
              "MINIMUM_PAYMENTS                    8950\n",
              "PRC_FULL_PAYMENT                    8950\n",
              "dtype: int64"
            ]
          },
          "metadata": {},
          "execution_count": 57
        }
      ]
    },
    {
      "cell_type": "code",
      "source": [
        "import numpy as np\n",
        "random_data = np.random.rand(8950, 16)\n",
        "s, dbs, calinski = clustering_algoritm(5, random_data)\n",
        "print(s, dbs, calinski)\n",
        "print(s2, dbs2, calinski2)\n",
        "# os nossos dados estão melhor, pois os valores não estão muito similares\n",
        "# caso os 3 valores das metricas da nossa base de dados aleatória, fosse melhor\n",
        "# ou similar aos valores da nossa base de dados original\n",
        "# precisamos rever os nossos dados, técnicas ou configuração do kmeans\n",
        "# para melhorar isso"
      ],
      "metadata": {
        "colab": {
          "base_uri": "https://localhost:8080/"
        },
        "id": "09BGlfdhKCYZ",
        "outputId": "79f78d5c-5eee-4b65-fa54-435f71ee4473"
      },
      "execution_count": null,
      "outputs": [
        {
          "output_type": "stream",
          "name": "stdout",
          "text": [
            "0.039695550514838765 3.5083617493556245 306.0625350435103\n",
            "0.3645055324417282 1.0756856623533981 3431.800717231779\n"
          ]
        }
      ]
    },
    {
      "cell_type": "code",
      "source": [
        "# validando a estabilidade do cluster\n",
        "# vamos dividir a base de dados, rodar o kmeans para cada divisão\n",
        "# e queremos que os resultados das metricas sejam similares\n",
        "\n",
        "# dividindo o df em 3\n",
        "set1, set2, set3 = np.array_split(values, 3)\n",
        "s1, dbs1, calinski1 = clustering_algoritm(5, set1)\n",
        "print(s1, dbs1, calinski1)\n",
        "\n",
        "s2, dbs2, calinski2 = clustering_algoritm(5, set2)\n",
        "print(s2, dbs2, calinski2)\n",
        "\n",
        "s3, dbs3, calinski3 = clustering_algoritm(5, set3)\n",
        "print(s3, dbs3, calinski3)\n",
        "\n",
        "# nossas partes são estaveis, pois os valores são bem similares"
      ],
      "metadata": {
        "colab": {
          "base_uri": "https://localhost:8080/"
        },
        "id": "i4tKYo9fK3j_",
        "outputId": "770a10f6-266a-4d5f-c292-892ec65dd105"
      },
      "execution_count": null,
      "outputs": [
        {
          "output_type": "stream",
          "name": "stdout",
          "text": [
            "0.3692455604046628 1.0550439720459237 1203.9722444846886\n",
            "0.3539831746159207 1.1396268152633489 1194.9384641787258\n",
            "0.36704573758244236 1.0990426578873271 1167.5322875560998\n"
          ]
        }
      ]
    },
    {
      "cell_type": "code",
      "source": [
        "# usando gráficos para interpretar as métricas\n",
        "# como temos 16 atributos, precisamos selecionar 2 desses 16, para construir\n",
        "# um gráfico de 2 dimenssões "
      ],
      "metadata": {
        "id": "RfmD9K0rL-oH"
      },
      "execution_count": null,
      "outputs": []
    },
    {
      "cell_type": "code",
      "source": [
        "import matplotlib.pyplot as plt\n",
        "# s = 5 significa o tamanho dos pontos, cmap é o esquema de cores\n",
        "plt.scatter(df['PURCHASES'], df['PAYMENTS'], c=labels, s=5, cmap = 'rainbow')\n",
        "plt.xlabel(\"Valor total pago\")\n",
        "plt.ylabel(\"Valor total gasto\")\n",
        "plt.show()\n",
        "\n",
        "# oque da para interpretar é, que temos 5 cluster mas só 2 se sobre sai\n",
        "# o valor gasto do cliente que está em vermelho tende a fazer uma linha\n",
        "# na vertical que não está acompanhando o valor pago dos clientes, isso representa\n",
        "# os clientes que gastaram mais e não pagaram ou pagaram o minimo da fatura\n",
        "# o cluster roxo que tem o crescimento na diagonal, significa que são os cliente\n",
        "# que conforme gasta, vai pagando a fatura compativelmente "
      ],
      "metadata": {
        "colab": {
          "base_uri": "https://localhost:8080/",
          "height": 279
        },
        "id": "rWzhj5_HOQBO",
        "outputId": "514f1da5-1f9f-45ef-c035-dbfcad534fd4"
      },
      "execution_count": null,
      "outputs": [
        {
          "output_type": "display_data",
          "data": {
            "text/plain": [
              "<Figure size 432x288 with 1 Axes>"
            ],
            "image/png": "[encoded data removed]"
          },
          "metadata": {
            "needs_background": "light"
          }
        }
      ]
    },
    {
      "cell_type": "code",
      "source": [
        "# já que conseguimos ver de 2 em 2, devido que o gráfico é só de 2 dimenssão\n",
        "# vamos plotar então de 2 em 2\n",
        "import seaborn as sns\n",
        "df[\"cluster\"] = labels\n",
        "# hue significa a coluna que vai dar as cores\n",
        "sns.pairplot(df[0:], hue = \"cluster\")"
      ],
      "metadata": {
        "id": "eXll_ObmO1Eh"
      },
      "execution_count": null,
      "outputs": []
    },
    {
      "cell_type": "code",
      "source": [
        "# como a visualização não deu muito certo para interpretar todos os atributos\n",
        "# vamos pelos valores estatisticos \n",
        "df.groupby(\"cluster\").describe()\n",
        "\n",
        "# até indo para parte estatística é difícil, pois temos muitos atributos\n",
        "# então para resolver precisamos pegar os atributos com a maior representatividade"
      ],
      "metadata": {
        "colab": {
          "base_uri": "https://localhost:8080/",
          "height": 298
        },
        "id": "1u9PVXx2QNDy",
        "outputId": "6044126d-6cf4-4cad-e961-c803ddf2b70e"
      },
      "execution_count": null,
      "outputs": [
        {
          "output_type": "execute_result",
          "data": {
            "text/plain": [
              "        BALANCE                                                    \\\n",
              "          count         mean          std        min          25%   \n",
              "cluster                                                             \n",
              "0        1536.0  1141.865757  1664.809840   0.000000   212.178230   \n",
              "1        3280.0   443.746756   846.398201   0.000000    23.365333   \n",
              "2        1073.0  1795.328292  1982.485775   0.000000   507.076999   \n",
              "3        2649.0  3037.962543  2478.838161   6.824905  1256.612223   \n",
              "4         412.0  1987.146873  1852.215743  70.794108  1020.146724   \n",
              "\n",
              "                                                BALANCE_FREQUENCY            \\\n",
              "                 50%          75%           max             count      mean   \n",
              "cluster                                                                       \n",
              "0         554.332740  1370.056708  19043.138560            1536.0  0.928220   \n",
              "1          82.941478   410.126095   9630.367575            3280.0  0.774389   \n",
              "2        1088.056301  2315.003636  14581.459140            1073.0  0.862260   \n",
              "3        2174.018945  4223.867789  18495.558550            2649.0  0.963740   \n",
              "4        1338.918346  2133.415063  11670.179850             412.0  0.989512   \n",
              "\n",
              "         ... MINIMUM_PAYMENTS               PRC_FULL_PAYMENT            \\\n",
              "         ...              75%           max            count      mean   \n",
              "cluster  ...                                                             \n",
              "0        ...       523.540210  18621.013310           1536.0  0.278331   \n",
              "1        ...       248.733727   4483.503862           3280.0  0.246806   \n",
              "2        ...       884.183626  21235.065300           1073.0  0.117430   \n",
              "3        ...      1330.593643   8345.641905           2649.0  0.001799   \n",
              "4        ...      7086.774783  76406.207520            412.0  0.019271   \n",
              "\n",
              "                                                      \n",
              "              std  min  25%       50%       75%  max  \n",
              "cluster                                               \n",
              "0        0.367137  0.0  0.0  0.083333  0.545455  1.0  \n",
              "1        0.346748  0.0  0.0  0.000000  0.444444  1.0  \n",
              "2        0.186772  0.0  0.0  0.083333  0.142857  1.0  \n",
              "3        0.023260  0.0  0.0  0.000000  0.000000  0.6  \n",
              "4        0.090795  0.0  0.0  0.000000  0.000000  1.0  \n",
              "\n",
              "[5 rows x 128 columns]"
            ],
            "text/html": [
              "\n",
              "  <div id=\"df-036396d2-b587-4a73-a5c7-720df28bbbef\">\n",
              "    <div class=\"colab-df-container\">\n",
              "      <div>\n",
              "<style scoped>\n",
              "    .dataframe tbody tr th:only-of-type {\n",
              "        vertical-align: middle;\n",
              "    }\n",
              "\n",
              "    .dataframe tbody tr th {\n",
              "        vertical-align: top;\n",
              "    }\n",
              "\n",
              "    .dataframe thead tr th {\n",
              "        text-align: left;\n",
              "    }\n",
              "\n",
              "    .dataframe thead tr:last-of-type th {\n",
              "        text-align: right;\n",
              "    }\n",
              "</style>\n",
              "<table border=\"1\" class=\"dataframe\">\n",
              "  <thead>\n",
              "    <tr>\n",
              "      <th></th>\n",
              "      <th colspan=\"8\" halign=\"left\">BALANCE</th>\n",
              "      <th colspan=\"2\" halign=\"left\">BALANCE_FREQUENCY</th>\n",
              "      <th>...</th>\n",
              "      <th colspan=\"2\" halign=\"left\">MINIMUM_PAYMENTS</th>\n",
              "      <th colspan=\"8\" halign=\"left\">PRC_FULL_PAYMENT</th>\n",
              "    </tr>\n",
              "    <tr>\n",
              "      <th></th>\n",
              "      <th>count</th>\n",
              "      <th>mean</th>\n",
              "      <th>std</th>\n",
              "      <th>min</th>\n",
              "      <th>25%</th>\n",
              "      <th>50%</th>\n",
              "      <th>75%</th>\n",
              "      <th>max</th>\n",
              "      <th>count</th>\n",
              "      <th>mean</th>\n",
              "      <th>...</th>\n",
              "      <th>75%</th>\n",
              "      <th>max</th>\n",
              "      <th>count</th>\n",
              "      <th>mean</th>\n",
              "      <th>std</th>\n",
              "      <th>min</th>\n",
              "      <th>25%</th>\n",
              "      <th>50%</th>\n",
              "      <th>75%</th>\n",
              "      <th>max</th>\n",
              "    </tr>\n",
              "    <tr>\n",
              "      <th>cluster</th>\n",
              "      <th></th>\n",
              "      <th></th>\n",
              "      <th></th>\n",
              "      <th></th>\n",
              "      <th></th>\n",
              "      <th></th>\n",
              "      <th></th>\n",
              "      <th></th>\n",
              "      <th></th>\n",
              "      <th></th>\n",
              "      <th></th>\n",
              "      <th></th>\n",
              "      <th></th>\n",
              "      <th></th>\n",
              "      <th></th>\n",
              "      <th></th>\n",
              "      <th></th>\n",
              "      <th></th>\n",
              "      <th></th>\n",
              "      <th></th>\n",
              "      <th></th>\n",
              "    </tr>\n",
              "  </thead>\n",
              "  <tbody>\n",
              "    <tr>\n",
              "      <th>0</th>\n",
              "      <td>1536.0</td>\n",
              "      <td>1141.865757</td>\n",
              "      <td>1664.809840</td>\n",
              "      <td>0.000000</td>\n",
              "      <td>212.178230</td>\n",
              "      <td>554.332740</td>\n",
              "      <td>1370.056708</td>\n",
              "      <td>19043.138560</td>\n",
              "      <td>1536.0</td>\n",
              "      <td>0.928220</td>\n",
              "      <td>...</td>\n",
              "      <td>523.540210</td>\n",
              "      <td>18621.013310</td>\n",
              "      <td>1536.0</td>\n",
              "      <td>0.278331</td>\n",
              "      <td>0.367137</td>\n",
              "      <td>0.0</td>\n",
              "      <td>0.0</td>\n",
              "      <td>0.083333</td>\n",
              "      <td>0.545455</td>\n",
              "      <td>1.0</td>\n",
              "    </tr>\n",
              "    <tr>\n",
              "      <th>1</th>\n",
              "      <td>3280.0</td>\n",
              "      <td>443.746756</td>\n",
              "      <td>846.398201</td>\n",
              "      <td>0.000000</td>\n",
              "      <td>23.365333</td>\n",
              "      <td>82.941478</td>\n",
              "      <td>410.126095</td>\n",
              "      <td>9630.367575</td>\n",
              "      <td>3280.0</td>\n",
              "      <td>0.774389</td>\n",
              "      <td>...</td>\n",
              "      <td>248.733727</td>\n",
              "      <td>4483.503862</td>\n",
              "      <td>3280.0</td>\n",
              "      <td>0.246806</td>\n",
              "      <td>0.346748</td>\n",
              "      <td>0.0</td>\n",
              "      <td>0.0</td>\n",
              "      <td>0.000000</td>\n",
              "      <td>0.444444</td>\n",
              "      <td>1.0</td>\n",
              "    </tr>\n",
              "    <tr>\n",
              "      <th>2</th>\n",
              "      <td>1073.0</td>\n",
              "      <td>1795.328292</td>\n",
              "      <td>1982.485775</td>\n",
              "      <td>0.000000</td>\n",
              "      <td>507.076999</td>\n",
              "      <td>1088.056301</td>\n",
              "      <td>2315.003636</td>\n",
              "      <td>14581.459140</td>\n",
              "      <td>1073.0</td>\n",
              "      <td>0.862260</td>\n",
              "      <td>...</td>\n",
              "      <td>884.183626</td>\n",
              "      <td>21235.065300</td>\n",
              "      <td>1073.0</td>\n",
              "      <td>0.117430</td>\n",
              "      <td>0.186772</td>\n",
              "      <td>0.0</td>\n",
              "      <td>0.0</td>\n",
              "      <td>0.083333</td>\n",
              "      <td>0.142857</td>\n",
              "      <td>1.0</td>\n",
              "    </tr>\n",
              "    <tr>\n",
              "      <th>3</th>\n",
              "      <td>2649.0</td>\n",
              "      <td>3037.962543</td>\n",
              "      <td>2478.838161</td>\n",
              "      <td>6.824905</td>\n",
              "      <td>1256.612223</td>\n",
              "      <td>2174.018945</td>\n",
              "      <td>4223.867789</td>\n",
              "      <td>18495.558550</td>\n",
              "      <td>2649.0</td>\n",
              "      <td>0.963740</td>\n",
              "      <td>...</td>\n",
              "      <td>1330.593643</td>\n",
              "      <td>8345.641905</td>\n",
              "      <td>2649.0</td>\n",
              "      <td>0.001799</td>\n",
              "      <td>0.023260</td>\n",
              "      <td>0.0</td>\n",
              "      <td>0.0</td>\n",
              "      <td>0.000000</td>\n",
              "      <td>0.000000</td>\n",
              "      <td>0.6</td>\n",
              "    </tr>\n",
              "    <tr>\n",
              "      <th>4</th>\n",
              "      <td>412.0</td>\n",
              "      <td>1987.146873</td>\n",
              "      <td>1852.215743</td>\n",
              "      <td>70.794108</td>\n",
              "      <td>1020.146724</td>\n",
              "      <td>1338.918346</td>\n",
              "      <td>2133.415063</td>\n",
              "      <td>11670.179850</td>\n",
              "      <td>412.0</td>\n",
              "      <td>0.989512</td>\n",
              "      <td>...</td>\n",
              "      <td>7086.774783</td>\n",
              "      <td>76406.207520</td>\n",
              "      <td>412.0</td>\n",
              "      <td>0.019271</td>\n",
              "      <td>0.090795</td>\n",
              "      <td>0.0</td>\n",
              "      <td>0.0</td>\n",
              "      <td>0.000000</td>\n",
              "      <td>0.000000</td>\n",
              "      <td>1.0</td>\n",
              "    </tr>\n",
              "  </tbody>\n",
              "</table>\n",
              "<p>5 rows × 128 columns</p>\n",
              "</div>\n",
              "      <button class=\"colab-df-convert\" onclick=\"convertToInteractive('df-036396d2-b587-4a73-a5c7-720df28bbbef')\"\n",
              "              title=\"Convert this dataframe to an interactive table.\"\n",
              "              style=\"display:none;\">\n",
              "        \n",
              "  <svg xmlns=\"http://www.w3.org/2000/svg\" height=\"24px\"viewBox=\"0 0 24 24\"\n",
              "       width=\"24px\">\n",
              "    <path d=\"M0 0h24v24H0V0z\" fill=\"none\"/>\n",
              "    <path d=\"M18.56 5.44l.94 2.06.94-2.06 2.06-.94-2.06-.94-.94-2.06-.94 2.06-2.06.94zm-11 1L8.5 8.5l.94-2.06 2.06-.94-2.06-.94L8.5 2.5l-.94 2.06-2.06.94zm10 10l.94 2.06.94-2.06 2.06-.94-2.06-.94-.94-2.06-.94 2.06-2.06.94z\"/><path d=\"M17.41 7.96l-1.37-1.37c-.4-.4-.92-.59-1.43-.59-.52 0-1.04.2-1.43.59L10.3 9.45l-7.72 7.72c-.78.78-.78 2.05 0 2.83L4 21.41c.39.39.9.59 1.41.59.51 0 1.02-.2 1.41-.59l7.78-7.78 2.81-2.81c.8-.78.8-2.07 0-2.86zM5.41 20L4 18.59l7.72-7.72 1.47 1.35L5.41 20z\"/>\n",
              "  </svg>\n",
              "      </button>\n",
              "      \n",
              "  <style>\n",
              "    .colab-df-container {\n",
              "      display:flex;\n",
              "      flex-wrap:wrap;\n",
              "      gap: 12px;\n",
              "    }\n",
              "\n",
              "    .colab-df-convert {\n",
              "      background-color: #E8F0FE;\n",
              "      border: none;\n",
              "      border-radius: 50%;\n",
              "      cursor: pointer;\n",
              "      display: none;\n",
              "      fill: #1967D2;\n",
              "      height: 32px;\n",
              "      padding: 0 0 0 0;\n",
              "      width: 32px;\n",
              "    }\n",
              "\n",
              "    .colab-df-convert:hover {\n",
              "      background-color: #E2EBFA;\n",
              "      box-shadow: 0px 1px 2px rgba(60, 64, 67, 0.3), 0px 1px 3px 1px rgba(60, 64, 67, 0.15);\n",
              "      fill: #174EA6;\n",
              "    }\n",
              "\n",
              "    [theme=dark] .colab-df-convert {\n",
              "      background-color: #3B4455;\n",
              "      fill: #D2E3FC;\n",
              "    }\n",
              "\n",
              "    [theme=dark] .colab-df-convert:hover {\n",
              "      background-color: #434B5C;\n",
              "      box-shadow: 0px 1px 3px 1px rgba(0, 0, 0, 0.15);\n",
              "      filter: drop-shadow(0px 1px 2px rgba(0, 0, 0, 0.3));\n",
              "      fill: #FFFFFF;\n",
              "    }\n",
              "  </style>\n",
              "\n",
              "      <script>\n",
              "        const buttonEl =\n",
              "          document.querySelector('#df-036396d2-b587-4a73-a5c7-720df28bbbef button.colab-df-convert');\n",
              "        buttonEl.style.display =\n",
              "          google.colab.kernel.accessAllowed ? 'block' : 'none';\n",
              "\n",
              "        async function convertToInteractive(key) {\n",
              "          const element = document.querySelector('#df-036396d2-b587-4a73-a5c7-720df28bbbef');\n",
              "          const dataTable =\n",
              "            await google.colab.kernel.invokeFunction('convertToInteractive',\n",
              "                                                     [key], {});\n",
              "          if (!dataTable) return;\n",
              "\n",
              "          const docLinkHtml = 'Like what you see? Visit the ' +\n",
              "            '<a target=\"_blank\" href=https://colab.research.google.com/notebooks/data_table.ipynb>data table notebook</a>'\n",
              "            + ' to learn more about interactive tables.';\n",
              "          element.innerHTML = '';\n",
              "          dataTable['output_type'] = 'display_data';\n",
              "          await google.colab.output.renderOutput(dataTable, element);\n",
              "          const docLink = document.createElement('div');\n",
              "          docLink.innerHTML = docLinkHtml;\n",
              "          element.appendChild(docLink);\n",
              "        }\n",
              "      </script>\n",
              "    </div>\n",
              "  </div>\n",
              "  "
            ]
          },
          "metadata": {},
          "execution_count": 94
        }
      ]
    },
    {
      "cell_type": "code",
      "source": [
        "# para se basear, a gente vai pegar os centroides dos cluters\n",
        "centroids = kmeans.cluster_centers_\n",
        "print(centroids)\n",
        "# cada lista tem os 16 atributo de cada clusters\n",
        "# vamos olhas a variancia dos centroids para um atributo especifico\n",
        "# exemplo: o primeiro atributo de cada cluster são bem diferente, já o segundo \n",
        "# atributo, tem valores similares e queremos os atributos com valores diferentes\n",
        "# para explicar as diferenças entre os clusters\n",
        "# então vamos calcular a variância para cada atributo e aqueles que tiverem \n",
        "# a maior variância, vamos selecionar "
      ],
      "metadata": {
        "colab": {
          "base_uri": "https://localhost:8080/"
        },
        "id": "T_cqiMzWRSHT",
        "outputId": "fe8e4d14-00e9-4dc7-e3be-87679e46db10"
      },
      "execution_count": null,
      "outputs": [
        {
          "output_type": "stream",
          "name": "stdout",
          "text": [
            "[[1.59872633e-01 2.45335780e-04 4.38628565e-01 2.57276648e-01\n",
            "  1.81523763e-01 2.58896564e-02 2.04405504e-04 8.91003532e-05\n",
            "  1.50573918e-04 9.39953463e-06 1.70012472e-04 6.17608469e-03\n",
            "  6.03886132e-01 4.02529446e-01 8.52570022e-02 7.19925505e-05]\n",
            " [6.90890221e-02 2.30787435e-04 1.21507361e-01 4.79670320e-02\n",
            "  7.36405575e-02 2.43310654e-02 1.72863102e-04 3.36686718e-05\n",
            "  1.40328311e-04 7.92341768e-06 1.23962309e-04 2.86381277e-03\n",
            "  9.43564102e-01 1.53799817e-01 5.68529799e-02 7.61493366e-05]\n",
            " [2.35130689e-01 2.16418717e-04 6.04525670e-02 3.44569238e-02\n",
            "  2.60008529e-02 3.99755165e-01 5.26563547e-05 2.05235176e-05\n",
            "  3.52245850e-05 6.54254245e-05 1.57052528e-03 1.12425758e-03\n",
            "  5.35275552e-01 5.98057989e-01 1.04294158e-01 2.77348362e-05]\n",
            " [5.04263792e-01 2.72194282e-04 6.17808431e-02 3.62269020e-02\n",
            "  2.55756543e-02 2.52903017e-01 6.73170559e-05 2.56975193e-05\n",
            "  4.50651626e-05 5.74388410e-05 1.15687334e-03 1.33194105e-03\n",
            "  7.19174706e-01 1.66205262e-01 1.79245673e-01 5.52303554e-07]\n",
            " [3.32972556e-01 2.68240066e-04 1.58923673e-01 3.62178588e-02\n",
            "  1.23089552e-01 5.82140753e-02 1.66817881e-04 2.64295391e-05\n",
            "  1.47135264e-04 1.92748591e-05 4.26896159e-04 3.86195702e-03\n",
            "  3.76646957e-01 2.52402941e-01 6.79571553e-01 4.22964707e-06]]\n"
          ]
        }
      ]
    },
    {
      "cell_type": "code",
      "source": [
        "max = len(centroids[0])\n",
        "for i in range(max):\n",
        "  print(df.columns.values[i], \"\\n{:.4f}\".format(centroids[:, i].var()))"
      ],
      "metadata": {
        "colab": {
          "base_uri": "https://localhost:8080/"
        },
        "id": "5papmM1pSJFv",
        "outputId": "d1192607-8585-4d0b-d16b-3022d529a774"
      },
      "execution_count": null,
      "outputs": [
        {
          "output_type": "stream",
          "name": "stdout",
          "text": [
            "BALANCE \n",
            "0.0224\n",
            "BALANCE_FREQUENCY \n",
            "0.0000\n",
            "PURCHASES \n",
            "0.0197\n",
            "ONEOFF_PURCHASES \n",
            "0.0077\n",
            "INSTALLMENTS_PURCHASES \n",
            "0.0036\n",
            "CASH_ADVANCE \n",
            "0.0225\n",
            "PURCHASES_FREQUENCY \n",
            "0.0000\n",
            "ONEOFF_PURCHASES_FREQUENCY \n",
            "0.0000\n",
            "PURCHASES_INSTALLMENTS_FREQUENCY \n",
            "0.0000\n",
            "CASH_ADVANCE_FREQUENCY \n",
            "0.0000\n",
            "CASH_ADVANCE_TRX \n",
            "0.0000\n",
            "PURCHASES_TRX \n",
            "0.0000\n",
            "CREDIT_LIMIT \n",
            "0.0360\n",
            "PAYMENTS \n",
            "0.0280\n",
            "MINIMUM_PAYMENTS \n",
            "0.0542\n",
            "PRC_FULL_PAYMENT \n",
            "0.0000\n"
          ]
        }
      ]
    },
    {
      "cell_type": "code",
      "source": [
        "# selecionando os atributos com a segunda unidade após casa decimal maior que 0\n",
        "# e dps verificar se cada atribudo faz sentindo entre eles\n",
        "# limite disponivel BALANCE 0.0297\n",
        "# valor total de compras PURCHASES 0.0214\n",
        "# valor total de saques CASH_ADVANCE 0.0359\n",
        "# limite de credito total CREDIT_LIMIT 0.0202\n",
        "# valor total pago PAYMENTS 0.0140"
      ],
      "metadata": {
        "id": "76S5TwW3TUxC"
      },
      "execution_count": null,
      "outputs": []
    },
    {
      "cell_type": "code",
      "source": [
        "# olhando as estatística de cada atributo selecionado anteriormente\n",
        "description = df.groupby(\"cluster\")[\"BALANCE\", \"PURCHASES\", \"CASH_ADVANCE\", \"CREDIT_LIMIT\", \"PAYMENTS\"]\n",
        "# relacionando os artibutos pela quantidade de cliente dentro do cluster\n",
        "# size vai me dar o numero de cluster que eu tenho\n",
        "n_clients = description.size()\n",
        "description = description.mean()\n",
        "description['n_clients'] = n_clients\n",
        "print(description)"
      ],
      "metadata": {
        "colab": {
          "base_uri": "https://localhost:8080/"
        },
        "id": "cR4AKujuVSwQ",
        "outputId": "cac2b904-1dab-435c-8b1a-54b64dbaf7b1"
      },
      "execution_count": null,
      "outputs": [
        {
          "output_type": "stream",
          "name": "stdout",
          "text": [
            "             BALANCE    PURCHASES  CASH_ADVANCE  CREDIT_LIMIT     PAYMENTS  \\\n",
            "cluster                                                                      \n",
            "0        1141.865757  3274.071901    183.496011   4098.802182  3037.137165   \n",
            "1         443.746756   629.249107    141.482978   5130.547795   814.294226   \n",
            "2        1795.328292   476.810531   3267.199032   3982.452201  4713.384730   \n",
            "3        3037.962543   385.248630   1636.917210   4495.771989   968.890376   \n",
            "4        1987.146873   858.326286    420.107194   2226.699029  1338.974045   \n",
            "\n",
            "         n_clients  \n",
            "cluster             \n",
            "0             1536  \n",
            "1             3280  \n",
            "2             1073  \n",
            "3             2649  \n",
            "4              412  \n"
          ]
        },
        {
          "output_type": "stream",
          "name": "stderr",
          "text": [
            "/usr/local/lib/python3.7/dist-packages/ipykernel_launcher.py:2: FutureWarning: Indexing with multiple keys (implicitly converted to a tuple of keys) will be deprecated, use a list instead.\n",
            "  \n"
          ]
        }
      ]
    },
    {
      "cell_type": "code",
      "source": [
        "# aqui é só um método subjetivo de observação das estatística, você a nota as caracteristcas\n",
        "# de cada registro dos cluster, um exemplo a baixo\n",
        "# CLUSTER 0: Clientes com os menores valores em gastos.\n",
        "# CLUSTER 1: Clientes com os maiores valores em gastos. Menor valor em compras.\n",
        "# CLUSTER 2: Clientes que gastam muito com saques, melhores pagadores \n",
        "# CLUSTER 3: Clientes padrão, piores pagadores"
      ],
      "metadata": {
        "id": "FknaL85CVdCl"
      },
      "execution_count": null,
      "outputs": []
    },
    {
      "cell_type": "code",
      "source": [
        "# o percentual de pagamento do cliente\n",
        "df.groupby(\"cluster\")['PRC_FULL_PAYMENT'].describe()"
      ],
      "metadata": {
        "colab": {
          "base_uri": "https://localhost:8080/",
          "height": 238
        },
        "id": "4uDVUw9ZVvO1",
        "outputId": "788d1b8b-49bf-42c6-9125-ddcdef97987e"
      },
      "execution_count": null,
      "outputs": [
        {
          "output_type": "execute_result",
          "data": {
            "text/plain": [
              "          count      mean       std  min  25%       50%       75%  max\n",
              "cluster                                                               \n",
              "0        1536.0  0.278331  0.367137  0.0  0.0  0.083333  0.545455  1.0\n",
              "1        3280.0  0.246806  0.346748  0.0  0.0  0.000000  0.444444  1.0\n",
              "2        1073.0  0.117430  0.186772  0.0  0.0  0.083333  0.142857  1.0\n",
              "3        2649.0  0.001799  0.023260  0.0  0.0  0.000000  0.000000  0.6\n",
              "4         412.0  0.019271  0.090795  0.0  0.0  0.000000  0.000000  1.0"
            ],
            "text/html": [
              "\n",
              "  <div id=\"df-d83ef9d1-56f1-45dc-9f07-d58152b0ec0a\">\n",
              "    <div class=\"colab-df-container\">\n",
              "      <div>\n",
              "<style scoped>\n",
              "    .dataframe tbody tr th:only-of-type {\n",
              "        vertical-align: middle;\n",
              "    }\n",
              "\n",
              "    .dataframe tbody tr th {\n",
              "        vertical-align: top;\n",
              "    }\n",
              "\n",
              "    .dataframe thead th {\n",
              "        text-align: right;\n",
              "    }\n",
              "</style>\n",
              "<table border=\"1\" class=\"dataframe\">\n",
              "  <thead>\n",
              "    <tr style=\"text-align: right;\">\n",
              "      <th></th>\n",
              "      <th>count</th>\n",
              "      <th>mean</th>\n",
              "      <th>std</th>\n",
              "      <th>min</th>\n",
              "      <th>25%</th>\n",
              "      <th>50%</th>\n",
              "      <th>75%</th>\n",
              "      <th>max</th>\n",
              "    </tr>\n",
              "    <tr>\n",
              "      <th>cluster</th>\n",
              "      <th></th>\n",
              "      <th></th>\n",
              "      <th></th>\n",
              "      <th></th>\n",
              "      <th></th>\n",
              "      <th></th>\n",
              "      <th></th>\n",
              "      <th></th>\n",
              "    </tr>\n",
              "  </thead>\n",
              "  <tbody>\n",
              "    <tr>\n",
              "      <th>0</th>\n",
              "      <td>1536.0</td>\n",
              "      <td>0.278331</td>\n",
              "      <td>0.367137</td>\n",
              "      <td>0.0</td>\n",
              "      <td>0.0</td>\n",
              "      <td>0.083333</td>\n",
              "      <td>0.545455</td>\n",
              "      <td>1.0</td>\n",
              "    </tr>\n",
              "    <tr>\n",
              "      <th>1</th>\n",
              "      <td>3280.0</td>\n",
              "      <td>0.246806</td>\n",
              "      <td>0.346748</td>\n",
              "      <td>0.0</td>\n",
              "      <td>0.0</td>\n",
              "      <td>0.000000</td>\n",
              "      <td>0.444444</td>\n",
              "      <td>1.0</td>\n",
              "    </tr>\n",
              "    <tr>\n",
              "      <th>2</th>\n",
              "      <td>1073.0</td>\n",
              "      <td>0.117430</td>\n",
              "      <td>0.186772</td>\n",
              "      <td>0.0</td>\n",
              "      <td>0.0</td>\n",
              "      <td>0.083333</td>\n",
              "      <td>0.142857</td>\n",
              "      <td>1.0</td>\n",
              "    </tr>\n",
              "    <tr>\n",
              "      <th>3</th>\n",
              "      <td>2649.0</td>\n",
              "      <td>0.001799</td>\n",
              "      <td>0.023260</td>\n",
              "      <td>0.0</td>\n",
              "      <td>0.0</td>\n",
              "      <td>0.000000</td>\n",
              "      <td>0.000000</td>\n",
              "      <td>0.6</td>\n",
              "    </tr>\n",
              "    <tr>\n",
              "      <th>4</th>\n",
              "      <td>412.0</td>\n",
              "      <td>0.019271</td>\n",
              "      <td>0.090795</td>\n",
              "      <td>0.0</td>\n",
              "      <td>0.0</td>\n",
              "      <td>0.000000</td>\n",
              "      <td>0.000000</td>\n",
              "      <td>1.0</td>\n",
              "    </tr>\n",
              "  </tbody>\n",
              "</table>\n",
              "</div>\n",
              "      <button class=\"colab-df-convert\" onclick=\"convertToInteractive('df-d83ef9d1-56f1-45dc-9f07-d58152b0ec0a')\"\n",
              "              title=\"Convert this dataframe to an interactive table.\"\n",
              "              style=\"display:none;\">\n",
              "        \n",
              "  <svg xmlns=\"http://www.w3.org/2000/svg\" height=\"24px\"viewBox=\"0 0 24 24\"\n",
              "       width=\"24px\">\n",
              "    <path d=\"M0 0h24v24H0V0z\" fill=\"none\"/>\n",
              "    <path d=\"M18.56 5.44l.94 2.06.94-2.06 2.06-.94-2.06-.94-.94-2.06-.94 2.06-2.06.94zm-11 1L8.5 8.5l.94-2.06 2.06-.94-2.06-.94L8.5 2.5l-.94 2.06-2.06.94zm10 10l.94 2.06.94-2.06 2.06-.94-2.06-.94-.94-2.06-.94 2.06-2.06.94z\"/><path d=\"M17.41 7.96l-1.37-1.37c-.4-.4-.92-.59-1.43-.59-.52 0-1.04.2-1.43.59L10.3 9.45l-7.72 7.72c-.78.78-.78 2.05 0 2.83L4 21.41c.39.39.9.59 1.41.59.51 0 1.02-.2 1.41-.59l7.78-7.78 2.81-2.81c.8-.78.8-2.07 0-2.86zM5.41 20L4 18.59l7.72-7.72 1.47 1.35L5.41 20z\"/>\n",
              "  </svg>\n",
              "      </button>\n",
              "      \n",
              "  <style>\n",
              "    .colab-df-container {\n",
              "      display:flex;\n",
              "      flex-wrap:wrap;\n",
              "      gap: 12px;\n",
              "    }\n",
              "\n",
              "    .colab-df-convert {\n",
              "      background-color: #E8F0FE;\n",
              "      border: none;\n",
              "      border-radius: 50%;\n",
              "      cursor: pointer;\n",
              "      display: none;\n",
              "      fill: #1967D2;\n",
              "      height: 32px;\n",
              "      padding: 0 0 0 0;\n",
              "      width: 32px;\n",
              "    }\n",
              "\n",
              "    .colab-df-convert:hover {\n",
              "      background-color: #E2EBFA;\n",
              "      box-shadow: 0px 1px 2px rgba(60, 64, 67, 0.3), 0px 1px 3px 1px rgba(60, 64, 67, 0.15);\n",
              "      fill: #174EA6;\n",
              "    }\n",
              "\n",
              "    [theme=dark] .colab-df-convert {\n",
              "      background-color: #3B4455;\n",
              "      fill: #D2E3FC;\n",
              "    }\n",
              "\n",
              "    [theme=dark] .colab-df-convert:hover {\n",
              "      background-color: #434B5C;\n",
              "      box-shadow: 0px 1px 3px 1px rgba(0, 0, 0, 0.15);\n",
              "      filter: drop-shadow(0px 1px 2px rgba(0, 0, 0, 0.3));\n",
              "      fill: #FFFFFF;\n",
              "    }\n",
              "  </style>\n",
              "\n",
              "      <script>\n",
              "        const buttonEl =\n",
              "          document.querySelector('#df-d83ef9d1-56f1-45dc-9f07-d58152b0ec0a button.colab-df-convert');\n",
              "        buttonEl.style.display =\n",
              "          google.colab.kernel.accessAllowed ? 'block' : 'none';\n",
              "\n",
              "        async function convertToInteractive(key) {\n",
              "          const element = document.querySelector('#df-d83ef9d1-56f1-45dc-9f07-d58152b0ec0a');\n",
              "          const dataTable =\n",
              "            await google.colab.kernel.invokeFunction('convertToInteractive',\n",
              "                                                     [key], {});\n",
              "          if (!dataTable) return;\n",
              "\n",
              "          const docLinkHtml = 'Like what you see? Visit the ' +\n",
              "            '<a target=\"_blank\" href=https://colab.research.google.com/notebooks/data_table.ipynb>data table notebook</a>'\n",
              "            + ' to learn more about interactive tables.';\n",
              "          element.innerHTML = '';\n",
              "          dataTable['output_type'] = 'display_data';\n",
              "          await google.colab.output.renderOutput(dataTable, element);\n",
              "          const docLink = document.createElement('div');\n",
              "          docLink.innerHTML = docLinkHtml;\n",
              "          element.appendChild(docLink);\n",
              "        }\n",
              "      </script>\n",
              "    </div>\n",
              "  </div>\n",
              "  "
            ]
          },
          "metadata": {},
          "execution_count": 99
        }
      ]
    },
    {
      "cell_type": "code",
      "source": [
        "# agora como utilizar os cluster?\n",
        "# a gente tirou conclusões sobre cada clusters, assim podemos aplicar uma regra\n",
        "# de negócio em um cluster especifico \n",
        "# e como saber se o cluster está bom, que todas as analise foi boa\n",
        "# pegamos um cluster que queremos aplicar uma regra de negócio e divimos em\n",
        "# o grupo de controle e o grupo de teste e durante um tempo especifico, \n",
        "# aplicamos a regra de negócio só no grupo de teste, se o grupo de teste tiver\n",
        "# o mesmo resultado que o grupo de controle que só agíl naturalmente, então a\n",
        "# analise do nosso cluster foi ruím, agr se tiver resultados significativos positivos\n",
        "# então demos uma boa analise\n",
        "# e para fazer essa divisão, os nosso clientes tenham que ter caracteristicas bem\n",
        "# similares, então leva um tempo para analisar essa divisão"
      ],
      "metadata": {
        "id": "FU9EgsTzZDXB"
      },
      "execution_count": null,
      "outputs": []
    }
  ]
}