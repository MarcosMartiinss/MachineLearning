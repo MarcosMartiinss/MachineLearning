{
  "nbformat": 4,
  "nbformat_minor": 0,
  "metadata": {
    "colab": {
      "provenance": []
    },
    "kernelspec": {
      "name": "python3",
      "display_name": "Python 3"
    },
    "language_info": {
      "name": "python"
    }
  },
  "cells": [
    {
      "cell_type": "markdown",
      "source": [
        "# Nesse notebook tem códigos para aprender a rodar um modelo varias vezes por grupos."
      ],
      "metadata": {
        "id": "69k3IY93jZ43"
      }
    },
    {
      "cell_type": "code",
      "execution_count": 1,
      "metadata": {
        "colab": {
          "base_uri": "https://localhost:8080/",
          "height": 206
        },
        "id": "3BOyrMkUCFu2",
        "outputId": "00a2af4e-ef6b-416f-88e5-9f35741dd59c"
      },
      "outputs": [
        {
          "output_type": "execute_result",
          "data": {
            "text/plain": [
              "       preco  vendido  idade_do_modelo   km_por_ano\n",
              "0   30941.02        1               18  35085.22134\n",
              "1   40557.96        1               20  12622.05362\n",
              "2   89627.50        0               12  11440.79806\n",
              "3   95276.14        0                3  43167.32682\n",
              "4  117384.68        1                4  12770.11290"
            ],
            "text/html": [
              "\n",
              "  <div id=\"df-8c4ddf46-32a9-4ed8-9f06-9f743494dc30\">\n",
              "    <div class=\"colab-df-container\">\n",
              "      <div>\n",
              "<style scoped>\n",
              "    .dataframe tbody tr th:only-of-type {\n",
              "        vertical-align: middle;\n",
              "    }\n",
              "\n",
              "    .dataframe tbody tr th {\n",
              "        vertical-align: top;\n",
              "    }\n",
              "\n",
              "    .dataframe thead th {\n",
              "        text-align: right;\n",
              "    }\n",
              "</style>\n",
              "<table border=\"1\" class=\"dataframe\">\n",
              "  <thead>\n",
              "    <tr style=\"text-align: right;\">\n",
              "      <th></th>\n",
              "      <th>preco</th>\n",
              "      <th>vendido</th>\n",
              "      <th>idade_do_modelo</th>\n",
              "      <th>km_por_ano</th>\n",
              "    </tr>\n",
              "  </thead>\n",
              "  <tbody>\n",
              "    <tr>\n",
              "      <th>0</th>\n",
              "      <td>30941.02</td>\n",
              "      <td>1</td>\n",
              "      <td>18</td>\n",
              "      <td>35085.22134</td>\n",
              "    </tr>\n",
              "    <tr>\n",
              "      <th>1</th>\n",
              "      <td>40557.96</td>\n",
              "      <td>1</td>\n",
              "      <td>20</td>\n",
              "      <td>12622.05362</td>\n",
              "    </tr>\n",
              "    <tr>\n",
              "      <th>2</th>\n",
              "      <td>89627.50</td>\n",
              "      <td>0</td>\n",
              "      <td>12</td>\n",
              "      <td>11440.79806</td>\n",
              "    </tr>\n",
              "    <tr>\n",
              "      <th>3</th>\n",
              "      <td>95276.14</td>\n",
              "      <td>0</td>\n",
              "      <td>3</td>\n",
              "      <td>43167.32682</td>\n",
              "    </tr>\n",
              "    <tr>\n",
              "      <th>4</th>\n",
              "      <td>117384.68</td>\n",
              "      <td>1</td>\n",
              "      <td>4</td>\n",
              "      <td>12770.11290</td>\n",
              "    </tr>\n",
              "  </tbody>\n",
              "</table>\n",
              "</div>\n",
              "      <button class=\"colab-df-convert\" onclick=\"convertToInteractive('df-8c4ddf46-32a9-4ed8-9f06-9f743494dc30')\"\n",
              "              title=\"Convert this dataframe to an interactive table.\"\n",
              "              style=\"display:none;\">\n",
              "        \n",
              "  <svg xmlns=\"http://www.w3.org/2000/svg\" height=\"24px\"viewBox=\"0 0 24 24\"\n",
              "       width=\"24px\">\n",
              "    <path d=\"M0 0h24v24H0V0z\" fill=\"none\"/>\n",
              "    <path d=\"M18.56 5.44l.94 2.06.94-2.06 2.06-.94-2.06-.94-.94-2.06-.94 2.06-2.06.94zm-11 1L8.5 8.5l.94-2.06 2.06-.94-2.06-.94L8.5 2.5l-.94 2.06-2.06.94zm10 10l.94 2.06.94-2.06 2.06-.94-2.06-.94-.94-2.06-.94 2.06-2.06.94z\"/><path d=\"M17.41 7.96l-1.37-1.37c-.4-.4-.92-.59-1.43-.59-.52 0-1.04.2-1.43.59L10.3 9.45l-7.72 7.72c-.78.78-.78 2.05 0 2.83L4 21.41c.39.39.9.59 1.41.59.51 0 1.02-.2 1.41-.59l7.78-7.78 2.81-2.81c.8-.78.8-2.07 0-2.86zM5.41 20L4 18.59l7.72-7.72 1.47 1.35L5.41 20z\"/>\n",
              "  </svg>\n",
              "      </button>\n",
              "      \n",
              "  <style>\n",
              "    .colab-df-container {\n",
              "      display:flex;\n",
              "      flex-wrap:wrap;\n",
              "      gap: 12px;\n",
              "    }\n",
              "\n",
              "    .colab-df-convert {\n",
              "      background-color: #E8F0FE;\n",
              "      border: none;\n",
              "      border-radius: 50%;\n",
              "      cursor: pointer;\n",
              "      display: none;\n",
              "      fill: #1967D2;\n",
              "      height: 32px;\n",
              "      padding: 0 0 0 0;\n",
              "      width: 32px;\n",
              "    }\n",
              "\n",
              "    .colab-df-convert:hover {\n",
              "      background-color: #E2EBFA;\n",
              "      box-shadow: 0px 1px 2px rgba(60, 64, 67, 0.3), 0px 1px 3px 1px rgba(60, 64, 67, 0.15);\n",
              "      fill: #174EA6;\n",
              "    }\n",
              "\n",
              "    [theme=dark] .colab-df-convert {\n",
              "      background-color: #3B4455;\n",
              "      fill: #D2E3FC;\n",
              "    }\n",
              "\n",
              "    [theme=dark] .colab-df-convert:hover {\n",
              "      background-color: #434B5C;\n",
              "      box-shadow: 0px 1px 3px 1px rgba(0, 0, 0, 0.15);\n",
              "      filter: drop-shadow(0px 1px 2px rgba(0, 0, 0, 0.3));\n",
              "      fill: #FFFFFF;\n",
              "    }\n",
              "  </style>\n",
              "\n",
              "      <script>\n",
              "        const buttonEl =\n",
              "          document.querySelector('#df-8c4ddf46-32a9-4ed8-9f06-9f743494dc30 button.colab-df-convert');\n",
              "        buttonEl.style.display =\n",
              "          google.colab.kernel.accessAllowed ? 'block' : 'none';\n",
              "\n",
              "        async function convertToInteractive(key) {\n",
              "          const element = document.querySelector('#df-8c4ddf46-32a9-4ed8-9f06-9f743494dc30');\n",
              "          const dataTable =\n",
              "            await google.colab.kernel.invokeFunction('convertToInteractive',\n",
              "                                                     [key], {});\n",
              "          if (!dataTable) return;\n",
              "\n",
              "          const docLinkHtml = 'Like what you see? Visit the ' +\n",
              "            '<a target=\"_blank\" href=https://colab.research.google.com/notebooks/data_table.ipynb>data table notebook</a>'\n",
              "            + ' to learn more about interactive tables.';\n",
              "          element.innerHTML = '';\n",
              "          dataTable['output_type'] = 'display_data';\n",
              "          await google.colab.output.renderOutput(dataTable, element);\n",
              "          const docLink = document.createElement('div');\n",
              "          docLink.innerHTML = docLinkHtml;\n",
              "          element.appendChild(docLink);\n",
              "        }\n",
              "      </script>\n",
              "    </div>\n",
              "  </div>\n",
              "  "
            ]
          },
          "metadata": {},
          "execution_count": 1
        }
      ],
      "source": [
        "import pandas as pd\n",
        "\n",
        "uri = \"https://gist.githubusercontent.com/guilhermesilveira/e99a526b2e7ccc6c3b70f53db43a87d2/raw/1605fc74aa778066bf2e6695e24d53cf65f2f447/machine-learning-carros-simulacao.csv\"\n",
        "dados = pd.read_csv(uri).drop(columns=[\"Unnamed: 0\"], axis=1)\n",
        "dados.head()"
      ]
    },
    {
      "cell_type": "code",
      "source": [
        "x = dados[[\"preco\", \"idade_do_modelo\", \"km_por_ano\"]]\n",
        "y = dados[\"vendido\"]"
      ],
      "metadata": {
        "id": "AJxwgFuWgkBp"
      },
      "execution_count": 2,
      "outputs": []
    },
    {
      "cell_type": "code",
      "source": [
        "import numpy as np\n",
        "from sklearn.model_selection import train_test_split\n",
        "from sklearn.svm import LinearSVC\n",
        "from sklearn.metrics import accuracy_score\n",
        "\n",
        "x = dados[[\"preco\", \"idade_do_modelo\",\"km_por_ano\"]]\n",
        "y = dados[\"vendido\"]\n",
        "\n",
        "SEED = 158020\n",
        "np.random.seed(SEED)\n",
        "treino_x, teste_x, treino_y, teste_y = train_test_split(x, y, test_size = 0.25,\n",
        "                                                         stratify = y)\n",
        "print(\"Treinaremos com %d elementos e testaremos com %d elementos\" % (len(treino_x), len(teste_x)))"
      ],
      "metadata": {
        "colab": {
          "base_uri": "https://localhost:8080/"
        },
        "id": "gfJA3-ETguPO",
        "outputId": "3a7d1275-d0a6-44eb-eed8-9b92f3c6e4ad"
      },
      "execution_count": 3,
      "outputs": [
        {
          "output_type": "stream",
          "name": "stdout",
          "text": [
            "Treinaremos com 7500 elementos e testaremos com 2500 elementos\n"
          ]
        }
      ]
    },
    {
      "cell_type": "code",
      "source": [
        "from sklearn.dummy import DummyClassifier\n",
        "\n",
        "dummy_stratified = DummyClassifier(strategy='stratified')\n",
        "dummy_stratified.fit(treino_x, treino_y)\n",
        "acuracia = dummy_stratified.score(teste_x, teste_y) * 100\n",
        "\n",
        "print(\"A acurácia do dummy stratified foi de %.2f%%\" % acuracia)"
      ],
      "metadata": {
        "colab": {
          "base_uri": "https://localhost:8080/"
        },
        "id": "WwnptN6BgvUI",
        "outputId": "8e768e55-fdff-46d1-eaaa-6458b21d9ab8"
      },
      "execution_count": 4,
      "outputs": [
        {
          "output_type": "stream",
          "name": "stdout",
          "text": [
            "A acurácia do dummy stratified foi de 50.96%\n"
          ]
        }
      ]
    },
    {
      "cell_type": "code",
      "source": [
        "from sklearn.tree import DecisionTreeClassifier\n",
        "\n",
        "SEED = 158020\n",
        "np.random.seed(SEED)\n",
        "modelo = DecisionTreeClassifier(max_depth=2)\n",
        "modelo.fit(treino_x, treino_y)\n",
        "previsoes = modelo.predict(teste_x)\n",
        "\n",
        "acuracia = accuracy_score(teste_y, previsoes) * 100\n",
        "print (\"A acurácia foi %.2f%%\" % acuracia)"
      ],
      "metadata": {
        "colab": {
          "base_uri": "https://localhost:8080/"
        },
        "id": "32i07prWgxQW",
        "outputId": "4494566b-f8cb-4d03-b70e-4051f1e358f3"
      },
      "execution_count": 5,
      "outputs": [
        {
          "output_type": "stream",
          "name": "stdout",
          "text": [
            "A acurácia foi 71.92%\n"
          ]
        }
      ]
    },
    {
      "cell_type": "code",
      "source": [
        "x = dados[[\"preco\", \"idade_do_modelo\",\"km_por_ano\"]]\n",
        "y = dados[\"vendido\"]\n",
        "\n",
        "SEED = 158020\n",
        "np.random.seed(SEED)\n",
        "treino_x, teste_x, treino_y, teste_y = train_test_split(x, y, test_size = 0.25,\n",
        "                                                         stratify = y)\n",
        "print(\"Treinaremos com %d elementos e testaremos com %d elementos\" % (len(treino_x), len(teste_x)))\n",
        "\n",
        "modelo = DecisionTreeClassifier(max_depth=2)\n",
        "modelo.fit(treino_x, treino_y)\n",
        "previsoes = modelo.predict(teste_x)\n",
        "\n",
        "acuracia = accuracy_score(teste_y, previsoes) * 100\n",
        "print(\"A acurácia do dummy stratified foi %.2f%%\" % acuracia)"
      ],
      "metadata": {
        "colab": {
          "base_uri": "https://localhost:8080/"
        },
        "id": "bhO6zMsqgzad",
        "outputId": "88594df9-40b4-459e-a6b7-37a1acbc1afa"
      },
      "execution_count": 6,
      "outputs": [
        {
          "output_type": "stream",
          "name": "stdout",
          "text": [
            "Treinaremos com 7500 elementos e testaremos com 2500 elementos\n",
            "A acurácia do dummy stratified foi 71.92%\n"
          ]
        }
      ]
    },
    {
      "cell_type": "code",
      "source": [
        "# usando um outro seed e deu um resultado maior que outro seed\n",
        "# então o fator de decisão está na aleatoriedade e isso não é bom\n",
        "# precisamos amenizar o efeito disso\n",
        "# e se rodarmos o treino uma vez, não é recomendado, temos que rodar variáveis \n",
        "# vezes para tirar a media, desvio padrão ou um intervalo para ter um valor consideravel\n",
        "x = dados[[\"preco\", \"idade_do_modelo\",\"km_por_ano\"]]\n",
        "y = dados[\"vendido\"]\n",
        "\n",
        "SEED = 5\n",
        "np.random.seed(SEED)\n",
        "treino_x, teste_x, treino_y, teste_y = train_test_split(x, y, test_size = 0.25,\n",
        "                                                         stratify = y)\n",
        "print(\"Treinaremos com %d elementos e testaremos com %d elementos\" % (len(treino_x), len(teste_x)))\n",
        "\n",
        "modelo = DecisionTreeClassifier(max_depth=2)\n",
        "modelo.fit(treino_x, treino_y)\n",
        "previsoes = modelo.predict(teste_x)\n",
        "\n",
        "acuracia = accuracy_score(teste_y, previsoes) * 100\n",
        "print(\"A acurácia do dummy stratified foi %.2f%%\" % acuracia)\n",
        "# podemos separar os nossos dados em \"n\" pedaços e pegar umas partes para treino e teste\n",
        "# depois é só inverter ou trocar as partes, fazendo treino e teste com todas as partes\n",
        "# cruzando essa validação com as partes.\n",
        "# isso chama cross validation"
      ],
      "metadata": {
        "colab": {
          "base_uri": "https://localhost:8080/"
        },
        "id": "b1QlhuZHg0ob",
        "outputId": "60c6675e-71b4-429e-fc12-053f193c847c"
      },
      "execution_count": 7,
      "outputs": [
        {
          "output_type": "stream",
          "name": "stdout",
          "text": [
            "Treinaremos com 7500 elementos e testaremos com 2500 elementos\n",
            "A acurácia do dummy stratified foi 76.84%\n"
          ]
        }
      ]
    },
    {
      "cell_type": "code",
      "source": [
        "from sklearn.model_selection import cross_validate\n",
        "\n",
        "# modelo de arvore\n",
        "modelo = DecisionTreeClassifier(max_depth=2)\n",
        "# cv = 3, quantos pedaços quero que quebre os dados\n",
        "results = cross_validate(modelo, x, y, cv = 3)\n",
        "results"
      ],
      "metadata": {
        "colab": {
          "base_uri": "https://localhost:8080/"
        },
        "id": "7W6tMJ86g2DY",
        "outputId": "018fc7a3-9d2a-48fc-d033-cdf080e326bd"
      },
      "execution_count": 8,
      "outputs": [
        {
          "output_type": "execute_result",
          "data": {
            "text/plain": [
              "{'fit_time': array([0.00789165, 0.00757003, 0.00722861]),\n",
              " 'score_time': array([0.00213075, 0.00253916, 0.00195432]),\n",
              " 'test_score': array([0.75704859, 0.7629763 , 0.75337534])}"
            ]
          },
          "metadata": {},
          "execution_count": 8
        }
      ]
    },
    {
      "cell_type": "code",
      "source": [
        "# tira o retorno do treino\n",
        "results = cross_validate(modelo, x, y, cv = 3, return_train_score=False)"
      ],
      "metadata": {
        "id": "VA0gt9rxkVir"
      },
      "execution_count": 9,
      "outputs": []
    },
    {
      "cell_type": "code",
      "source": [
        "# o resultado do treino, como temos 3 notas, então a nossa base foi separada e rodou 3 vezes\n",
        "results['test_score']"
      ],
      "metadata": {
        "colab": {
          "base_uri": "https://localhost:8080/"
        },
        "id": "14bc-iRqkXqm",
        "outputId": "bbed8558-74d8-4b34-f0d6-4d305c02ba8f"
      },
      "execution_count": 10,
      "outputs": [
        {
          "output_type": "execute_result",
          "data": {
            "text/plain": [
              "array([0.75704859, 0.7629763 , 0.75337534])"
            ]
          },
          "metadata": {},
          "execution_count": 10
        }
      ]
    },
    {
      "cell_type": "code",
      "source": [
        "media = results ['test_score'].mean()"
      ],
      "metadata": {
        "id": "-CpHYqyCkb_y"
      },
      "execution_count": 11,
      "outputs": []
    },
    {
      "cell_type": "code",
      "source": [
        "# criando o intervalo de desvio padrão\n",
        "media = results ['test_score'].mean()\n",
        "desvio_padrao = results['test_score'].std()\n",
        "print(\"Accuracy %.2f %.2f\" % (media - 2 * desvio_padrao, media + 2 * desvio_padrao))"
      ],
      "metadata": {
        "colab": {
          "base_uri": "https://localhost:8080/"
        },
        "id": "ytGcwbXIkdbC",
        "outputId": "e15eb4c5-311b-4d40-cd0f-cc19c56fdb0d"
      },
      "execution_count": 12,
      "outputs": [
        {
          "output_type": "stream",
          "name": "stdout",
          "text": [
            "Accuracy 0.75 0.77\n"
          ]
        }
      ]
    },
    {
      "cell_type": "code",
      "source": [
        "from sklearn.model_selection import cross_validate\n",
        "\n",
        "# mudamos o seed e o intervalo continua o mesmo, isso é bom, tiramos o fator\n",
        "# aleatoriedade, mas ainda estamos presos ao cv = 3, pois quem mandou escolher 3?\n",
        "# quem pediu para repartir a base em 3 partes? \n",
        "SEED = 153\n",
        "np.random.seed(SEED)\n",
        "\n",
        "modelo = DecisionTreeClassifier(max_depth=2)\n",
        "results = cross_validate(modelo, x, y, cv = 3, return_train_score=False)\n",
        "media = results ['test_score'].mean()\n",
        "desvio_padrao = results['test_score'].std()\n",
        "print(\"Accuracy [%.2f, %.2f]\" % ((media - 2 *desvio_padrao) * 100, (media + 2 * desvio_padrao) * 100))"
      ],
      "metadata": {
        "colab": {
          "base_uri": "https://localhost:8080/"
        },
        "id": "w22HXE-pkets",
        "outputId": "e5db2722-d2e2-4a39-d6b8-184323fd86f6"
      },
      "execution_count": 13,
      "outputs": [
        {
          "output_type": "stream",
          "name": "stdout",
          "text": [
            "Accuracy [74.99, 76.57]\n"
          ]
        }
      ]
    },
    {
      "cell_type": "code",
      "source": [
        "print(\"Accuracy com cross validation, 3 = [%.2f, %.2f]\" % ((media - 2 *desvio_padrao) * 100, (media + 2 * desvio_padrao) * 100))"
      ],
      "metadata": {
        "colab": {
          "base_uri": "https://localhost:8080/"
        },
        "id": "MP0uNoIWkhws",
        "outputId": "fcc0a925-70ec-472b-9c84-3692c397871f"
      },
      "execution_count": 14,
      "outputs": [
        {
          "output_type": "stream",
          "name": "stdout",
          "text": [
            "Accuracy com cross validation, 3 = [74.99, 76.57]\n"
          ]
        }
      ]
    },
    {
      "cell_type": "code",
      "source": [
        "from sklearn.model_selection import cross_validate\n",
        "\n",
        "SEED = 301\n",
        "np.random.seed(SEED)\n",
        "\n",
        "modelo = DecisionTreeClassifier(max_depth=2)\n",
        "# na literatura indica um cv de 5 ou 10, então por padrão vamos usar o 5\n",
        "results = cross_validate(modelo, x, y, cv = 5, return_train_score=False)\n",
        "media = results ['test_score'].mean()\n",
        "desvio_padrao = results['test_score'].std()\n",
        "print(\"Accuracy com cross validation, 5 = [%.2f, %.2f]\" % ((media - 2 *desvio_padrao) * 100, (media + 2 * desvio_padrao) * 100))"
      ],
      "metadata": {
        "colab": {
          "base_uri": "https://localhost:8080/"
        },
        "id": "6dxyW3ClkmXD",
        "outputId": "fb8093b2-1e72-4687-dde8-2e0a8bb7c9cb"
      },
      "execution_count": 15,
      "outputs": [
        {
          "output_type": "stream",
          "name": "stdout",
          "text": [
            "Accuracy com cross validation, 5 = [75.21, 76.35]\n"
          ]
        }
      ]
    },
    {
      "cell_type": "markdown",
      "source": [
        "# Aleatoriedade no cross validate"
      ],
      "metadata": {
        "id": "1Usbd6_VWa1F"
      }
    },
    {
      "cell_type": "code",
      "source": [
        "def imprime_resultados(results):\n",
        "    media = results['test_score'].mean()\n",
        "    desvio_padrao = results['test_score'].std()\n",
        "    print(\"Accuracy médio: %.2f\" % (media * 100))\n",
        "    print(\"Accuracy intervalo: [%.2f, %.2f]\" % ((media - 2 *desvio_padrao) * 100, (media + 2 * desvio_padrao) * 100))"
      ],
      "metadata": {
        "id": "YEJ5-hPzW1CQ"
      },
      "execution_count": 16,
      "outputs": []
    },
    {
      "cell_type": "code",
      "source": [
        "from sklearn.model_selection import KFold\n",
        "SEED = 301\n",
        "np.random.seed(SEED)\n",
        "\n",
        "# passando o parametro shuffle, eu embaralho as partes, tipo, a gente pede para\n",
        "# separar a base de dados em 10 partes e pegar os dados dessas 10 partes e embaralhar\n",
        "# entre si, isso serve para testar novamente os resultados dos nossos dados sobre\n",
        "# o efeito da aleatoriedade\n",
        "cv = KFold(n_splits = 10, shuffle = True)\n",
        "modelo = DecisionTreeClassifier(max_depth=2)\n",
        "\n",
        "results = cross_validate(modelo, x, y, cv = cv, return_train_score=False)\n",
        "imprime_resultados(results)"
      ],
      "metadata": {
        "colab": {
          "base_uri": "https://localhost:8080/"
        },
        "id": "6rgbl-Sqkp6u",
        "outputId": "fdb49477-e21e-4e29-b078-24de00cabbe4"
      },
      "execution_count": 17,
      "outputs": [
        {
          "output_type": "stream",
          "name": "stdout",
          "text": [
            "Accuracy médio: 75.76\n",
            "Accuracy intervalo: [73.26, 78.26]\n"
          ]
        }
      ]
    },
    {
      "cell_type": "code",
      "source": [
        "# Simular situação horrível de azar\n",
        "# Pode ser uma situação de \"azar\" ou uma proporção de exemplos desbalanceado entre as classes.\n",
        "# pois o kfold não tem o parâmetro de colocar os dados proporcional para repartição dos dados\n",
        "\n",
        "dados.sort_values(\"vendido\", ascending=True)"
      ],
      "metadata": {
        "colab": {
          "base_uri": "https://localhost:8080/",
          "height": 424
        },
        "id": "B2ifxbD9XE4U",
        "outputId": "5eda1ddb-32a5-4573-8a66-dbf24e6fa900"
      },
      "execution_count": 18,
      "outputs": [
        {
          "output_type": "execute_result",
          "data": {
            "text/plain": [
              "         preco  vendido  idade_do_modelo   km_por_ano\n",
              "4999  74023.29        0               12  24812.80412\n",
              "5322  84843.49        0               13  23095.63834\n",
              "5319  83100.27        0               19  36240.72746\n",
              "5316  87932.13        0               16  32249.56426\n",
              "5315  77937.01        0               15  28414.50704\n",
              "...        ...      ...              ...          ...\n",
              "5491  71910.43        1                9  25778.40812\n",
              "1873  30456.53        1                6  15468.97608\n",
              "1874  69342.41        1               11  16909.33538\n",
              "5499  70520.39        1               16  19622.68262\n",
              "0     30941.02        1               18  35085.22134\n",
              "\n",
              "[10000 rows x 4 columns]"
            ],
            "text/html": [
              "\n",
              "  <div id=\"df-e3e60b93-c1e2-4fe7-a1ee-61dc02be41b1\">\n",
              "    <div class=\"colab-df-container\">\n",
              "      <div>\n",
              "<style scoped>\n",
              "    .dataframe tbody tr th:only-of-type {\n",
              "        vertical-align: middle;\n",
              "    }\n",
              "\n",
              "    .dataframe tbody tr th {\n",
              "        vertical-align: top;\n",
              "    }\n",
              "\n",
              "    .dataframe thead th {\n",
              "        text-align: right;\n",
              "    }\n",
              "</style>\n",
              "<table border=\"1\" class=\"dataframe\">\n",
              "  <thead>\n",
              "    <tr style=\"text-align: right;\">\n",
              "      <th></th>\n",
              "      <th>preco</th>\n",
              "      <th>vendido</th>\n",
              "      <th>idade_do_modelo</th>\n",
              "      <th>km_por_ano</th>\n",
              "    </tr>\n",
              "  </thead>\n",
              "  <tbody>\n",
              "    <tr>\n",
              "      <th>4999</th>\n",
              "      <td>74023.29</td>\n",
              "      <td>0</td>\n",
              "      <td>12</td>\n",
              "      <td>24812.80412</td>\n",
              "    </tr>\n",
              "    <tr>\n",
              "      <th>5322</th>\n",
              "      <td>84843.49</td>\n",
              "      <td>0</td>\n",
              "      <td>13</td>\n",
              "      <td>23095.63834</td>\n",
              "    </tr>\n",
              "    <tr>\n",
              "      <th>5319</th>\n",
              "      <td>83100.27</td>\n",
              "      <td>0</td>\n",
              "      <td>19</td>\n",
              "      <td>36240.72746</td>\n",
              "    </tr>\n",
              "    <tr>\n",
              "      <th>5316</th>\n",
              "      <td>87932.13</td>\n",
              "      <td>0</td>\n",
              "      <td>16</td>\n",
              "      <td>32249.56426</td>\n",
              "    </tr>\n",
              "    <tr>\n",
              "      <th>5315</th>\n",
              "      <td>77937.01</td>\n",
              "      <td>0</td>\n",
              "      <td>15</td>\n",
              "      <td>28414.50704</td>\n",
              "    </tr>\n",
              "    <tr>\n",
              "      <th>...</th>\n",
              "      <td>...</td>\n",
              "      <td>...</td>\n",
              "      <td>...</td>\n",
              "      <td>...</td>\n",
              "    </tr>\n",
              "    <tr>\n",
              "      <th>5491</th>\n",
              "      <td>71910.43</td>\n",
              "      <td>1</td>\n",
              "      <td>9</td>\n",
              "      <td>25778.40812</td>\n",
              "    </tr>\n",
              "    <tr>\n",
              "      <th>1873</th>\n",
              "      <td>30456.53</td>\n",
              "      <td>1</td>\n",
              "      <td>6</td>\n",
              "      <td>15468.97608</td>\n",
              "    </tr>\n",
              "    <tr>\n",
              "      <th>1874</th>\n",
              "      <td>69342.41</td>\n",
              "      <td>1</td>\n",
              "      <td>11</td>\n",
              "      <td>16909.33538</td>\n",
              "    </tr>\n",
              "    <tr>\n",
              "      <th>5499</th>\n",
              "      <td>70520.39</td>\n",
              "      <td>1</td>\n",
              "      <td>16</td>\n",
              "      <td>19622.68262</td>\n",
              "    </tr>\n",
              "    <tr>\n",
              "      <th>0</th>\n",
              "      <td>30941.02</td>\n",
              "      <td>1</td>\n",
              "      <td>18</td>\n",
              "      <td>35085.22134</td>\n",
              "    </tr>\n",
              "  </tbody>\n",
              "</table>\n",
              "<p>10000 rows × 4 columns</p>\n",
              "</div>\n",
              "      <button class=\"colab-df-convert\" onclick=\"convertToInteractive('df-e3e60b93-c1e2-4fe7-a1ee-61dc02be41b1')\"\n",
              "              title=\"Convert this dataframe to an interactive table.\"\n",
              "              style=\"display:none;\">\n",
              "        \n",
              "  <svg xmlns=\"http://www.w3.org/2000/svg\" height=\"24px\"viewBox=\"0 0 24 24\"\n",
              "       width=\"24px\">\n",
              "    <path d=\"M0 0h24v24H0V0z\" fill=\"none\"/>\n",
              "    <path d=\"M18.56 5.44l.94 2.06.94-2.06 2.06-.94-2.06-.94-.94-2.06-.94 2.06-2.06.94zm-11 1L8.5 8.5l.94-2.06 2.06-.94-2.06-.94L8.5 2.5l-.94 2.06-2.06.94zm10 10l.94 2.06.94-2.06 2.06-.94-2.06-.94-.94-2.06-.94 2.06-2.06.94z\"/><path d=\"M17.41 7.96l-1.37-1.37c-.4-.4-.92-.59-1.43-.59-.52 0-1.04.2-1.43.59L10.3 9.45l-7.72 7.72c-.78.78-.78 2.05 0 2.83L4 21.41c.39.39.9.59 1.41.59.51 0 1.02-.2 1.41-.59l7.78-7.78 2.81-2.81c.8-.78.8-2.07 0-2.86zM5.41 20L4 18.59l7.72-7.72 1.47 1.35L5.41 20z\"/>\n",
              "  </svg>\n",
              "      </button>\n",
              "      \n",
              "  <style>\n",
              "    .colab-df-container {\n",
              "      display:flex;\n",
              "      flex-wrap:wrap;\n",
              "      gap: 12px;\n",
              "    }\n",
              "\n",
              "    .colab-df-convert {\n",
              "      background-color: #E8F0FE;\n",
              "      border: none;\n",
              "      border-radius: 50%;\n",
              "      cursor: pointer;\n",
              "      display: none;\n",
              "      fill: #1967D2;\n",
              "      height: 32px;\n",
              "      padding: 0 0 0 0;\n",
              "      width: 32px;\n",
              "    }\n",
              "\n",
              "    .colab-df-convert:hover {\n",
              "      background-color: #E2EBFA;\n",
              "      box-shadow: 0px 1px 2px rgba(60, 64, 67, 0.3), 0px 1px 3px 1px rgba(60, 64, 67, 0.15);\n",
              "      fill: #174EA6;\n",
              "    }\n",
              "\n",
              "    [theme=dark] .colab-df-convert {\n",
              "      background-color: #3B4455;\n",
              "      fill: #D2E3FC;\n",
              "    }\n",
              "\n",
              "    [theme=dark] .colab-df-convert:hover {\n",
              "      background-color: #434B5C;\n",
              "      box-shadow: 0px 1px 3px 1px rgba(0, 0, 0, 0.15);\n",
              "      filter: drop-shadow(0px 1px 2px rgba(0, 0, 0, 0.3));\n",
              "      fill: #FFFFFF;\n",
              "    }\n",
              "  </style>\n",
              "\n",
              "      <script>\n",
              "        const buttonEl =\n",
              "          document.querySelector('#df-e3e60b93-c1e2-4fe7-a1ee-61dc02be41b1 button.colab-df-convert');\n",
              "        buttonEl.style.display =\n",
              "          google.colab.kernel.accessAllowed ? 'block' : 'none';\n",
              "\n",
              "        async function convertToInteractive(key) {\n",
              "          const element = document.querySelector('#df-e3e60b93-c1e2-4fe7-a1ee-61dc02be41b1');\n",
              "          const dataTable =\n",
              "            await google.colab.kernel.invokeFunction('convertToInteractive',\n",
              "                                                     [key], {});\n",
              "          if (!dataTable) return;\n",
              "\n",
              "          const docLinkHtml = 'Like what you see? Visit the ' +\n",
              "            '<a target=\"_blank\" href=https://colab.research.google.com/notebooks/data_table.ipynb>data table notebook</a>'\n",
              "            + ' to learn more about interactive tables.';\n",
              "          element.innerHTML = '';\n",
              "          dataTable['output_type'] = 'display_data';\n",
              "          await google.colab.output.renderOutput(dataTable, element);\n",
              "          const docLink = document.createElement('div');\n",
              "          docLink.innerHTML = docLinkHtml;\n",
              "          element.appendChild(docLink);\n",
              "        }\n",
              "      </script>\n",
              "    </div>\n",
              "  </div>\n",
              "  "
            ]
          },
          "metadata": {},
          "execution_count": 18
        }
      ]
    },
    {
      "cell_type": "code",
      "source": [
        "# separando os atributos \n",
        "dados_azar = dados.sort_values(\"vendido\", ascending=True)\n",
        "x_azar = dados_azar[[\"preco\", \"idade_do_modelo\", \"km_por_ano\"]]\n",
        "y_azar = dados_azar[\"vendido\"]\n",
        "dados_azar.head()"
      ],
      "metadata": {
        "colab": {
          "base_uri": "https://localhost:8080/",
          "height": 206
        },
        "id": "9dihZSxwWTbn",
        "outputId": "83a06259-5d3d-4718-bd06-1f0b08c04a9d"
      },
      "execution_count": 19,
      "outputs": [
        {
          "output_type": "execute_result",
          "data": {
            "text/plain": [
              "         preco  vendido  idade_do_modelo   km_por_ano\n",
              "4999  74023.29        0               12  24812.80412\n",
              "5322  84843.49        0               13  23095.63834\n",
              "5319  83100.27        0               19  36240.72746\n",
              "5316  87932.13        0               16  32249.56426\n",
              "5315  77937.01        0               15  28414.50704"
            ],
            "text/html": [
              "\n",
              "  <div id=\"df-3729e81c-ce5b-4c3a-8b39-c7804f883afb\">\n",
              "    <div class=\"colab-df-container\">\n",
              "      <div>\n",
              "<style scoped>\n",
              "    .dataframe tbody tr th:only-of-type {\n",
              "        vertical-align: middle;\n",
              "    }\n",
              "\n",
              "    .dataframe tbody tr th {\n",
              "        vertical-align: top;\n",
              "    }\n",
              "\n",
              "    .dataframe thead th {\n",
              "        text-align: right;\n",
              "    }\n",
              "</style>\n",
              "<table border=\"1\" class=\"dataframe\">\n",
              "  <thead>\n",
              "    <tr style=\"text-align: right;\">\n",
              "      <th></th>\n",
              "      <th>preco</th>\n",
              "      <th>vendido</th>\n",
              "      <th>idade_do_modelo</th>\n",
              "      <th>km_por_ano</th>\n",
              "    </tr>\n",
              "  </thead>\n",
              "  <tbody>\n",
              "    <tr>\n",
              "      <th>4999</th>\n",
              "      <td>74023.29</td>\n",
              "      <td>0</td>\n",
              "      <td>12</td>\n",
              "      <td>24812.80412</td>\n",
              "    </tr>\n",
              "    <tr>\n",
              "      <th>5322</th>\n",
              "      <td>84843.49</td>\n",
              "      <td>0</td>\n",
              "      <td>13</td>\n",
              "      <td>23095.63834</td>\n",
              "    </tr>\n",
              "    <tr>\n",
              "      <th>5319</th>\n",
              "      <td>83100.27</td>\n",
              "      <td>0</td>\n",
              "      <td>19</td>\n",
              "      <td>36240.72746</td>\n",
              "    </tr>\n",
              "    <tr>\n",
              "      <th>5316</th>\n",
              "      <td>87932.13</td>\n",
              "      <td>0</td>\n",
              "      <td>16</td>\n",
              "      <td>32249.56426</td>\n",
              "    </tr>\n",
              "    <tr>\n",
              "      <th>5315</th>\n",
              "      <td>77937.01</td>\n",
              "      <td>0</td>\n",
              "      <td>15</td>\n",
              "      <td>28414.50704</td>\n",
              "    </tr>\n",
              "  </tbody>\n",
              "</table>\n",
              "</div>\n",
              "      <button class=\"colab-df-convert\" onclick=\"convertToInteractive('df-3729e81c-ce5b-4c3a-8b39-c7804f883afb')\"\n",
              "              title=\"Convert this dataframe to an interactive table.\"\n",
              "              style=\"display:none;\">\n",
              "        \n",
              "  <svg xmlns=\"http://www.w3.org/2000/svg\" height=\"24px\"viewBox=\"0 0 24 24\"\n",
              "       width=\"24px\">\n",
              "    <path d=\"M0 0h24v24H0V0z\" fill=\"none\"/>\n",
              "    <path d=\"M18.56 5.44l.94 2.06.94-2.06 2.06-.94-2.06-.94-.94-2.06-.94 2.06-2.06.94zm-11 1L8.5 8.5l.94-2.06 2.06-.94-2.06-.94L8.5 2.5l-.94 2.06-2.06.94zm10 10l.94 2.06.94-2.06 2.06-.94-2.06-.94-.94-2.06-.94 2.06-2.06.94z\"/><path d=\"M17.41 7.96l-1.37-1.37c-.4-.4-.92-.59-1.43-.59-.52 0-1.04.2-1.43.59L10.3 9.45l-7.72 7.72c-.78.78-.78 2.05 0 2.83L4 21.41c.39.39.9.59 1.41.59.51 0 1.02-.2 1.41-.59l7.78-7.78 2.81-2.81c.8-.78.8-2.07 0-2.86zM5.41 20L4 18.59l7.72-7.72 1.47 1.35L5.41 20z\"/>\n",
              "  </svg>\n",
              "      </button>\n",
              "      \n",
              "  <style>\n",
              "    .colab-df-container {\n",
              "      display:flex;\n",
              "      flex-wrap:wrap;\n",
              "      gap: 12px;\n",
              "    }\n",
              "\n",
              "    .colab-df-convert {\n",
              "      background-color: #E8F0FE;\n",
              "      border: none;\n",
              "      border-radius: 50%;\n",
              "      cursor: pointer;\n",
              "      display: none;\n",
              "      fill: #1967D2;\n",
              "      height: 32px;\n",
              "      padding: 0 0 0 0;\n",
              "      width: 32px;\n",
              "    }\n",
              "\n",
              "    .colab-df-convert:hover {\n",
              "      background-color: #E2EBFA;\n",
              "      box-shadow: 0px 1px 2px rgba(60, 64, 67, 0.3), 0px 1px 3px 1px rgba(60, 64, 67, 0.15);\n",
              "      fill: #174EA6;\n",
              "    }\n",
              "\n",
              "    [theme=dark] .colab-df-convert {\n",
              "      background-color: #3B4455;\n",
              "      fill: #D2E3FC;\n",
              "    }\n",
              "\n",
              "    [theme=dark] .colab-df-convert:hover {\n",
              "      background-color: #434B5C;\n",
              "      box-shadow: 0px 1px 3px 1px rgba(0, 0, 0, 0.15);\n",
              "      filter: drop-shadow(0px 1px 2px rgba(0, 0, 0, 0.3));\n",
              "      fill: #FFFFFF;\n",
              "    }\n",
              "  </style>\n",
              "\n",
              "      <script>\n",
              "        const buttonEl =\n",
              "          document.querySelector('#df-3729e81c-ce5b-4c3a-8b39-c7804f883afb button.colab-df-convert');\n",
              "        buttonEl.style.display =\n",
              "          google.colab.kernel.accessAllowed ? 'block' : 'none';\n",
              "\n",
              "        async function convertToInteractive(key) {\n",
              "          const element = document.querySelector('#df-3729e81c-ce5b-4c3a-8b39-c7804f883afb');\n",
              "          const dataTable =\n",
              "            await google.colab.kernel.invokeFunction('convertToInteractive',\n",
              "                                                     [key], {});\n",
              "          if (!dataTable) return;\n",
              "\n",
              "          const docLinkHtml = 'Like what you see? Visit the ' +\n",
              "            '<a target=\"_blank\" href=https://colab.research.google.com/notebooks/data_table.ipynb>data table notebook</a>'\n",
              "            + ' to learn more about interactive tables.';\n",
              "          element.innerHTML = '';\n",
              "          dataTable['output_type'] = 'display_data';\n",
              "          await google.colab.output.renderOutput(dataTable, element);\n",
              "          const docLink = document.createElement('div');\n",
              "          docLink.innerHTML = docLinkHtml;\n",
              "          element.appendChild(docLink);\n",
              "        }\n",
              "      </script>\n",
              "    </div>\n",
              "  </div>\n",
              "  "
            ]
          },
          "metadata": {},
          "execution_count": 19
        }
      ]
    },
    {
      "cell_type": "code",
      "source": [
        "# rodadno sem o shuffle, que embaralha as partes\n",
        "from sklearn.model_selection import KFold\n",
        "\n",
        "SEED = 301\n",
        "np.random.seed(SEED)\n",
        "\n",
        "cv = KFold(n_splits = 10)\n",
        "modelo = DecisionTreeClassifier(max_depth=2)\n",
        "results = cross_validate(modelo, x_azar, y_azar, cv = cv, return_train_score=False)\n",
        "imprime_resultados(results)"
      ],
      "metadata": {
        "colab": {
          "base_uri": "https://localhost:8080/"
        },
        "id": "okTSBeJsWVyH",
        "outputId": "a431d570-a226-4a98-a75b-98e32d815248"
      },
      "execution_count": 20,
      "outputs": [
        {
          "output_type": "stream",
          "name": "stdout",
          "text": [
            "Accuracy médio: 57.84\n",
            "Accuracy intervalo: [34.29, 81.39]\n"
          ]
        }
      ]
    },
    {
      "cell_type": "code",
      "source": [
        "# olha como o shuffle da uma boa diferença\n",
        "from sklearn.model_selection import KFold\n",
        "\n",
        "SEED = 301\n",
        "np.random.seed(SEED)\n",
        "\n",
        "cv = KFold(n_splits = 10, shuffle=True)\n",
        "modelo = DecisionTreeClassifier(max_depth=2)\n",
        "results = cross_validate(modelo, x_azar, y_azar, cv = cv, return_train_score=False)\n",
        "imprime_resultados(results)"
      ],
      "metadata": {
        "colab": {
          "base_uri": "https://localhost:8080/"
        },
        "id": "n-IYl_hnWXqf",
        "outputId": "92c78a72-acd2-4fd9-e7f9-c451278cd150"
      },
      "execution_count": 21,
      "outputs": [
        {
          "output_type": "stream",
          "name": "stdout",
          "text": [
            "Accuracy médio: 75.78\n",
            "Accuracy intervalo: [72.30, 79.26]\n"
          ]
        }
      ]
    },
    {
      "cell_type": "code",
      "source": [
        "# o stratifiedkfod ele tem por padrão a função de fazer a proporção de dados\n",
        "# na separação por partes da base e no embaralhamento\n",
        "from sklearn.model_selection import StratifiedKFold\n",
        "\n",
        "SEED = 301\n",
        "np.random.seed(SEED)\n",
        "\n",
        "cv = StratifiedKFold(n_splits = 10, shuffle=True)\n",
        "modelo = DecisionTreeClassifier(max_depth=2)\n",
        "results = cross_validate(modelo, x_azar, y_azar, cv = cv, return_train_score=False)\n",
        "imprime_resultados(results)"
      ],
      "metadata": {
        "colab": {
          "base_uri": "https://localhost:8080/"
        },
        "id": "-HCPjebIWaNG",
        "outputId": "6173cc80-5f44-4680-d013-6aa08be98a8b"
      },
      "execution_count": 22,
      "outputs": [
        {
          "output_type": "stream",
          "name": "stdout",
          "text": [
            "Accuracy médio: 75.78\n",
            "Accuracy intervalo: [73.55, 78.01]\n"
          ]
        }
      ]
    },
    {
      "cell_type": "code",
      "source": [
        "# aqui é só uma diferença do stratifiedkfolg com e sem o shuffle, mostrando que\n",
        "# a proporção que o stratifiedkfold faz, tem valor aproximado com o shuffle\n",
        "from sklearn.model_selection import StratifiedKFold\n",
        "\n",
        "SEED = 301\n",
        "np.random.seed(SEED)\n",
        "\n",
        "cv = StratifiedKFold(n_splits = 10)\n",
        "modelo = DecisionTreeClassifier(max_depth=2)\n",
        "results = cross_validate(modelo, x_azar, y_azar, cv = cv, return_train_score=False)\n",
        "imprime_resultados(results)\n",
        "\n",
        "# é muito importante separar bem os dados de treino e teste, não é bom o dado A\n",
        "# ir pro treino e tambem ir pro teste, a boa prática é que os dados de teste\n",
        "#  algortimo nunca tenha visto, pois se os dados de teste são os mesmo que o de treino\n",
        "# o algortimo vai saber resolver de letra, mas o proposito é ele testar com dados\n",
        "# que ele nunca viu e com base nos dados de teste, resolver o problema dos dados\n",
        "# novos."
      ],
      "metadata": {
        "colab": {
          "base_uri": "https://localhost:8080/"
        },
        "id": "uMaAbfKiWevp",
        "outputId": "bfd84616-6492-4ad8-cc4f-0e8e0414a7f8"
      },
      "execution_count": 23,
      "outputs": [
        {
          "output_type": "stream",
          "name": "stdout",
          "text": [
            "Accuracy médio: 75.78\n",
            "Accuracy intervalo: [73.83, 77.73]\n"
          ]
        }
      ]
    },
    {
      "cell_type": "code",
      "source": [
        "np.random.seed(SEED)\n",
        "np.random.randint(-2, 3)"
      ],
      "metadata": {
        "colab": {
          "base_uri": "https://localhost:8080/"
        },
        "id": "jK6rtKC8Wlga",
        "outputId": "757fac02-26f7-46d3-ff6a-4461e6919936"
      },
      "execution_count": 24,
      "outputs": [
        {
          "output_type": "execute_result",
          "data": {
            "text/plain": [
              "-2"
            ]
          },
          "metadata": {},
          "execution_count": 24
        }
      ]
    },
    {
      "cell_type": "code",
      "source": [
        "np.random.seed(SEED)\n",
        "np.random.randint(-2, 3, size=10000)"
      ],
      "metadata": {
        "colab": {
          "base_uri": "https://localhost:8080/"
        },
        "id": "n0Hy6pZrZNo9",
        "outputId": "daf54e4b-97d6-485e-f0d3-55c00b14268e"
      },
      "execution_count": 25,
      "outputs": [
        {
          "output_type": "execute_result",
          "data": {
            "text/plain": [
              "array([-2,  2,  0, ...,  0,  2,  2])"
            ]
          },
          "metadata": {},
          "execution_count": 25
        }
      ]
    },
    {
      "cell_type": "code",
      "source": [
        "# criando uma coluna para modelo de carros, usando numeros aleatórios com base\n",
        "# na idade do carro, pois um cara que tem 18 anos de idade, o modelo dele vai ser \n",
        "# um intervalo por exemplo de 16 a 20 anos de idade.\n",
        "# então criamos um random com 10000 mil numeros entre -2 a 2 e somamos com a idade do modelo\n",
        "# e adicionamos uma coluna \n",
        "np.random.seed(SEED)\n",
        "dados[\"modelo_aleatorio\"] = dados.idade_do_modelo + np.random.randint(-2, 3, size=10000)\n",
        "dados.head()"
      ],
      "metadata": {
        "colab": {
          "base_uri": "https://localhost:8080/",
          "height": 206
        },
        "id": "IBIrP9rPZPlr",
        "outputId": "a18a1bd2-2b2b-4968-cf38-4973d74e87cb"
      },
      "execution_count": 26,
      "outputs": [
        {
          "output_type": "execute_result",
          "data": {
            "text/plain": [
              "       preco  vendido  idade_do_modelo   km_por_ano  modelo_aleatorio\n",
              "0   30941.02        1               18  35085.22134                16\n",
              "1   40557.96        1               20  12622.05362                22\n",
              "2   89627.50        0               12  11440.79806                12\n",
              "3   95276.14        0                3  43167.32682                 4\n",
              "4  117384.68        1                4  12770.11290                 3"
            ],
            "text/html": [
              "\n",
              "  <div id=\"df-fdb688d4-ba01-4f25-94a1-1567b08a78be\">\n",
              "    <div class=\"colab-df-container\">\n",
              "      <div>\n",
              "<style scoped>\n",
              "    .dataframe tbody tr th:only-of-type {\n",
              "        vertical-align: middle;\n",
              "    }\n",
              "\n",
              "    .dataframe tbody tr th {\n",
              "        vertical-align: top;\n",
              "    }\n",
              "\n",
              "    .dataframe thead th {\n",
              "        text-align: right;\n",
              "    }\n",
              "</style>\n",
              "<table border=\"1\" class=\"dataframe\">\n",
              "  <thead>\n",
              "    <tr style=\"text-align: right;\">\n",
              "      <th></th>\n",
              "      <th>preco</th>\n",
              "      <th>vendido</th>\n",
              "      <th>idade_do_modelo</th>\n",
              "      <th>km_por_ano</th>\n",
              "      <th>modelo_aleatorio</th>\n",
              "    </tr>\n",
              "  </thead>\n",
              "  <tbody>\n",
              "    <tr>\n",
              "      <th>0</th>\n",
              "      <td>30941.02</td>\n",
              "      <td>1</td>\n",
              "      <td>18</td>\n",
              "      <td>35085.22134</td>\n",
              "      <td>16</td>\n",
              "    </tr>\n",
              "    <tr>\n",
              "      <th>1</th>\n",
              "      <td>40557.96</td>\n",
              "      <td>1</td>\n",
              "      <td>20</td>\n",
              "      <td>12622.05362</td>\n",
              "      <td>22</td>\n",
              "    </tr>\n",
              "    <tr>\n",
              "      <th>2</th>\n",
              "      <td>89627.50</td>\n",
              "      <td>0</td>\n",
              "      <td>12</td>\n",
              "      <td>11440.79806</td>\n",
              "      <td>12</td>\n",
              "    </tr>\n",
              "    <tr>\n",
              "      <th>3</th>\n",
              "      <td>95276.14</td>\n",
              "      <td>0</td>\n",
              "      <td>3</td>\n",
              "      <td>43167.32682</td>\n",
              "      <td>4</td>\n",
              "    </tr>\n",
              "    <tr>\n",
              "      <th>4</th>\n",
              "      <td>117384.68</td>\n",
              "      <td>1</td>\n",
              "      <td>4</td>\n",
              "      <td>12770.11290</td>\n",
              "      <td>3</td>\n",
              "    </tr>\n",
              "  </tbody>\n",
              "</table>\n",
              "</div>\n",
              "      <button class=\"colab-df-convert\" onclick=\"convertToInteractive('df-fdb688d4-ba01-4f25-94a1-1567b08a78be')\"\n",
              "              title=\"Convert this dataframe to an interactive table.\"\n",
              "              style=\"display:none;\">\n",
              "        \n",
              "  <svg xmlns=\"http://www.w3.org/2000/svg\" height=\"24px\"viewBox=\"0 0 24 24\"\n",
              "       width=\"24px\">\n",
              "    <path d=\"M0 0h24v24H0V0z\" fill=\"none\"/>\n",
              "    <path d=\"M18.56 5.44l.94 2.06.94-2.06 2.06-.94-2.06-.94-.94-2.06-.94 2.06-2.06.94zm-11 1L8.5 8.5l.94-2.06 2.06-.94-2.06-.94L8.5 2.5l-.94 2.06-2.06.94zm10 10l.94 2.06.94-2.06 2.06-.94-2.06-.94-.94-2.06-.94 2.06-2.06.94z\"/><path d=\"M17.41 7.96l-1.37-1.37c-.4-.4-.92-.59-1.43-.59-.52 0-1.04.2-1.43.59L10.3 9.45l-7.72 7.72c-.78.78-.78 2.05 0 2.83L4 21.41c.39.39.9.59 1.41.59.51 0 1.02-.2 1.41-.59l7.78-7.78 2.81-2.81c.8-.78.8-2.07 0-2.86zM5.41 20L4 18.59l7.72-7.72 1.47 1.35L5.41 20z\"/>\n",
              "  </svg>\n",
              "      </button>\n",
              "      \n",
              "  <style>\n",
              "    .colab-df-container {\n",
              "      display:flex;\n",
              "      flex-wrap:wrap;\n",
              "      gap: 12px;\n",
              "    }\n",
              "\n",
              "    .colab-df-convert {\n",
              "      background-color: #E8F0FE;\n",
              "      border: none;\n",
              "      border-radius: 50%;\n",
              "      cursor: pointer;\n",
              "      display: none;\n",
              "      fill: #1967D2;\n",
              "      height: 32px;\n",
              "      padding: 0 0 0 0;\n",
              "      width: 32px;\n",
              "    }\n",
              "\n",
              "    .colab-df-convert:hover {\n",
              "      background-color: #E2EBFA;\n",
              "      box-shadow: 0px 1px 2px rgba(60, 64, 67, 0.3), 0px 1px 3px 1px rgba(60, 64, 67, 0.15);\n",
              "      fill: #174EA6;\n",
              "    }\n",
              "\n",
              "    [theme=dark] .colab-df-convert {\n",
              "      background-color: #3B4455;\n",
              "      fill: #D2E3FC;\n",
              "    }\n",
              "\n",
              "    [theme=dark] .colab-df-convert:hover {\n",
              "      background-color: #434B5C;\n",
              "      box-shadow: 0px 1px 3px 1px rgba(0, 0, 0, 0.15);\n",
              "      filter: drop-shadow(0px 1px 2px rgba(0, 0, 0, 0.3));\n",
              "      fill: #FFFFFF;\n",
              "    }\n",
              "  </style>\n",
              "\n",
              "      <script>\n",
              "        const buttonEl =\n",
              "          document.querySelector('#df-fdb688d4-ba01-4f25-94a1-1567b08a78be button.colab-df-convert');\n",
              "        buttonEl.style.display =\n",
              "          google.colab.kernel.accessAllowed ? 'block' : 'none';\n",
              "\n",
              "        async function convertToInteractive(key) {\n",
              "          const element = document.querySelector('#df-fdb688d4-ba01-4f25-94a1-1567b08a78be');\n",
              "          const dataTable =\n",
              "            await google.colab.kernel.invokeFunction('convertToInteractive',\n",
              "                                                     [key], {});\n",
              "          if (!dataTable) return;\n",
              "\n",
              "          const docLinkHtml = 'Like what you see? Visit the ' +\n",
              "            '<a target=\"_blank\" href=https://colab.research.google.com/notebooks/data_table.ipynb>data table notebook</a>'\n",
              "            + ' to learn more about interactive tables.';\n",
              "          element.innerHTML = '';\n",
              "          dataTable['output_type'] = 'display_data';\n",
              "          await google.colab.output.renderOutput(dataTable, element);\n",
              "          const docLink = document.createElement('div');\n",
              "          docLink.innerHTML = docLinkHtml;\n",
              "          element.appendChild(docLink);\n",
              "        }\n",
              "      </script>\n",
              "    </div>\n",
              "  </div>\n",
              "  "
            ]
          },
          "metadata": {},
          "execution_count": 26
        }
      ]
    },
    {
      "cell_type": "code",
      "source": [
        "dados.modelo_aleatorio.unique()"
      ],
      "metadata": {
        "colab": {
          "base_uri": "https://localhost:8080/"
        },
        "id": "s_k-d8VLZRAp",
        "outputId": "14ae99fd-2db9-4352-beaa-f2a8dab484d9"
      },
      "execution_count": 27,
      "outputs": [
        {
          "output_type": "execute_result",
          "data": {
            "text/plain": [
              "array([16, 22, 12,  4,  3, 11, 18, 17, 13,  0, 15, 10,  9, 14,  1,  5, 19,\n",
              "       21,  8,  7, 20,  6,  2, -1])"
            ]
          },
          "metadata": {},
          "execution_count": 27
        }
      ]
    },
    {
      "cell_type": "code",
      "source": [
        "dados.modelo_aleatorio.min()"
      ],
      "metadata": {
        "colab": {
          "base_uri": "https://localhost:8080/"
        },
        "id": "wGWoD-xOZSw3",
        "outputId": "f5ba96ad-c091-420e-b3eb-06497c2046b3"
      },
      "execution_count": 28,
      "outputs": [
        {
          "output_type": "execute_result",
          "data": {
            "text/plain": [
              "-1"
            ]
          },
          "metadata": {},
          "execution_count": 28
        }
      ]
    },
    {
      "cell_type": "code",
      "source": [
        "abs(dados.modelo_aleatorio.min())"
      ],
      "metadata": {
        "colab": {
          "base_uri": "https://localhost:8080/"
        },
        "id": "1I09EJwmZUAm",
        "outputId": "42ee7138-b332-46ad-d468-fd22b60b15d8"
      },
      "execution_count": 29,
      "outputs": [
        {
          "output_type": "execute_result",
          "data": {
            "text/plain": [
              "1"
            ]
          },
          "metadata": {},
          "execution_count": 29
        }
      ]
    },
    {
      "cell_type": "code",
      "source": [
        "# como temos um modelo -1 que parece estranho, deixamos ele de forma absoluta \n",
        "# tirando o negativo dele\n",
        "dados.modelo_aleatorio = dados.modelo_aleatorio + abs(dados.modelo_aleatorio.min())\n",
        "dados.head()"
      ],
      "metadata": {
        "colab": {
          "base_uri": "https://localhost:8080/",
          "height": 206
        },
        "id": "gX7P3dNbZVcr",
        "outputId": "d16037ad-9826-4207-8209-07007ae1b30a"
      },
      "execution_count": 30,
      "outputs": [
        {
          "output_type": "execute_result",
          "data": {
            "text/plain": [
              "       preco  vendido  idade_do_modelo   km_por_ano  modelo_aleatorio\n",
              "0   30941.02        1               18  35085.22134                17\n",
              "1   40557.96        1               20  12622.05362                23\n",
              "2   89627.50        0               12  11440.79806                13\n",
              "3   95276.14        0                3  43167.32682                 5\n",
              "4  117384.68        1                4  12770.11290                 4"
            ],
            "text/html": [
              "\n",
              "  <div id=\"df-4bd103bd-7c07-409e-91a0-17fe9f87be3e\">\n",
              "    <div class=\"colab-df-container\">\n",
              "      <div>\n",
              "<style scoped>\n",
              "    .dataframe tbody tr th:only-of-type {\n",
              "        vertical-align: middle;\n",
              "    }\n",
              "\n",
              "    .dataframe tbody tr th {\n",
              "        vertical-align: top;\n",
              "    }\n",
              "\n",
              "    .dataframe thead th {\n",
              "        text-align: right;\n",
              "    }\n",
              "</style>\n",
              "<table border=\"1\" class=\"dataframe\">\n",
              "  <thead>\n",
              "    <tr style=\"text-align: right;\">\n",
              "      <th></th>\n",
              "      <th>preco</th>\n",
              "      <th>vendido</th>\n",
              "      <th>idade_do_modelo</th>\n",
              "      <th>km_por_ano</th>\n",
              "      <th>modelo_aleatorio</th>\n",
              "    </tr>\n",
              "  </thead>\n",
              "  <tbody>\n",
              "    <tr>\n",
              "      <th>0</th>\n",
              "      <td>30941.02</td>\n",
              "      <td>1</td>\n",
              "      <td>18</td>\n",
              "      <td>35085.22134</td>\n",
              "      <td>17</td>\n",
              "    </tr>\n",
              "    <tr>\n",
              "      <th>1</th>\n",
              "      <td>40557.96</td>\n",
              "      <td>1</td>\n",
              "      <td>20</td>\n",
              "      <td>12622.05362</td>\n",
              "      <td>23</td>\n",
              "    </tr>\n",
              "    <tr>\n",
              "      <th>2</th>\n",
              "      <td>89627.50</td>\n",
              "      <td>0</td>\n",
              "      <td>12</td>\n",
              "      <td>11440.79806</td>\n",
              "      <td>13</td>\n",
              "    </tr>\n",
              "    <tr>\n",
              "      <th>3</th>\n",
              "      <td>95276.14</td>\n",
              "      <td>0</td>\n",
              "      <td>3</td>\n",
              "      <td>43167.32682</td>\n",
              "      <td>5</td>\n",
              "    </tr>\n",
              "    <tr>\n",
              "      <th>4</th>\n",
              "      <td>117384.68</td>\n",
              "      <td>1</td>\n",
              "      <td>4</td>\n",
              "      <td>12770.11290</td>\n",
              "      <td>4</td>\n",
              "    </tr>\n",
              "  </tbody>\n",
              "</table>\n",
              "</div>\n",
              "      <button class=\"colab-df-convert\" onclick=\"convertToInteractive('df-4bd103bd-7c07-409e-91a0-17fe9f87be3e')\"\n",
              "              title=\"Convert this dataframe to an interactive table.\"\n",
              "              style=\"display:none;\">\n",
              "        \n",
              "  <svg xmlns=\"http://www.w3.org/2000/svg\" height=\"24px\"viewBox=\"0 0 24 24\"\n",
              "       width=\"24px\">\n",
              "    <path d=\"M0 0h24v24H0V0z\" fill=\"none\"/>\n",
              "    <path d=\"M18.56 5.44l.94 2.06.94-2.06 2.06-.94-2.06-.94-.94-2.06-.94 2.06-2.06.94zm-11 1L8.5 8.5l.94-2.06 2.06-.94-2.06-.94L8.5 2.5l-.94 2.06-2.06.94zm10 10l.94 2.06.94-2.06 2.06-.94-2.06-.94-.94-2.06-.94 2.06-2.06.94z\"/><path d=\"M17.41 7.96l-1.37-1.37c-.4-.4-.92-.59-1.43-.59-.52 0-1.04.2-1.43.59L10.3 9.45l-7.72 7.72c-.78.78-.78 2.05 0 2.83L4 21.41c.39.39.9.59 1.41.59.51 0 1.02-.2 1.41-.59l7.78-7.78 2.81-2.81c.8-.78.8-2.07 0-2.86zM5.41 20L4 18.59l7.72-7.72 1.47 1.35L5.41 20z\"/>\n",
              "  </svg>\n",
              "      </button>\n",
              "      \n",
              "  <style>\n",
              "    .colab-df-container {\n",
              "      display:flex;\n",
              "      flex-wrap:wrap;\n",
              "      gap: 12px;\n",
              "    }\n",
              "\n",
              "    .colab-df-convert {\n",
              "      background-color: #E8F0FE;\n",
              "      border: none;\n",
              "      border-radius: 50%;\n",
              "      cursor: pointer;\n",
              "      display: none;\n",
              "      fill: #1967D2;\n",
              "      height: 32px;\n",
              "      padding: 0 0 0 0;\n",
              "      width: 32px;\n",
              "    }\n",
              "\n",
              "    .colab-df-convert:hover {\n",
              "      background-color: #E2EBFA;\n",
              "      box-shadow: 0px 1px 2px rgba(60, 64, 67, 0.3), 0px 1px 3px 1px rgba(60, 64, 67, 0.15);\n",
              "      fill: #174EA6;\n",
              "    }\n",
              "\n",
              "    [theme=dark] .colab-df-convert {\n",
              "      background-color: #3B4455;\n",
              "      fill: #D2E3FC;\n",
              "    }\n",
              "\n",
              "    [theme=dark] .colab-df-convert:hover {\n",
              "      background-color: #434B5C;\n",
              "      box-shadow: 0px 1px 3px 1px rgba(0, 0, 0, 0.15);\n",
              "      filter: drop-shadow(0px 1px 2px rgba(0, 0, 0, 0.3));\n",
              "      fill: #FFFFFF;\n",
              "    }\n",
              "  </style>\n",
              "\n",
              "      <script>\n",
              "        const buttonEl =\n",
              "          document.querySelector('#df-4bd103bd-7c07-409e-91a0-17fe9f87be3e button.colab-df-convert');\n",
              "        buttonEl.style.display =\n",
              "          google.colab.kernel.accessAllowed ? 'block' : 'none';\n",
              "\n",
              "        async function convertToInteractive(key) {\n",
              "          const element = document.querySelector('#df-4bd103bd-7c07-409e-91a0-17fe9f87be3e');\n",
              "          const dataTable =\n",
              "            await google.colab.kernel.invokeFunction('convertToInteractive',\n",
              "                                                     [key], {});\n",
              "          if (!dataTable) return;\n",
              "\n",
              "          const docLinkHtml = 'Like what you see? Visit the ' +\n",
              "            '<a target=\"_blank\" href=https://colab.research.google.com/notebooks/data_table.ipynb>data table notebook</a>'\n",
              "            + ' to learn more about interactive tables.';\n",
              "          element.innerHTML = '';\n",
              "          dataTable['output_type'] = 'display_data';\n",
              "          await google.colab.output.renderOutput(dataTable, element);\n",
              "          const docLink = document.createElement('div');\n",
              "          docLink.innerHTML = docLinkHtml;\n",
              "          element.appendChild(docLink);\n",
              "        }\n",
              "      </script>\n",
              "    </div>\n",
              "  </div>\n",
              "  "
            ]
          },
          "metadata": {},
          "execution_count": 30
        }
      ]
    },
    {
      "cell_type": "code",
      "source": [
        "dados.modelo_aleatorio.min()"
      ],
      "metadata": {
        "colab": {
          "base_uri": "https://localhost:8080/"
        },
        "id": "pbSh9mc2ZWwA",
        "outputId": "395e2e1e-0f22-4546-dffa-756d6602f9ad"
      },
      "execution_count": 31,
      "outputs": [
        {
          "output_type": "execute_result",
          "data": {
            "text/plain": [
              "0"
            ]
          },
          "metadata": {},
          "execution_count": 31
        }
      ]
    },
    {
      "cell_type": "code",
      "source": [
        "# o modelo de carro inicial é 1\n",
        "dados.modelo_aleatorio = dados.modelo_aleatorio + abs(dados.modelo_aleatorio.min()) + 1\n",
        "dados.head()"
      ],
      "metadata": {
        "colab": {
          "base_uri": "https://localhost:8080/",
          "height": 206
        },
        "id": "s9aDzEvGZX_z",
        "outputId": "04cdc5b9-e29a-4679-b971-39e6fa613d86"
      },
      "execution_count": 42,
      "outputs": [
        {
          "output_type": "execute_result",
          "data": {
            "text/plain": [
              "       preco  vendido  idade_do_modelo   km_por_ano  modelo_aleatorio  modelo\n",
              "0   30941.02        1               18  35085.22134                24      16\n",
              "1   40557.96        1               20  12622.05362                30      22\n",
              "2   89627.50        0               12  11440.79806                20      12\n",
              "3   95276.14        0                3  43167.32682                12       4\n",
              "4  117384.68        1                4  12770.11290                11       3"
            ],
            "text/html": [
              "\n",
              "  <div id=\"df-3f160173-8270-42a6-b20b-e2c3860daa9c\">\n",
              "    <div class=\"colab-df-container\">\n",
              "      <div>\n",
              "<style scoped>\n",
              "    .dataframe tbody tr th:only-of-type {\n",
              "        vertical-align: middle;\n",
              "    }\n",
              "\n",
              "    .dataframe tbody tr th {\n",
              "        vertical-align: top;\n",
              "    }\n",
              "\n",
              "    .dataframe thead th {\n",
              "        text-align: right;\n",
              "    }\n",
              "</style>\n",
              "<table border=\"1\" class=\"dataframe\">\n",
              "  <thead>\n",
              "    <tr style=\"text-align: right;\">\n",
              "      <th></th>\n",
              "      <th>preco</th>\n",
              "      <th>vendido</th>\n",
              "      <th>idade_do_modelo</th>\n",
              "      <th>km_por_ano</th>\n",
              "      <th>modelo_aleatorio</th>\n",
              "      <th>modelo</th>\n",
              "    </tr>\n",
              "  </thead>\n",
              "  <tbody>\n",
              "    <tr>\n",
              "      <th>0</th>\n",
              "      <td>30941.02</td>\n",
              "      <td>1</td>\n",
              "      <td>18</td>\n",
              "      <td>35085.22134</td>\n",
              "      <td>24</td>\n",
              "      <td>16</td>\n",
              "    </tr>\n",
              "    <tr>\n",
              "      <th>1</th>\n",
              "      <td>40557.96</td>\n",
              "      <td>1</td>\n",
              "      <td>20</td>\n",
              "      <td>12622.05362</td>\n",
              "      <td>30</td>\n",
              "      <td>22</td>\n",
              "    </tr>\n",
              "    <tr>\n",
              "      <th>2</th>\n",
              "      <td>89627.50</td>\n",
              "      <td>0</td>\n",
              "      <td>12</td>\n",
              "      <td>11440.79806</td>\n",
              "      <td>20</td>\n",
              "      <td>12</td>\n",
              "    </tr>\n",
              "    <tr>\n",
              "      <th>3</th>\n",
              "      <td>95276.14</td>\n",
              "      <td>0</td>\n",
              "      <td>3</td>\n",
              "      <td>43167.32682</td>\n",
              "      <td>12</td>\n",
              "      <td>4</td>\n",
              "    </tr>\n",
              "    <tr>\n",
              "      <th>4</th>\n",
              "      <td>117384.68</td>\n",
              "      <td>1</td>\n",
              "      <td>4</td>\n",
              "      <td>12770.11290</td>\n",
              "      <td>11</td>\n",
              "      <td>3</td>\n",
              "    </tr>\n",
              "  </tbody>\n",
              "</table>\n",
              "</div>\n",
              "      <button class=\"colab-df-convert\" onclick=\"convertToInteractive('df-3f160173-8270-42a6-b20b-e2c3860daa9c')\"\n",
              "              title=\"Convert this dataframe to an interactive table.\"\n",
              "              style=\"display:none;\">\n",
              "        \n",
              "  <svg xmlns=\"http://www.w3.org/2000/svg\" height=\"24px\"viewBox=\"0 0 24 24\"\n",
              "       width=\"24px\">\n",
              "    <path d=\"M0 0h24v24H0V0z\" fill=\"none\"/>\n",
              "    <path d=\"M18.56 5.44l.94 2.06.94-2.06 2.06-.94-2.06-.94-.94-2.06-.94 2.06-2.06.94zm-11 1L8.5 8.5l.94-2.06 2.06-.94-2.06-.94L8.5 2.5l-.94 2.06-2.06.94zm10 10l.94 2.06.94-2.06 2.06-.94-2.06-.94-.94-2.06-.94 2.06-2.06.94z\"/><path d=\"M17.41 7.96l-1.37-1.37c-.4-.4-.92-.59-1.43-.59-.52 0-1.04.2-1.43.59L10.3 9.45l-7.72 7.72c-.78.78-.78 2.05 0 2.83L4 21.41c.39.39.9.59 1.41.59.51 0 1.02-.2 1.41-.59l7.78-7.78 2.81-2.81c.8-.78.8-2.07 0-2.86zM5.41 20L4 18.59l7.72-7.72 1.47 1.35L5.41 20z\"/>\n",
              "  </svg>\n",
              "      </button>\n",
              "      \n",
              "  <style>\n",
              "    .colab-df-container {\n",
              "      display:flex;\n",
              "      flex-wrap:wrap;\n",
              "      gap: 12px;\n",
              "    }\n",
              "\n",
              "    .colab-df-convert {\n",
              "      background-color: #E8F0FE;\n",
              "      border: none;\n",
              "      border-radius: 50%;\n",
              "      cursor: pointer;\n",
              "      display: none;\n",
              "      fill: #1967D2;\n",
              "      height: 32px;\n",
              "      padding: 0 0 0 0;\n",
              "      width: 32px;\n",
              "    }\n",
              "\n",
              "    .colab-df-convert:hover {\n",
              "      background-color: #E2EBFA;\n",
              "      box-shadow: 0px 1px 2px rgba(60, 64, 67, 0.3), 0px 1px 3px 1px rgba(60, 64, 67, 0.15);\n",
              "      fill: #174EA6;\n",
              "    }\n",
              "\n",
              "    [theme=dark] .colab-df-convert {\n",
              "      background-color: #3B4455;\n",
              "      fill: #D2E3FC;\n",
              "    }\n",
              "\n",
              "    [theme=dark] .colab-df-convert:hover {\n",
              "      background-color: #434B5C;\n",
              "      box-shadow: 0px 1px 3px 1px rgba(0, 0, 0, 0.15);\n",
              "      filter: drop-shadow(0px 1px 2px rgba(0, 0, 0, 0.3));\n",
              "      fill: #FFFFFF;\n",
              "    }\n",
              "  </style>\n",
              "\n",
              "      <script>\n",
              "        const buttonEl =\n",
              "          document.querySelector('#df-3f160173-8270-42a6-b20b-e2c3860daa9c button.colab-df-convert');\n",
              "        buttonEl.style.display =\n",
              "          google.colab.kernel.accessAllowed ? 'block' : 'none';\n",
              "\n",
              "        async function convertToInteractive(key) {\n",
              "          const element = document.querySelector('#df-3f160173-8270-42a6-b20b-e2c3860daa9c');\n",
              "          const dataTable =\n",
              "            await google.colab.kernel.invokeFunction('convertToInteractive',\n",
              "                                                     [key], {});\n",
              "          if (!dataTable) return;\n",
              "\n",
              "          const docLinkHtml = 'Like what you see? Visit the ' +\n",
              "            '<a target=\"_blank\" href=https://colab.research.google.com/notebooks/data_table.ipynb>data table notebook</a>'\n",
              "            + ' to learn more about interactive tables.';\n",
              "          element.innerHTML = '';\n",
              "          dataTable['output_type'] = 'display_data';\n",
              "          await google.colab.output.renderOutput(dataTable, element);\n",
              "          const docLink = document.createElement('div');\n",
              "          docLink.innerHTML = docLinkHtml;\n",
              "          element.appendChild(docLink);\n",
              "        }\n",
              "      </script>\n",
              "    </div>\n",
              "  </div>\n",
              "  "
            ]
          },
          "metadata": {},
          "execution_count": 42
        }
      ]
    },
    {
      "cell_type": "code",
      "source": [
        "dados.modelo_aleatorio.unique()"
      ],
      "metadata": {
        "colab": {
          "base_uri": "https://localhost:8080/"
        },
        "id": "k20x_xHeZeuV",
        "outputId": "b74d6fb2-5f4c-4852-c8a0-8c94b6f18f8e"
      },
      "execution_count": 43,
      "outputs": [
        {
          "output_type": "execute_result",
          "data": {
            "text/plain": [
              "array([24, 30, 20, 12, 11, 19, 26, 25, 21,  8, 23, 18, 17, 22,  9, 13, 27,\n",
              "       29, 16, 15, 28, 14, 10,  7])"
            ]
          },
          "metadata": {},
          "execution_count": 43
        }
      ]
    },
    {
      "cell_type": "code",
      "source": [
        "np.random.seed(SEED)\n",
        "dados['modelo'] = dados.idade_do_modelo + np.random.randint(-2, 3, size=10000)\n",
        "dados.modelo = dados.modelo + abs(dados.modelo.min()) + 1\n",
        "dados.head()"
      ],
      "metadata": {
        "colab": {
          "base_uri": "https://localhost:8080/",
          "height": 206
        },
        "id": "QR9k1RGlZdDj",
        "outputId": "4efbea67-c5cc-41db-c199-c472f037ae30"
      },
      "execution_count": 59,
      "outputs": [
        {
          "output_type": "execute_result",
          "data": {
            "text/plain": [
              "       preco  vendido  idade_do_modelo   km_por_ano  modelo_aleatorio  modelo\n",
              "0   30941.02        1               18  35085.22134                48      18\n",
              "1   40557.96        1               20  12622.05362                54      24\n",
              "2   89627.50        0               12  11440.79806                44      14\n",
              "3   95276.14        0                3  43167.32682                36       6\n",
              "4  117384.68        1                4  12770.11290                35       5"
            ],
            "text/html": [
              "\n",
              "  <div id=\"df-c8fd1c21-bed4-402f-9799-0959d0c02f72\">\n",
              "    <div class=\"colab-df-container\">\n",
              "      <div>\n",
              "<style scoped>\n",
              "    .dataframe tbody tr th:only-of-type {\n",
              "        vertical-align: middle;\n",
              "    }\n",
              "\n",
              "    .dataframe tbody tr th {\n",
              "        vertical-align: top;\n",
              "    }\n",
              "\n",
              "    .dataframe thead th {\n",
              "        text-align: right;\n",
              "    }\n",
              "</style>\n",
              "<table border=\"1\" class=\"dataframe\">\n",
              "  <thead>\n",
              "    <tr style=\"text-align: right;\">\n",
              "      <th></th>\n",
              "      <th>preco</th>\n",
              "      <th>vendido</th>\n",
              "      <th>idade_do_modelo</th>\n",
              "      <th>km_por_ano</th>\n",
              "      <th>modelo_aleatorio</th>\n",
              "      <th>modelo</th>\n",
              "    </tr>\n",
              "  </thead>\n",
              "  <tbody>\n",
              "    <tr>\n",
              "      <th>0</th>\n",
              "      <td>30941.02</td>\n",
              "      <td>1</td>\n",
              "      <td>18</td>\n",
              "      <td>35085.22134</td>\n",
              "      <td>48</td>\n",
              "      <td>18</td>\n",
              "    </tr>\n",
              "    <tr>\n",
              "      <th>1</th>\n",
              "      <td>40557.96</td>\n",
              "      <td>1</td>\n",
              "      <td>20</td>\n",
              "      <td>12622.05362</td>\n",
              "      <td>54</td>\n",
              "      <td>24</td>\n",
              "    </tr>\n",
              "    <tr>\n",
              "      <th>2</th>\n",
              "      <td>89627.50</td>\n",
              "      <td>0</td>\n",
              "      <td>12</td>\n",
              "      <td>11440.79806</td>\n",
              "      <td>44</td>\n",
              "      <td>14</td>\n",
              "    </tr>\n",
              "    <tr>\n",
              "      <th>3</th>\n",
              "      <td>95276.14</td>\n",
              "      <td>0</td>\n",
              "      <td>3</td>\n",
              "      <td>43167.32682</td>\n",
              "      <td>36</td>\n",
              "      <td>6</td>\n",
              "    </tr>\n",
              "    <tr>\n",
              "      <th>4</th>\n",
              "      <td>117384.68</td>\n",
              "      <td>1</td>\n",
              "      <td>4</td>\n",
              "      <td>12770.11290</td>\n",
              "      <td>35</td>\n",
              "      <td>5</td>\n",
              "    </tr>\n",
              "  </tbody>\n",
              "</table>\n",
              "</div>\n",
              "      <button class=\"colab-df-convert\" onclick=\"convertToInteractive('df-c8fd1c21-bed4-402f-9799-0959d0c02f72')\"\n",
              "              title=\"Convert this dataframe to an interactive table.\"\n",
              "              style=\"display:none;\">\n",
              "        \n",
              "  <svg xmlns=\"http://www.w3.org/2000/svg\" height=\"24px\"viewBox=\"0 0 24 24\"\n",
              "       width=\"24px\">\n",
              "    <path d=\"M0 0h24v24H0V0z\" fill=\"none\"/>\n",
              "    <path d=\"M18.56 5.44l.94 2.06.94-2.06 2.06-.94-2.06-.94-.94-2.06-.94 2.06-2.06.94zm-11 1L8.5 8.5l.94-2.06 2.06-.94-2.06-.94L8.5 2.5l-.94 2.06-2.06.94zm10 10l.94 2.06.94-2.06 2.06-.94-2.06-.94-.94-2.06-.94 2.06-2.06.94z\"/><path d=\"M17.41 7.96l-1.37-1.37c-.4-.4-.92-.59-1.43-.59-.52 0-1.04.2-1.43.59L10.3 9.45l-7.72 7.72c-.78.78-.78 2.05 0 2.83L4 21.41c.39.39.9.59 1.41.59.51 0 1.02-.2 1.41-.59l7.78-7.78 2.81-2.81c.8-.78.8-2.07 0-2.86zM5.41 20L4 18.59l7.72-7.72 1.47 1.35L5.41 20z\"/>\n",
              "  </svg>\n",
              "      </button>\n",
              "      \n",
              "  <style>\n",
              "    .colab-df-container {\n",
              "      display:flex;\n",
              "      flex-wrap:wrap;\n",
              "      gap: 12px;\n",
              "    }\n",
              "\n",
              "    .colab-df-convert {\n",
              "      background-color: #E8F0FE;\n",
              "      border: none;\n",
              "      border-radius: 50%;\n",
              "      cursor: pointer;\n",
              "      display: none;\n",
              "      fill: #1967D2;\n",
              "      height: 32px;\n",
              "      padding: 0 0 0 0;\n",
              "      width: 32px;\n",
              "    }\n",
              "\n",
              "    .colab-df-convert:hover {\n",
              "      background-color: #E2EBFA;\n",
              "      box-shadow: 0px 1px 2px rgba(60, 64, 67, 0.3), 0px 1px 3px 1px rgba(60, 64, 67, 0.15);\n",
              "      fill: #174EA6;\n",
              "    }\n",
              "\n",
              "    [theme=dark] .colab-df-convert {\n",
              "      background-color: #3B4455;\n",
              "      fill: #D2E3FC;\n",
              "    }\n",
              "\n",
              "    [theme=dark] .colab-df-convert:hover {\n",
              "      background-color: #434B5C;\n",
              "      box-shadow: 0px 1px 3px 1px rgba(0, 0, 0, 0.15);\n",
              "      filter: drop-shadow(0px 1px 2px rgba(0, 0, 0, 0.3));\n",
              "      fill: #FFFFFF;\n",
              "    }\n",
              "  </style>\n",
              "\n",
              "      <script>\n",
              "        const buttonEl =\n",
              "          document.querySelector('#df-c8fd1c21-bed4-402f-9799-0959d0c02f72 button.colab-df-convert');\n",
              "        buttonEl.style.display =\n",
              "          google.colab.kernel.accessAllowed ? 'block' : 'none';\n",
              "\n",
              "        async function convertToInteractive(key) {\n",
              "          const element = document.querySelector('#df-c8fd1c21-bed4-402f-9799-0959d0c02f72');\n",
              "          const dataTable =\n",
              "            await google.colab.kernel.invokeFunction('convertToInteractive',\n",
              "                                                     [key], {});\n",
              "          if (!dataTable) return;\n",
              "\n",
              "          const docLinkHtml = 'Like what you see? Visit the ' +\n",
              "            '<a target=\"_blank\" href=https://colab.research.google.com/notebooks/data_table.ipynb>data table notebook</a>'\n",
              "            + ' to learn more about interactive tables.';\n",
              "          element.innerHTML = '';\n",
              "          dataTable['output_type'] = 'display_data';\n",
              "          await google.colab.output.renderOutput(dataTable, element);\n",
              "          const docLink = document.createElement('div');\n",
              "          docLink.innerHTML = docLinkHtml;\n",
              "          element.appendChild(docLink);\n",
              "        }\n",
              "      </script>\n",
              "    </div>\n",
              "  </div>\n",
              "  "
            ]
          },
          "metadata": {},
          "execution_count": 59
        }
      ]
    },
    {
      "cell_type": "code",
      "source": [
        "dados.modelo.unique()"
      ],
      "metadata": {
        "colab": {
          "base_uri": "https://localhost:8080/"
        },
        "id": "ZQn8VBinZgH5",
        "outputId": "c094eef4-e2f0-42ba-b582-10bd4a2c3a7d"
      },
      "execution_count": 50,
      "outputs": [
        {
          "output_type": "execute_result",
          "data": {
            "text/plain": [
              "array([18, 24, 14,  6,  5, 13, 20, 19, 15,  2, 17, 12, 11, 16,  3,  7, 21,\n",
              "       23, 10,  9, 22,  8,  4,  1])"
            ]
          },
          "metadata": {},
          "execution_count": 50
        }
      ]
    },
    {
      "cell_type": "code",
      "source": [
        "dados.modelo.value_counts()"
      ],
      "metadata": {
        "colab": {
          "base_uri": "https://localhost:8080/"
        },
        "id": "TVIRB22jZh4_",
        "outputId": "6ef61420-690e-4dd9-f759-d043212810f2"
      },
      "execution_count": 51,
      "outputs": [
        {
          "output_type": "execute_result",
          "data": {
            "text/plain": [
              "20    901\n",
              "19    798\n",
              "18    771\n",
              "21    723\n",
              "17    709\n",
              "16    668\n",
              "14    621\n",
              "22    575\n",
              "15    573\n",
              "13    557\n",
              "12    511\n",
              "11    401\n",
              "10    371\n",
              "23    370\n",
              "9     336\n",
              "8     278\n",
              "7     206\n",
              "24    199\n",
              "6     181\n",
              "5     108\n",
              "4      76\n",
              "3      44\n",
              "2      17\n",
              "1       6\n",
              "Name: modelo, dtype: int64"
            ]
          },
          "metadata": {},
          "execution_count": 51
        }
      ]
    },
    {
      "cell_type": "code",
      "source": [
        "# testando o estimador e é muito importante escolhe o treino e teste ideal\n",
        "# o stratified ele ignora o agrupamento, então os agrupamentos de modelo que aparecer\n",
        "# no treino, vai aparecer no teste, por isso que o resultado é bom\n",
        "from sklearn.model_selection import StratifiedKFold\n",
        "\n",
        "SEED = 301\n",
        "np.random.seed(SEED)\n",
        "\n",
        "cv = StratifiedKFold(n_splits = 10, shuffle=True)\n",
        "modelo = DecisionTreeClassifier(max_depth=2)\n",
        "results = cross_validate(modelo, x_azar, y_azar, cv = cv, return_train_score=False)\n",
        "imprime_resultados(results)"
      ],
      "metadata": {
        "colab": {
          "base_uri": "https://localhost:8080/"
        },
        "id": "A5ROkDS5ZkT6",
        "outputId": "0b6ea18f-4eeb-4209-9d7a-5bfb424ee19a"
      },
      "execution_count": 52,
      "outputs": [
        {
          "output_type": "stream",
          "name": "stdout",
          "text": [
            "Accuracy médio: 75.78\n",
            "Accuracy intervalo: [73.55, 78.01]\n"
          ]
        }
      ]
    },
    {
      "cell_type": "code",
      "source": [
        "# o kfold é a mesma situação, ele usa os dados de treino para o teste\n",
        "from sklearn.model_selection import KFold\n",
        "\n",
        "SEED = 301\n",
        "np.random.seed(SEED)\n",
        "\n",
        "cv = KFold(n_splits = 10)\n",
        "modelo = DecisionTreeClassifier(max_depth=2)\n",
        "results = cross_validate(modelo, x_azar, y_azar, cv = cv, return_train_score=False)\n",
        "imprime_resultados(results)"
      ],
      "metadata": {
        "colab": {
          "base_uri": "https://localhost:8080/"
        },
        "id": "URlEK9NYcZU5",
        "outputId": "e308dd4c-8042-4cc0-bbdd-925cf3006003"
      },
      "execution_count": 54,
      "outputs": [
        {
          "output_type": "stream",
          "name": "stdout",
          "text": [
            "Accuracy médio: 57.84\n",
            "Accuracy intervalo: [34.29, 81.39]\n"
          ]
        }
      ]
    },
    {
      "cell_type": "code",
      "source": [
        "# Quando utilizamos o GroupKFold, tem que deixar definidos os grupos que gostaria de agrupar e a coluna do grupo.\n",
        "from sklearn.model_selection import GroupKFold\n",
        "\n",
        "SEED = 301\n",
        "np.random.seed(SEED)\n",
        "\n",
        "cv = GroupKFold(n_splits = 10)\n",
        "modelo = DecisionTreeClassifier(max_depth=2)\n",
        "results = cross_validate(modelo, x_azar, y_azar, cv = cv, groups = dados.modelo, return_train_score=False)\n",
        "imprime_resultados(results)\n",
        "# a acurraci ta bem próximo do stratified, isso acontece pq os carros em si\n",
        "# são similares entre si, mesmo separando os dados de treino e os dados para teste\n",
        "# os dado ainda tem uma certa similaridade, agora, se aparecer um carro totalmente\n",
        "# diferente, um carro voador, creio que o resultado seria diferente"
      ],
      "metadata": {
        "colab": {
          "base_uri": "https://localhost:8080/"
        },
        "id": "_uMTabgLcbus",
        "outputId": "db4035ca-26d1-4ecb-db25-f1a3de744722"
      },
      "execution_count": 61,
      "outputs": [
        {
          "output_type": "stream",
          "name": "stdout",
          "text": [
            "Accuracy médio: 75.78\n",
            "Accuracy intervalo: [73.67, 77.90]\n"
          ]
        }
      ]
    },
    {
      "cell_type": "code",
      "source": [
        "# O algoritmo de arvore de decisão, não precisamos padronizar os atributos, mas\n",
        "# para outros algoritmos temos que padronizar, pois são muito sensiveis a escala\n",
        "# dos dados\n",
        "from sklearn.preprocessing import StandardScaler\n",
        "from sklearn.svm import SVC\n",
        "\n",
        "# o scaler n usa seed, mas o svc sim\n",
        "SEED = 301\n",
        "np.random.seed(SEED)\n",
        "\n",
        "scaler = StandardScaler()\n",
        "scaler.fit(treino_x)\n",
        "# padronizando as variaveis\n",
        "treino_x_escalado = scaler.transform(treino_x)\n",
        "teste_x_escalado = scaler.transform(teste_x)\n",
        "\n",
        "modelo = SVC()\n",
        "# treinando o modelo com os dados padronizados\n",
        "modelo.fit(treino_x_escalado, treino_y)\n",
        "previsoes = modelo.predict(teste_x_escalado)\n",
        "\n",
        "acuracia = accuracy_score(teste_y, previsoes) * 100\n",
        "print(\"A acurácia foi de %.2f %%\" % acuracia)"
      ],
      "metadata": {
        "colab": {
          "base_uri": "https://localhost:8080/"
        },
        "id": "CVc3U2BOcpzb",
        "outputId": "2aff4f13-a629-4fd8-c768-e202ba269100"
      },
      "execution_count": 62,
      "outputs": [
        {
          "output_type": "stream",
          "name": "stdout",
          "text": [
            "A acurácia foi de 77.48 %\n"
          ]
        }
      ]
    },
    {
      "cell_type": "code",
      "source": [
        "# cross validation\n",
        "from sklearn.model_selection import GroupKFold\n",
        "\n",
        "SEED = 301\n",
        "np.random.seed(SEED)\n",
        "\n",
        "cv = GroupKFold(n_splits = 10)\n",
        "modelo = SVC()\n",
        "# o svc esta usando dados não padronizados\n",
        "results = cross_validate(modelo, x_azar, y_azar, cv = cv, groups = dados.modelo,return_train_score=False)\n",
        "imprime_resultados(results)"
      ],
      "metadata": {
        "colab": {
          "base_uri": "https://localhost:8080/"
        },
        "id": "QrPlUUo5fNVb",
        "outputId": "62b3bd19-e348-4375-d363-2df97f161406"
      },
      "execution_count": 68,
      "outputs": [
        {
          "output_type": "stream",
          "name": "stdout",
          "text": [
            "Accuracy médio: 77.27\n",
            "Accuracy intervalo: [74.35, 80.20]\n"
          ]
        }
      ]
    },
    {
      "cell_type": "code",
      "source": [
        "# padronizando os dados\n",
        "scaler = StandardScaler()\n",
        "scaler.fit(x_azar)\n",
        "x_azar_escalado = scaler.transform(x_azar)"
      ],
      "metadata": {
        "id": "zFcZd9FEfOsw"
      },
      "execution_count": 64,
      "outputs": []
    },
    {
      "cell_type": "code",
      "source": [
        "x_azar_escalado"
      ],
      "metadata": {
        "colab": {
          "base_uri": "https://localhost:8080/"
        },
        "id": "P5nhBUuBfP7I",
        "outputId": "dc82e2da-45d7-4498-fc46-4abe5bd899cb"
      },
      "execution_count": 65,
      "outputs": [
        {
          "output_type": "execute_result",
          "data": {
            "text/plain": [
              "array([[ 0.3636103 , -0.39591706,  0.24651152],\n",
              "       [ 0.79214444, -0.18257669,  0.03346607],\n",
              "       [ 0.72310419,  1.09746554,  1.66435195],\n",
              "       ...,\n",
              "       [ 0.17822399, -0.60925743, -0.73405662],\n",
              "       [ 0.2248779 ,  0.45744443, -0.39741686],\n",
              "       [-1.34266351,  0.88412517,  1.52099053]])"
            ]
          },
          "metadata": {},
          "execution_count": 65
        }
      ]
    },
    {
      "cell_type": "code",
      "source": [
        "from sklearn.model_selection import GroupKFold\n",
        "\n",
        "SEED = 301\n",
        "np.random.seed(SEED)\n",
        "\n",
        "cv = GroupKFold(n_splits = 10)\n",
        "modelo = SVC()\n",
        "results = cross_validate(modelo, x_azar_escalado, y_azar, cv = cv, groups = dados.modelo,return_train_score=False)\n",
        "imprime_resultados(results)"
      ],
      "metadata": {
        "colab": {
          "base_uri": "https://localhost:8080/"
        },
        "id": "90_NTYR5fRkE",
        "outputId": "cc5693e9-099c-41ad-deb1-7d17fd50c2fb"
      },
      "execution_count": 69,
      "outputs": [
        {
          "output_type": "stream",
          "name": "stdout",
          "text": [
            "Accuracy médio: 76.70\n",
            "Accuracy intervalo: [74.30, 79.10]\n"
          ]
        }
      ]
    },
    {
      "cell_type": "code",
      "source": [
        "# quando padronizamos as variaveis, a gente padronizou pra todos os dados\n",
        "# e depois rodamos o groupkfold 10x, mas para cada rodada do groupkfold\n",
        "# temos que refazer a padronização e rodar o modelo, então fica assim, \n",
        "# padronizamos e rodamos o modelo, voltamos e padronizamos dnv, rodamos o modelo\n",
        "# e vai pra segunda rodada do group e assim por diante, isso é um processo \n",
        "# e o pipeline nos ajuda com isso\n",
        "from sklearn.pipeline import Pipeline\n",
        "\n",
        "scaler = StandardScaler()\n",
        "modelo = SVC()\n",
        "\n",
        "pipeline = Pipeline([('transformacao', scaler), ('estimador', modelo)])\n",
        "\n",
        "cv = GroupKFold(n_splits = 10)\n",
        "result = cross_validate(pipeline, x_azar, y_azar, cv = cv, groups = dados.modelo, return_train_score=False)\n",
        "imprime_resultados(results)\n",
        "\n",
        "# agora para cada um dos processos, ele vai rodar a padronização e o modelo, até dar 10 rodadas\n",
        "# veja que os valores são similares aos antigos modelos, mas os antigos estavam errados\n",
        "# pois rodamos uma vez o scaler para 10 treinos e isso não pode, temos que rodar\n",
        "# n scaler para n treinos"
      ],
      "metadata": {
        "colab": {
          "base_uri": "https://localhost:8080/"
        },
        "id": "oyqhwC-4fVJc",
        "outputId": "2067b697-7f0e-47b2-98d5-792f4f6fe6d6"
      },
      "execution_count": 73,
      "outputs": [
        {
          "output_type": "stream",
          "name": "stdout",
          "text": [
            "Accuracy médio: 76.70\n",
            "Accuracy intervalo: [74.30, 79.10]\n"
          ]
        }
      ]
    },
    {
      "cell_type": "code",
      "source": [],
      "metadata": {
        "id": "XAxDxM3_faYQ"
      },
      "execution_count": null,
      "outputs": []
    }
  ]
}